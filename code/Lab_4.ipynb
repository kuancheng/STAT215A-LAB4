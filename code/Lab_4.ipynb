{
 "cells": [
  {
   "cell_type": "markdown",
   "metadata": {},
   "source": [
    "###Fruit fly Cracker"
   ]
  },
  {
   "cell_type": "code",
   "execution_count": 2,
   "metadata": {
    "collapsed": false
   },
   "outputs": [],
   "source": [
    "import os\n",
    "import pandas as pd\n",
    "from sklearn import cross_validation\n",
    "from sklearn.ensemble import RandomForestClassifier as random_forest\n",
    "from sklearn.metrics import confusion_matrix\n",
    "from sklearn.metrics import accuracy_score\n",
    "import numpy as np\n",
    "\n",
    "\n",
    "import numpy as np\n",
    "import matplotlib.pyplot as plt\n",
    "\n",
    "from sklearn.datasets import make_classification\n",
    "from sklearn.ensemble import ExtraTreesClassifier\n",
    "from sklearn.neighbors import KNeighborsClassifier\n",
    "\n",
    "from sklearn import svm\n",
    "\n",
    "%matplotlib inline\n"
   ]
  },
  {
   "cell_type": "code",
   "execution_count": 256,
   "metadata": {
    "collapsed": false
   },
   "outputs": [],
   "source": [
    "#Setting working directory\n",
    "#os.chdir('/Users/emin/Downloads/Lab4/lab/')\n",
    "#Read the fiji features\n",
    "df_ = pd.read_csv(\"All_Features.csv\")\n",
    "#Read the embryo labels\n",
    "df_el = pd.read_csv('embryo_labels.csv')\n",
    "#del df_['Unnamed: 0']\n",
    "del df_el['Unnamed: 0']"
   ]
  },
  {
   "cell_type": "code",
   "execution_count": 6,
   "metadata": {
    "collapsed": false
   },
   "outputs": [
    {
     "data": {
      "text/plain": [
       "1"
      ]
     },
     "execution_count": 6,
     "metadata": {},
     "output_type": "execute_result"
    }
   ],
   "source": [
    "sum(np.array(df_el.embryo_id) == np.array(df_['Unnamed: 0'].map(lambda x: x/1000)))/len(np.array(df_el.embryo_id))"
   ]
  },
  {
   "cell_type": "code",
   "execution_count": 257,
   "metadata": {
    "collapsed": false
   },
   "outputs": [],
   "source": [
    "#reading the spatial data\n",
    "spatial_train = pd.read_csv('spatial_train.csv')\n",
    "spatial_test = pd.read_csv('spatial_test.csv')\n",
    "n_cols = len(spatial_train.columns)-1\n",
    "\n",
    "#Get the spatial training data (features and labels)\n",
    "X_train = spatial_train.ix[:,range(n_cols)]\n",
    "y_train = spatial_train.ix[:,-1]\n",
    "\n",
    "#Get the testing training data (features and labels)\n",
    "X_test = spatial_test.ix[:,range(n_cols)]\n",
    "y_true = spatial_test.ix[:,-1]"
   ]
  },
  {
   "cell_type": "code",
   "execution_count": 259,
   "metadata": {
    "collapsed": false
   },
   "outputs": [
    {
     "data": {
      "text/plain": [
       "28758"
      ]
     },
     "execution_count": 259,
     "metadata": {},
     "output_type": "execute_result"
    }
   ],
   "source": [
    "len(y_train)"
   ]
  },
  {
   "cell_type": "code",
   "execution_count": 8,
   "metadata": {
    "collapsed": false
   },
   "outputs": [
    {
     "name": "stdout",
     "output_type": "stream",
     "text": [
      "We have 28758 training observations\n",
      "We have 3906 testing observations\n"
     ]
    }
   ],
   "source": [
    "print 'We have ' + str(len(X_train)) + ' training observations'\n",
    "print 'We have ' + str(len(X_test)) + ' testing observations'\n",
    "df_train = df_[0:28758]\n",
    "df_test = df_[28758:]"
   ]
  },
  {
   "cell_type": "code",
   "execution_count": 9,
   "metadata": {
    "collapsed": false
   },
   "outputs": [
    {
     "data": {
      "text/plain": [
       "0"
      ]
     },
     "execution_count": 9,
     "metadata": {},
     "output_type": "execute_result"
    }
   ],
   "source": [
    "#A simple null check to see if everything is right\n",
    "sum(pd.isnull(df_test.Kurtosis1))"
   ]
  },
  {
   "cell_type": "code",
   "execution_count": 10,
   "metadata": {
    "collapsed": false
   },
   "outputs": [
    {
     "name": "stderr",
     "output_type": "stream",
     "text": [
      "/Users/fadikfoury/anaconda/lib/python2.7/site-packages/IPython/kernel/__main__.py:2: SettingWithCopyWarning: \n",
      "A value is trying to be set on a copy of a slice from a DataFrame.\n",
      "Try using .loc[row_indexer,col_indexer] = value instead\n",
      "\n",
      "See the the caveats in the documentation: http://pandas.pydata.org/pandas-docs/stable/indexing.html#indexing-view-versus-copy\n",
      "  from IPython.kernel.zmq import kernelapp as app\n",
      "/Users/fadikfoury/anaconda/lib/python2.7/site-packages/IPython/kernel/__main__.py:3: SettingWithCopyWarning: \n",
      "A value is trying to be set on a copy of a slice from a DataFrame.\n",
      "Try using .loc[row_indexer,col_indexer] = value instead\n",
      "\n",
      "See the the caveats in the documentation: http://pandas.pydata.org/pandas-docs/stable/indexing.html#indexing-view-versus-copy\n",
      "  app.launch_new_instance()\n",
      "/Users/fadikfoury/anaconda/lib/python2.7/site-packages/IPython/kernel/__main__.py:4: SettingWithCopyWarning: \n",
      "A value is trying to be set on a copy of a slice from a DataFrame.\n",
      "Try using .loc[row_indexer,col_indexer] = value instead\n",
      "\n",
      "See the the caveats in the documentation: http://pandas.pydata.org/pandas-docs/stable/indexing.html#indexing-view-versus-copy\n",
      "/Users/fadikfoury/anaconda/lib/python2.7/site-packages/IPython/kernel/__main__.py:6: SettingWithCopyWarning: \n",
      "A value is trying to be set on a copy of a slice from a DataFrame.\n",
      "Try using .loc[row_indexer,col_indexer] = value instead\n",
      "\n",
      "See the the caveats in the documentation: http://pandas.pydata.org/pandas-docs/stable/indexing.html#indexing-view-versus-copy\n",
      "/Users/fadikfoury/anaconda/lib/python2.7/site-packages/IPython/kernel/__main__.py:7: SettingWithCopyWarning: \n",
      "A value is trying to be set on a copy of a slice from a DataFrame.\n",
      "Try using .loc[row_indexer,col_indexer] = value instead\n",
      "\n",
      "See the the caveats in the documentation: http://pandas.pydata.org/pandas-docs/stable/indexing.html#indexing-view-versus-copy\n",
      "/Users/fadikfoury/anaconda/lib/python2.7/site-packages/IPython/kernel/__main__.py:8: SettingWithCopyWarning: \n",
      "A value is trying to be set on a copy of a slice from a DataFrame.\n",
      "Try using .loc[row_indexer,col_indexer] = value instead\n",
      "\n",
      "See the the caveats in the documentation: http://pandas.pydata.org/pandas-docs/stable/indexing.html#indexing-view-versus-copy\n"
     ]
    }
   ],
   "source": [
    "#add the x, y and the distance features\n",
    "df_train['x'] = X_train.x\n",
    "df_train['y'] = X_train.y\n",
    "df_train['distance'] = X_train.distance\n",
    "df_test.index = range(len(df_test))\n",
    "df_test['x'] = X_test.x\n",
    "df_test['y'] = X_test.y\n",
    "df_test['distance'] = X_test.distance"
   ]
  },
  {
   "cell_type": "code",
   "execution_count": 6,
   "metadata": {
    "collapsed": true
   },
   "outputs": [],
   "source": [
    "#Here I will create some dummy fiji features to demonstrate how this module works:\n",
    "#Uncomment the new_fijis and comment the dummy fijis to add ur own fiji features\n",
    "#The fiji features u are adding should be in CSV\n",
    "#Also note that the length of training and testing should be the same as above. Take care\n",
    "#with mapping the correct superpixel fiji features :)\n",
    "\n",
    "#new_fijis_train = pd.csv('fiji_train_file.csv')\n",
    "#new_fijis_test = pd.csv('fiji_test_file.csv')\n",
    "\n",
    "#dummy_fiji_train = pd.DataFrame(data = np.random.randint(low=0,high=10,size=(28758,2)))\n",
    "#dummy_fiji_test = pd.DataFrame(data = np.random.randint(low=0,high=10,size=(3906,2)))"
   ]
  },
  {
   "cell_type": "code",
   "execution_count": 42,
   "metadata": {
    "collapsed": false
   },
   "outputs": [],
   "source": [
    "#Again swap the comments\n",
    "#n_cols_dummy_fiji = len(dummy_fiji_train.columns)\n",
    "#col_names = ['fiji '+str(name) for name in range(n_cols_dummy_fiji)]\n",
    "#X_train[col_names] = dummy_fiji_train\n",
    "#X_test[col_names] = dummy_fiji_test\n",
    "\n",
    "#n_cols_fiji = len(new_fijis.columns) #getting the names of the fiji feature columns\n",
    "#col_names = ['fiji '+str(name) for name in range(n_cols_fiji)] # Cooking new names\n",
    "#X_train[col_names] = new_fijis_train # Inserting the new columns to the spatial data sets\n",
    "#X_test[col_names] = new_fijis_test "
   ]
  },
  {
   "cell_type": "code",
   "execution_count": 43,
   "metadata": {
    "collapsed": false
   },
   "outputs": [
    {
     "data": {
      "text/html": [
       "<div>\n",
       "<table border=\"1\" class=\"dataframe\">\n",
       "  <thead>\n",
       "    <tr style=\"text-align: right;\">\n",
       "      <th></th>\n",
       "      <th>Unnamed: 0</th>\n",
       "      <th>Mean1</th>\n",
       "      <th>Mean2</th>\n",
       "      <th>Mean3</th>\n",
       "      <th>Mean4</th>\n",
       "      <th>Mean5</th>\n",
       "      <th>Mean6</th>\n",
       "      <th>Mean7</th>\n",
       "      <th>Mean8</th>\n",
       "      <th>Mean9</th>\n",
       "      <th>...</th>\n",
       "      <th>Kurtosis4</th>\n",
       "      <th>Kurtosis5</th>\n",
       "      <th>Kurtosis6</th>\n",
       "      <th>Kurtosis7</th>\n",
       "      <th>Kurtosis8</th>\n",
       "      <th>Kurtosis9</th>\n",
       "      <th>Kurtosis10</th>\n",
       "      <th>Kurtosis11</th>\n",
       "      <th>Kurtosis12</th>\n",
       "      <th>Kurtosis13</th>\n",
       "    </tr>\n",
       "  </thead>\n",
       "  <tbody>\n",
       "    <tr>\n",
       "      <th>0</th>\n",
       "      <td>131072</td>\n",
       "      <td>10</td>\n",
       "      <td>-103</td>\n",
       "      <td>0</td>\n",
       "      <td>9</td>\n",
       "      <td>7</td>\n",
       "      <td>0</td>\n",
       "      <td>0</td>\n",
       "      <td>0</td>\n",
       "      <td>0</td>\n",
       "      <td>...</td>\n",
       "      <td>6</td>\n",
       "      <td>1</td>\n",
       "      <td>1</td>\n",
       "      <td>0</td>\n",
       "      <td>0</td>\n",
       "      <td>0</td>\n",
       "      <td>0</td>\n",
       "      <td>1</td>\n",
       "      <td>0</td>\n",
       "      <td>-1</td>\n",
       "    </tr>\n",
       "    <tr>\n",
       "      <th>1</th>\n",
       "      <td>131073</td>\n",
       "      <td>-6</td>\n",
       "      <td>-184</td>\n",
       "      <td>0</td>\n",
       "      <td>24</td>\n",
       "      <td>20</td>\n",
       "      <td>0</td>\n",
       "      <td>0</td>\n",
       "      <td>0</td>\n",
       "      <td>1</td>\n",
       "      <td>...</td>\n",
       "      <td>19</td>\n",
       "      <td>7</td>\n",
       "      <td>2</td>\n",
       "      <td>0</td>\n",
       "      <td>0</td>\n",
       "      <td>0</td>\n",
       "      <td>0</td>\n",
       "      <td>0</td>\n",
       "      <td>0</td>\n",
       "      <td>0</td>\n",
       "    </tr>\n",
       "    <tr>\n",
       "      <th>2</th>\n",
       "      <td>131074</td>\n",
       "      <td>-14</td>\n",
       "      <td>-77</td>\n",
       "      <td>0</td>\n",
       "      <td>6</td>\n",
       "      <td>6</td>\n",
       "      <td>0</td>\n",
       "      <td>0</td>\n",
       "      <td>0</td>\n",
       "      <td>-4</td>\n",
       "      <td>...</td>\n",
       "      <td>9</td>\n",
       "      <td>2</td>\n",
       "      <td>3</td>\n",
       "      <td>0</td>\n",
       "      <td>0</td>\n",
       "      <td>0</td>\n",
       "      <td>-1</td>\n",
       "      <td>5</td>\n",
       "      <td>-1</td>\n",
       "      <td>-1</td>\n",
       "    </tr>\n",
       "    <tr>\n",
       "      <th>3</th>\n",
       "      <td>131075</td>\n",
       "      <td>9</td>\n",
       "      <td>-132</td>\n",
       "      <td>0</td>\n",
       "      <td>29</td>\n",
       "      <td>25</td>\n",
       "      <td>0</td>\n",
       "      <td>0</td>\n",
       "      <td>0</td>\n",
       "      <td>4</td>\n",
       "      <td>...</td>\n",
       "      <td>2</td>\n",
       "      <td>0</td>\n",
       "      <td>0</td>\n",
       "      <td>0</td>\n",
       "      <td>0</td>\n",
       "      <td>0</td>\n",
       "      <td>0</td>\n",
       "      <td>-1</td>\n",
       "      <td>0</td>\n",
       "      <td>0</td>\n",
       "    </tr>\n",
       "    <tr>\n",
       "      <th>4</th>\n",
       "      <td>131076</td>\n",
       "      <td>-13</td>\n",
       "      <td>-175</td>\n",
       "      <td>0</td>\n",
       "      <td>23</td>\n",
       "      <td>19</td>\n",
       "      <td>0</td>\n",
       "      <td>0</td>\n",
       "      <td>0</td>\n",
       "      <td>0</td>\n",
       "      <td>...</td>\n",
       "      <td>7</td>\n",
       "      <td>0</td>\n",
       "      <td>0</td>\n",
       "      <td>0</td>\n",
       "      <td>0</td>\n",
       "      <td>0</td>\n",
       "      <td>0</td>\n",
       "      <td>0</td>\n",
       "      <td>2</td>\n",
       "      <td>2</td>\n",
       "    </tr>\n",
       "  </tbody>\n",
       "</table>\n",
       "<p>5 rows × 66 columns</p>\n",
       "</div>"
      ],
      "text/plain": [
       "   Unnamed: 0  Mean1  Mean2  Mean3  Mean4  Mean5  Mean6  Mean7  Mean8  Mean9  \\\n",
       "0      131072     10   -103      0      9      7      0      0      0      0   \n",
       "1      131073     -6   -184      0     24     20      0      0      0      1   \n",
       "2      131074    -14    -77      0      6      6      0      0      0     -4   \n",
       "3      131075      9   -132      0     29     25      0      0      0      4   \n",
       "4      131076    -13   -175      0     23     19      0      0      0      0   \n",
       "\n",
       "      ...      Kurtosis4  Kurtosis5  Kurtosis6  Kurtosis7  Kurtosis8  \\\n",
       "0     ...              6          1          1          0          0   \n",
       "1     ...             19          7          2          0          0   \n",
       "2     ...              9          2          3          0          0   \n",
       "3     ...              2          0          0          0          0   \n",
       "4     ...              7          0          0          0          0   \n",
       "\n",
       "   Kurtosis9  Kurtosis10  Kurtosis11  Kurtosis12  Kurtosis13  \n",
       "0          0           0           1           0          -1  \n",
       "1          0           0           0           0           0  \n",
       "2          0          -1           5          -1          -1  \n",
       "3          0           0          -1           0           0  \n",
       "4          0           0           0           2           2  \n",
       "\n",
       "[5 rows x 66 columns]"
      ]
     },
     "execution_count": 43,
     "metadata": {},
     "output_type": "execute_result"
    }
   ],
   "source": [
    "#See new features added:\n",
    "df_.head()"
   ]
  },
  {
   "cell_type": "code",
   "execution_count": 132,
   "metadata": {
    "collapsed": false
   },
   "outputs": [
    {
     "data": {
      "text/plain": [
       "170"
      ]
     },
     "execution_count": 132,
     "metadata": {},
     "output_type": "execute_result"
    }
   ],
   "source": [
    "len(df_['Unnamed: 0'].map(lambda x: x/1000).unique())\n"
   ]
  },
  {
   "cell_type": "code",
   "execution_count": 118,
   "metadata": {
    "collapsed": false
   },
   "outputs": [
    {
     "data": {
      "text/plain": [
       "152"
      ]
     },
     "execution_count": 118,
     "metadata": {},
     "output_type": "execute_result"
    }
   ],
   "source": [
    "len(df_train['Unnamed: 0'].map(lambda x: x/1000).unique())\n",
    "\n"
   ]
  },
  {
   "cell_type": "code",
   "execution_count": 46,
   "metadata": {
    "collapsed": false
   },
   "outputs": [
    {
     "name": "stderr",
     "output_type": "stream",
     "text": [
      "/Users/fadikfoury/anaconda/lib/python2.7/site-packages/IPython/kernel/__main__.py:2: SettingWithCopyWarning: \n",
      "A value is trying to be set on a copy of a slice from a DataFrame.\n",
      "Try using .loc[row_indexer,col_indexer] = value instead\n",
      "\n",
      "See the the caveats in the documentation: http://pandas.pydata.org/pandas-docs/stable/indexing.html#indexing-view-versus-copy\n",
      "  from IPython.kernel.zmq import kernelapp as app\n",
      "/Users/fadikfoury/anaconda/lib/python2.7/site-packages/IPython/kernel/__main__.py:4: SettingWithCopyWarning: \n",
      "A value is trying to be set on a copy of a slice from a DataFrame.\n",
      "Try using .loc[row_indexer,col_indexer] = value instead\n",
      "\n",
      "See the the caveats in the documentation: http://pandas.pydata.org/pandas-docs/stable/indexing.html#indexing-view-versus-copy\n"
     ]
    }
   ],
   "source": []
  },
  {
   "cell_type": "code",
   "execution_count": 47,
   "metadata": {
    "collapsed": false
   },
   "outputs": [
    {
     "name": "stderr",
     "output_type": "stream",
     "text": [
      "/Users/fadikfoury/anaconda/lib/python2.7/site-packages/IPython/kernel/__main__.py:2: SettingWithCopyWarning: \n",
      "A value is trying to be set on a copy of a slice from a DataFrame.\n",
      "Try using .loc[row_indexer,col_indexer] = value instead\n",
      "\n",
      "See the the caveats in the documentation: http://pandas.pydata.org/pandas-docs/stable/indexing.html#indexing-view-versus-copy\n",
      "  from IPython.kernel.zmq import kernelapp as app\n"
     ]
    }
   ],
   "source": []
  },
  {
   "cell_type": "code",
   "execution_count": 12,
   "metadata": {
    "collapsed": false
   },
   "outputs": [
    {
     "name": "stderr",
     "output_type": "stream",
     "text": [
      "/Users/fadikfoury/anaconda/lib/python2.7/site-packages/IPython/kernel/__main__.py:11: SettingWithCopyWarning: \n",
      "A value is trying to be set on a copy of a slice from a DataFrame.\n",
      "Try using .loc[row_indexer,col_indexer] = value instead\n",
      "\n",
      "See the the caveats in the documentation: http://pandas.pydata.org/pandas-docs/stable/indexing.html#indexing-view-versus-copy\n",
      "/Users/fadikfoury/anaconda/lib/python2.7/site-packages/IPython/kernel/__main__.py:13: SettingWithCopyWarning: \n",
      "A value is trying to be set on a copy of a slice from a DataFrame.\n",
      "Try using .loc[row_indexer,col_indexer] = value instead\n",
      "\n",
      "See the the caveats in the documentation: http://pandas.pydata.org/pandas-docs/stable/indexing.html#indexing-view-versus-copy\n",
      "/Users/fadikfoury/anaconda/lib/python2.7/site-packages/IPython/kernel/__main__.py:16: SettingWithCopyWarning: \n",
      "A value is trying to be set on a copy of a slice from a DataFrame.\n",
      "Try using .loc[row_indexer,col_indexer] = value instead\n",
      "\n",
      "See the the caveats in the documentation: http://pandas.pydata.org/pandas-docs/stable/indexing.html#indexing-view-versus-copy\n"
     ]
    },
    {
     "name": "stdout",
     "output_type": "stream",
     "text": [
      "1\n",
      "2\n",
      "3\n",
      "4\n",
      "5\n",
      "6\n",
      "7\n",
      "8\n",
      "9\n",
      "10\n",
      "11\n",
      "12\n",
      "13\n",
      "14\n",
      "15\n",
      "16\n",
      "17\n",
      "18\n",
      "19\n",
      "20\n",
      "21\n",
      "22\n",
      "23\n",
      "24\n",
      "25\n",
      "26\n",
      "27\n",
      "28\n",
      "29\n",
      "30\n",
      "31\n",
      "32\n",
      "33\n",
      "34\n",
      "35\n",
      "36\n",
      "37\n",
      "38\n",
      "39\n",
      "40\n",
      "41\n",
      "42\n",
      "43\n",
      "44\n",
      "45\n",
      "46\n",
      "47\n",
      "48\n",
      "49\n",
      "50\n",
      "51\n",
      "52\n",
      "53\n",
      "54\n",
      "55\n",
      "56\n",
      "57\n",
      "58\n",
      "59\n",
      "60\n",
      "61\n",
      "62\n",
      "63\n",
      "64\n",
      "65\n",
      "66\n",
      "67\n",
      "68\n",
      "69\n",
      "70\n",
      "71\n",
      "72\n",
      "73\n",
      "74\n",
      "75\n",
      "76\n",
      "77\n",
      "78\n",
      "79\n",
      "80\n",
      "81\n",
      "82\n",
      "83\n",
      "84\n",
      "85\n",
      "86\n",
      "87\n",
      "88\n",
      "89\n",
      "90\n",
      "91\n",
      "92\n",
      "93\n",
      "94\n",
      "95\n",
      "96\n",
      "97\n",
      "98\n",
      "99\n",
      "100\n",
      "101\n",
      "102\n",
      "103\n",
      "104\n",
      "105\n",
      "106\n",
      "107\n",
      "108\n",
      "109\n",
      "110\n",
      "111\n",
      "112\n",
      "131\n",
      "132\n",
      "133\n",
      "134\n",
      "135\n",
      "136\n",
      "137\n",
      "138\n",
      "139\n",
      "140\n",
      "141\n",
      "142\n",
      "143\n",
      "144\n",
      "145\n",
      "146\n",
      "147\n",
      "148\n",
      "149\n",
      "150\n",
      "151\n",
      "152\n",
      "153\n",
      "154\n",
      "155\n",
      "156\n",
      "157\n",
      "158\n",
      "159\n",
      "160\n",
      "161\n",
      "162\n",
      "163\n",
      "164\n",
      "165\n",
      "166\n",
      "167\n",
      "168\n",
      "169\n",
      "170\n"
     ]
    },
    {
     "name": "stderr",
     "output_type": "stream",
     "text": [
      "/Users/fadikfoury/anaconda/lib/python2.7/site-packages/pandas/core/indexing.py:415: SettingWithCopyWarning: \n",
      "A value is trying to be set on a copy of a slice from a DataFrame.\n",
      "Try using .loc[row_indexer,col_indexer] = value instead\n",
      "\n",
      "See the the caveats in the documentation: http://pandas.pydata.org/pandas-docs/stable/indexing.html#indexing-view-versus-copy\n",
      "  self.obj[item] = s\n"
     ]
    }
   ],
   "source": [
    "\"\"\"\n",
    "This basically predicts the purity of the pixel neighbhours\n",
    "For every pixel, if all of its neighbohrs had the same label\n",
    "then the weight would be one\n",
    "this is done that way to accomodate the fact that at the boundaries \n",
    "the trust in the measurement is not that accurate\n",
    "\"\"\"\n",
    "\n",
    "#Prep the grouping by embryo\n",
    "len(df_train['Unnamed: 0'].map(lambda x: x/1000).unique())\n",
    "df_train['embryo_id'] = df_train['Unnamed: 0'].map(lambda x: x/1000)\n",
    "grouped_by_embryo = df_train.groupby('embryo_id')\n",
    "df_train['label'] = y_train\n",
    "\n",
    "##Initialize the weights \n",
    "df_train['weight'] = np.zeros(len(df_train))+2\n",
    "\n",
    "\n",
    "#For every embryoo define a knn to use for weighting\n",
    "for embryo_id, group in grouped_by_embryo:\n",
    "    X = group.ix[:,['x','y']]\n",
    "    y = group.ix[:,'label']\n",
    "    \n",
    "    neigh = KNeighborsClassifier(n_neighbors=5)\n",
    "    neigh.fit(X, y) \n",
    "    print embryo_id\n",
    "    #print group\n",
    "    for s_pixel_i in range(len(group)):\n",
    "        s_pixel = group.iloc[s_pixel_i,:]\n",
    "        grand_index =  group.index[s_pixel_i]\n",
    "        #print(neigh.predict([s_pixel['x'],s_pixel['y']]))\n",
    "        #print neigh.classes_\n",
    "        #print \"PROB\"\n",
    "        W_i = neigh.predict_proba([s_pixel['x'],s_pixel['y']])[0][s_pixel['label']-1]\n",
    "        df_train.loc[grand_index,'weight'] =  W_i\n",
    "        #if s_pixel_i>10:\n",
    "        #    break\n",
    "        \n"
   ]
  },
  {
   "cell_type": "code",
   "execution_count": 13,
   "metadata": {
    "collapsed": true
   },
   "outputs": [],
   "source": [
    "#Assign the weight vector to a differnt array\n",
    "W = df_train['weight']"
   ]
  },
  {
   "cell_type": "code",
   "execution_count": 14,
   "metadata": {
    "collapsed": false
   },
   "outputs": [],
   "source": [
    "#Delete the extranous fields\n",
    "del df_train['label']\n",
    "del df_train['weight']\n",
    "del df_train['Unnamed: 0']\n",
    "del df_train['embryo_id']\n",
    "del df_test['Unnamed: 0']"
   ]
  },
  {
   "cell_type": "code",
   "execution_count": 61,
   "metadata": {
    "collapsed": false
   },
   "outputs": [
    {
     "data": {
      "text/plain": [
       "array([[<matplotlib.axes._subplots.AxesSubplot object at 0x10cad69d0>]], dtype=object)"
      ]
     },
     "execution_count": 61,
     "metadata": {},
     "output_type": "execute_result"
    },
    {
     "data": {
      "image/png": "[encoded data removed]",
      "text/plain": [
       "<matplotlib.figure.Figure at 0x10b192310>"
      ]
     },
     "metadata": {},
     "output_type": "display_data"
    }
   ],
   "source": [
    "pd.DataFrame(W,columns=['weight']).hist()"
   ]
  },
  {
   "cell_type": "code",
   "execution_count": 65,
   "metadata": {
    "collapsed": true
   },
   "outputs": [
    {
     "data": {
      "text/plain": [
       "0        3\n",
       "1        1\n",
       "2        1\n",
       "3        1\n",
       "4        1\n",
       "5        1\n",
       "6        2\n",
       "7        1\n",
       "8        1\n",
       "9        1\n",
       "10       3\n",
       "11       1\n",
       "12       1\n",
       "13       1\n",
       "14       2\n",
       "15       2\n",
       "16       3\n",
       "17       1\n",
       "18       2\n",
       "19       1\n",
       "20       3\n",
       "21       1\n",
       "22       3\n",
       "23       2\n",
       "24       1\n",
       "25       2\n",
       "26       2\n",
       "27       2\n",
       "28       1\n",
       "29       3\n",
       "        ..\n",
       "28728    2\n",
       "28729    1\n",
       "28730    1\n",
       "28731    2\n",
       "28732    2\n",
       "28733    1\n",
       "28734    3\n",
       "28735    1\n",
       "28736    3\n",
       "28737    1\n",
       "28738    2\n",
       "28739    3\n",
       "28740    1\n",
       "28741    1\n",
       "28742    3\n",
       "28743    2\n",
       "28744    2\n",
       "28745    3\n",
       "28746    1\n",
       "28747    1\n",
       "28748    2\n",
       "28749    2\n",
       "28750    3\n",
       "28751    3\n",
       "28752    1\n",
       "28753    1\n",
       "28754    1\n",
       "28755    1\n",
       "28756    1\n",
       "28757    1\n",
       "Name: label, dtype: int64"
      ]
     },
     "execution_count": 65,
     "metadata": {},
     "output_type": "execute_result"
    }
   ],
   "source": [
    "y_train"
   ]
  },
  {
   "cell_type": "markdown",
   "metadata": {},
   "source": [
    "# Features Selection"
   ]
  },
  {
   "cell_type": "code",
   "execution_count": 15,
   "metadata": {
    "collapsed": false
   },
   "outputs": [],
   "source": [
    "import numpy as np\n",
    "import matplotlib.pyplot as plt\n",
    "import statsmodels.api as sm\n"
   ]
  },
  {
   "cell_type": "code",
   "execution_count": 121,
   "metadata": {
    "collapsed": false
   },
   "outputs": [],
   "source": [
    "corr_matrix = np.corrcoef(df_train.values.T)"
   ]
  },
  {
   "cell_type": "code",
   "execution_count": 189,
   "metadata": {
    "collapsed": false
   },
   "outputs": [],
   "source": [
    "cut_i = 30\n",
    "b = []\n",
    "for a in df_train.ix[:,cut_i:].columns:\n",
    "    b.append(a[0])\n",
    "    "
   ]
  },
  {
   "cell_type": "code",
   "execution_count": 190,
   "metadata": {
    "collapsed": false
   },
   "outputs": [
    {
     "data": {
      "image/png": "[encoded data removed]",
      "text/plain": [
       "<matplotlib.figure.Figure at 0x1265b8090>"
      ]
     },
     "metadata": {},
     "output_type": "display_data"
    }
   ],
   "source": [
    "corr_matrix = np.corrcoef(df_train.ix[:,1:70].values.T)\n",
    "sm.graphics.plot_corr(corr_matrix)\n",
    "plt.show()"
   ]
  },
  {
   "cell_type": "code",
   "execution_count": 192,
   "metadata": {
    "collapsed": false
   },
   "outputs": [
    {
     "data": {
      "image/png": "[encoded data removed]",
      "text/plain": [
       "<matplotlib.figure.Figure at 0x11b774c90>"
      ]
     },
     "metadata": {},
     "output_type": "display_data"
    }
   ],
   "source": [
    "corr_matrix = np.corrcoef(df_train.ix[:,cut_i:].values.T)\n",
    "fig = sm.graphics.plot_corr(corr_matrix,xnames=b)\n",
    "plt.show()"
   ]
  },
  {
   "cell_type": "markdown",
   "metadata": {},
   "source": [
    "#Weighted SVM"
   ]
  },
  {
   "cell_type": "markdown",
   "metadata": {},
   "source": [
    "## Spatial Features"
   ]
  },
  {
   "cell_type": "code",
   "execution_count": 200,
   "metadata": {
    "collapsed": false
   },
   "outputs": [
    {
     "data": {
      "text/plain": [
       "0.54249871991807475"
      ]
     },
     "execution_count": 200,
     "metadata": {},
     "output_type": "execute_result"
    }
   ],
   "source": [
    "clf = svm.SVC()\n",
    "clf.fit(df_train.ix[:,['x', 'y', 'distance']], y_train,sample_weight=W)\n",
    "\n",
    "y_pred = clf.predict(df_test.ix[:,['x', 'y', 'distance']] )\n",
    "\n",
    "#Forming a confusion matrix\n",
    "cm_WSVMSF = confusion_matrix(y_true,y_pred)\n",
    "accuracy_score(y_true, y_pred)"
   ]
  },
  {
   "cell_type": "markdown",
   "metadata": {},
   "source": [
    "### An SVM Driven Decision Stump"
   ]
  },
  {
   "cell_type": "markdown",
   "metadata": {},
   "source": [
    "we propose a tree based SVM, \n",
    "first split determines the border (SVM 1)\n",
    "end nodes determine which SVM to use (SVM_innder, SVM_outer)"
   ]
  },
  {
   "cell_type": "code",
   "execution_count": 229,
   "metadata": {
    "collapsed": false
   },
   "outputs": [
    {
     "data": {
      "text/plain": [
       "SVC(C=1.0, cache_size=200, class_weight=None, coef0=0.0, degree=3, gamma=0.0,\n",
       "  kernel='rbf', max_iter=-1, probability=False, random_state=None,\n",
       "  shrinking=True, tol=0.001, verbose=False)"
      ]
     },
     "execution_count": 229,
     "metadata": {},
     "output_type": "execute_result"
    }
   ],
   "source": [
    "#Border SVM (isBorder == 0)\n",
    "\n",
    "clf = svm.SVC()\n",
    "clf.fit(df_train.ix[:,['x', 'y', 'distance']], W>0.9)\n",
    "\n"
   ]
  },
  {
   "cell_type": "code",
   "execution_count": 230,
   "metadata": {
    "collapsed": true
   },
   "outputs": [],
   "source": [
    "y_pred = clf.predict(df_train.ix[:,['x', 'y', 'distance']])"
   ]
  },
  {
   "cell_type": "code",
   "execution_count": 316,
   "metadata": {
    "collapsed": true
   },
   "outputs": [
    {
     "ename": "ValueError",
     "evalue": "Lengths must match to compare",
     "output_type": "error",
     "traceback": [
      "\u001b[0;31m---------------------------------------------------------------------------\u001b[0m",
      "\u001b[0;31mValueError\u001b[0m                                Traceback (most recent call last)",
      "\u001b[0;32m<ipython-input-316-7dc0bf79c330>\u001b[0m in \u001b[0;36m<module>\u001b[0;34m()\u001b[0m\n\u001b[1;32m      1\u001b[0m \u001b[0;31m#Training Error, of our first split classifier\u001b[0m\u001b[0;34m\u001b[0m\u001b[0;34m\u001b[0m\u001b[0m\n\u001b[0;32m----> 2\u001b[0;31m \u001b[0msum\u001b[0m\u001b[0;34m(\u001b[0m\u001b[0my_pred\u001b[0m \u001b[0;34m==\u001b[0m \u001b[0;34m(\u001b[0m\u001b[0mW\u001b[0m\u001b[0;34m>\u001b[0m\u001b[0;36m0.9\u001b[0m\u001b[0;34m)\u001b[0m\u001b[0;34m)\u001b[0m\u001b[0;34m/\u001b[0m\u001b[0mfloat\u001b[0m\u001b[0;34m(\u001b[0m\u001b[0mlen\u001b[0m\u001b[0;34m(\u001b[0m\u001b[0mW\u001b[0m\u001b[0;34m)\u001b[0m\u001b[0;34m)\u001b[0m\u001b[0;34m\u001b[0m\u001b[0m\n\u001b[0m",
      "\u001b[0;32m/Users/fadikfoury/anaconda/lib/python2.7/site-packages/pandas/core/ops.pyc\u001b[0m in \u001b[0;36mwrapper\u001b[0;34m(self, other, axis)\u001b[0m\n\u001b[1;32m    587\u001b[0m         \u001b[0;32melif\u001b[0m \u001b[0misinstance\u001b[0m\u001b[0;34m(\u001b[0m\u001b[0mother\u001b[0m\u001b[0;34m,\u001b[0m \u001b[0;34m(\u001b[0m\u001b[0mnp\u001b[0m\u001b[0;34m.\u001b[0m\u001b[0mndarray\u001b[0m\u001b[0;34m,\u001b[0m \u001b[0mpd\u001b[0m\u001b[0;34m.\u001b[0m\u001b[0mIndex\u001b[0m\u001b[0;34m)\u001b[0m\u001b[0;34m)\u001b[0m\u001b[0;34m:\u001b[0m\u001b[0;34m\u001b[0m\u001b[0m\n\u001b[1;32m    588\u001b[0m             \u001b[0;32mif\u001b[0m \u001b[0mlen\u001b[0m\u001b[0;34m(\u001b[0m\u001b[0mself\u001b[0m\u001b[0;34m)\u001b[0m \u001b[0;34m!=\u001b[0m \u001b[0mlen\u001b[0m\u001b[0;34m(\u001b[0m\u001b[0mother\u001b[0m\u001b[0;34m)\u001b[0m\u001b[0;34m:\u001b[0m\u001b[0;34m\u001b[0m\u001b[0m\n\u001b[0;32m--> 589\u001b[0;31m                 \u001b[0;32mraise\u001b[0m \u001b[0mValueError\u001b[0m\u001b[0;34m(\u001b[0m\u001b[0;34m'Lengths must match to compare'\u001b[0m\u001b[0;34m)\u001b[0m\u001b[0;34m\u001b[0m\u001b[0m\n\u001b[0m\u001b[1;32m    590\u001b[0m             return self._constructor(na_op(self.values, np.asarray(other)),\n\u001b[1;32m    591\u001b[0m                                      index=self.index).__finalize__(self)\n",
      "\u001b[0;31mValueError\u001b[0m: Lengths must match to compare"
     ]
    }
   ],
   "source": [
    "#Training Error, of our first split classifier\n",
    "sum(y_pred == (W>0.9))/float(len(W))"
   ]
  },
  {
   "cell_type": "code",
   "execution_count": 317,
   "metadata": {
    "collapsed": false
   },
   "outputs": [
    {
     "ename": "NameError",
     "evalue": "name 'clf' is not defined",
     "output_type": "error",
     "traceback": [
      "\u001b[0;31m---------------------------------------------------------------------------\u001b[0m",
      "\u001b[0;31mNameError\u001b[0m                                 Traceback (most recent call last)",
      "\u001b[0;32m<ipython-input-317-2b2b39fcc617>\u001b[0m in \u001b[0;36m<module>\u001b[0;34m()\u001b[0m\n\u001b[0;32m----> 1\u001b[0;31m \u001b[0mclf\u001b[0m\u001b[0;34m\u001b[0m\u001b[0m\n\u001b[0m",
      "\u001b[0;31mNameError\u001b[0m: name 'clf' is not defined"
     ]
    }
   ],
   "source": [
    "clf"
   ]
  },
  {
   "cell_type": "code",
   "execution_count": 325,
   "metadata": {
    "collapsed": false
   },
   "outputs": [
    {
     "name": "stdout",
     "output_type": "stream",
     "text": [
      "0.2\n",
      "0.4\n",
      "0.6\n",
      "0.9\n"
     ]
    },
    {
     "data": {
      "image/png": "[encoded data removed]",
      "text/plain": [
       "<matplotlib.figure.Figure at 0x120bbcf90>"
      ]
     },
     "metadata": {},
     "output_type": "display_data"
    }
   ],
   "source": [
    "accuracy_list = []\n",
    "for w_cut_off in [0.2,0.4,0.6,0.9]:\n",
    "    #Train an inner SVM\n",
    "    print w_cut_off\n",
    "    clf_inner = svm.SVC()\n",
    "    clf_inner.fit(df_train.ix[:,['x', 'y', 'distance']][W>w_cut_off], y_train[W>w_cut_off])\n",
    "    y_pred_inner = clf_inner.predict(df_test.ix[:,['x', 'y', 'distance']])\n",
    "\n",
    "\n",
    "    clf_outer = svm.SVC()\n",
    "    clf_outer.fit(df_train.ix[:,['x', 'y', 'distance']][W<=w_cut_off], y_train[W<=w_cut_off])\n",
    "    y_pred_outer = clf_outer.predict(df_test.ix[:,['x', 'y', 'distance']])\n",
    "    \n",
    "    y_predict_label = clf.predict(df_test.ix[:,['x', 'y', 'distance']])\n",
    "    \n",
    "    y_predict_final = (y_predict_label==1)*y_pred_inner + (1-(y_predict_label==1))*y_pred_outer\n",
    "    \n",
    "    (y_predict_label==1)*y_pred_inner\n",
    "    \n",
    "    acc = accuracy_score(y_true, y_predict_final)\n",
    "    accuracy_list.append([w_cut_off,float(acc)])\n",
    "    \n",
    "a = plt.plot(np.array(accuracy_list)[:,0],np.array(accuracy_list)[:,1])"
   ]
  },
  {
   "cell_type": "code",
   "execution_count": 327,
   "metadata": {
    "collapsed": false
   },
   "outputs": [
    {
     "name": "stdout",
     "output_type": "stream",
     "text": [
      "0.2\n",
      "0.4\n",
      "0.6\n",
      "0.9\n"
     ]
    },
    {
     "data": {
      "image/png": "[encoded data removed]",
      "text/plain": [
       "<matplotlib.figure.Figure at 0x11b42c810>"
      ]
     },
     "metadata": {},
     "output_type": "display_data"
    }
   ],
   "source": [
    "accuracy_list = []\n",
    "for w_cut_off in [0.2,0.4,0.6,0.9]:\n",
    "    #Train an inner SVM\n",
    "    print w_cut_off\n",
    "    clf_inner = svm.SVC()\n",
    "    clf_inner.fit(df_train.ix[:,:][W>w_cut_off], y_train[W>w_cut_off])\n",
    "    y_pred_inner = clf_inner.predict(df_test.ix[:,:])\n",
    "\n",
    "\n",
    "    clf_outer = svm.SVC()\n",
    "    clf_outer.fit(df_train.ix[:,:][W<=w_cut_off], y_train[W<=w_cut_off])\n",
    "    y_pred_outer = clf_outer.predict(df_test.ix[:,:])\n",
    "    \n",
    "    y_predict_label = clf.predict(df_test.ix[:,['x', 'y', 'distance']])\n",
    "    \n",
    "    y_predict_final = (y_predict_label==1)*y_pred_inner + (1-(y_predict_label==1))*y_pred_outer\n",
    "    \n",
    "    (y_predict_label==1)*y_pred_inner\n",
    "    \n",
    "    acc = accuracy_score(y_true, y_predict_final)\n",
    "    accuracy_list.append([w_cut_off,float(acc)])\n",
    "    \n",
    "a = plt.plot(np.array(accuracy_list)[:,0],np.array(accuracy_list)[:,1])"
   ]
  },
  {
   "cell_type": "code",
   "execution_count": 329,
   "metadata": {
    "collapsed": false
   },
   "outputs": [
    {
     "data": {
      "text/plain": [
       "0.51510496671786998"
      ]
     },
     "execution_count": 329,
     "metadata": {},
     "output_type": "execute_result"
    }
   ],
   "source": [
    "#Train an inner SVM\n",
    "w_cut_off = 0.9\n",
    "clf_inner = svm.SVC()\n",
    "clf_inner.fit(df_train.ix[:,['x', 'y', 'distance']][W>w_cut_off], y_train[W>w_cut_off])\n",
    "y_pred_inner = clf_inner.predict(df_test.ix[:,['x', 'y', 'distance']])\n",
    "\n",
    "\n",
    "clf_outer = svm.SVC()\n",
    "clf_outer.fit(df_train.ix[:,30:][W<=w_cut_off], y_train[W<=w_cut_off])\n",
    "y_pred_outer = clf_outer.predict(df_test.ix[:,30:])\n",
    "\n",
    "y_predict_label = clf.predict(df_test.ix[:,['x', 'y', 'distance']])\n",
    "\n",
    "y_predict_final = (y_predict_label==1)*y_pred_inner + (1-(y_predict_label==1))*y_pred_outer\n",
    "\n",
    "(y_predict_label==1)*y_pred_inner\n",
    "\n",
    "acc = accuracy_score(y_true, y_predict_final)\n",
    "acc"
   ]
  },
  {
   "cell_type": "code",
   "execution_count": 330,
   "metadata": {
    "collapsed": false
   },
   "outputs": [],
   "source": [
    "#Not much improvement "
   ]
  },
  {
   "cell_type": "markdown",
   "metadata": {},
   "source": [
    "# Non - Weighted SVM"
   ]
  },
  {
   "cell_type": "markdown",
   "metadata": {},
   "source": [
    "## Spatial Features"
   ]
  },
  {
   "cell_type": "code",
   "execution_count": 198,
   "metadata": {
    "collapsed": false
   },
   "outputs": [
    {
     "data": {
      "text/plain": [
       "0.58013312852022525"
      ]
     },
     "execution_count": 198,
     "metadata": {},
     "output_type": "execute_result"
    }
   ],
   "source": [
    "clf = svm.SVC()\n",
    "clf.fit(df_train.ix[:,['x', 'y', 'distance']], y_train)\n",
    "\n",
    "y_pred = clf.predict(df_test.ix[:,['x', 'y', 'distance']])\n",
    "\n",
    "#Forming a confusion matrix\n",
    "cm_NWSVMSF = confusion_matrix(y_true,y_pred)\n",
    "accuracy_score(y_true, y_pred)"
   ]
  },
  {
   "cell_type": "code",
   "execution_count": null,
   "metadata": {
    "collapsed": true
   },
   "outputs": [],
   "source": []
  },
  {
   "cell_type": "markdown",
   "metadata": {},
   "source": [
    "## Features Selected Based on Corr Plot"
   ]
  },
  {
   "cell_type": "code",
   "execution_count": 194,
   "metadata": {
    "collapsed": false
   },
   "outputs": [
    {
     "data": {
      "text/plain": [
       "0.49539170506912444"
      ]
     },
     "execution_count": 194,
     "metadata": {},
     "output_type": "execute_result"
    }
   ],
   "source": [
    "clf = svm.SVC()\n",
    "clf.fit(df_train.ix[:,cut_i:], y_train)\n",
    "\n",
    "y_pred = clf.predict(df_test.ix[:,cut_i:])\n",
    "\n",
    "#Forming a confusion matrix\n",
    "cm = confusion_matrix(y_true,y_pred)\n",
    "accuracy_score(y_true, y_pred)\n",
    "\n"
   ]
  },
  {
   "cell_type": "markdown",
   "metadata": {},
   "source": [
    "Notice that the selected features confused the SVM, teh accuracy dropped from 60 to 50 % "
   ]
  },
  {
   "cell_type": "markdown",
   "metadata": {
    "collapsed": true
   },
   "source": [
    "It seems that the features selection utilizing correlation is performing poorly; hence, we are going to hand over the feature selection proccess to random forest. We will be picking the best features based on random forest features importance histogram.\n",
    "\n",
    "We will be running two random forests on the entire data set:\n",
    "- A weighted random forest\n",
    "- A non-weighted random forest\n",
    "\n",
    "The best model will be chosen based on the testing set accuracy.\n",
    "\n",
    "The best model will then be used to to pick the best 30 features (Spatial and Fiji)"
   ]
  },
  {
   "cell_type": "markdown",
   "metadata": {},
   "source": [
    "# Using Random Forest For Feature Selection"
   ]
  },
  {
   "cell_type": "code",
   "execution_count": 342,
   "metadata": {
    "collapsed": false
   },
   "outputs": [
    {
     "data": {
      "text/plain": [
       "0.85483870967741937"
      ]
     },
     "execution_count": 342,
     "metadata": {},
     "output_type": "execute_result"
    }
   ],
   "source": [
    "#running Random forest\n",
    "forest = random_forest(n_estimators = 10000, max_depth=50)\n",
    "forest.fit(df_train.ix[:,:], y_train)\n",
    "#Predicting\n",
    "y_pred = forest.predict(df_test.ix[:,:])\n",
    "accuracy_score(y_true, y_pred)"
   ]
  },
  {
   "cell_type": "code",
   "execution_count": 1,
   "metadata": {
    "collapsed": false
   },
   "outputs": [
    {
     "ename": "NameError",
     "evalue": "name 'indices' is not defined",
     "output_type": "error",
     "traceback": [
      "\u001b[0;31m---------------------------------------------------------------------------\u001b[0m",
      "\u001b[0;31mNameError\u001b[0m                                 Traceback (most recent call last)",
      "\u001b[0;32m<ipython-input-1-cef87bccb142>\u001b[0m in \u001b[0;36m<module>\u001b[0;34m()\u001b[0m\n\u001b[0;32m----> 1\u001b[0;31m \u001b[0mindices\u001b[0m\u001b[0;34m\u001b[0m\u001b[0m\n\u001b[0m",
      "\u001b[0;31mNameError\u001b[0m: name 'indices' is not defined"
     ]
    }
   ],
   "source": [
    "indices"
   ]
  },
  {
   "cell_type": "code",
   "execution_count": 368,
   "metadata": {
    "collapsed": false
   },
   "outputs": [
    {
     "name": "stdout",
     "output_type": "stream",
     "text": [
      "Feature ranking:\n",
      "1. feature 0 (0.334510)Mean1\n",
      "2. feature 1 (0.186376)Mean2\n",
      "3. feature 2 (0.164406)Mean3\n",
      "4. feature 20 (0.022734)Median8\n",
      "5. feature 3 (0.020272)Mean4\n",
      "6. feature 4 (0.020174)Mean5\n",
      "7. feature 6 (0.019426)Mean7\n",
      "8. feature 5 (0.019175)Mean6\n",
      "9. feature 7 (0.018765)Mean8\n",
      "10. feature 8 (0.018354)Mean9\n",
      "11. feature 9 (0.018192)Mean10\n",
      "12. feature 10 (0.018168)Mean11\n",
      "13. feature 11 (0.017150)Mean12\n",
      "14. feature 12 (0.016793)Mean13\n",
      "15. feature 17 (0.015504)Median5\n",
      "16. feature 13 (0.015319)Median1\n",
      "17. feature 19 (0.015202)Median7\n",
      "18. feature 16 (0.015166)Median4\n",
      "19. feature 15 (0.015033)Median3\n",
      "20. feature 18 (0.014706)Median6\n",
      "21. feature 14 (0.014575)Median2\n"
     ]
    },
    {
     "ename": "IndexError",
     "evalue": "index 21 is out of bounds for axis 0 with size 21",
     "output_type": "error",
     "traceback": [
      "\u001b[0;31m---------------------------------------------------------------------------\u001b[0m",
      "\u001b[0;31mIndexError\u001b[0m                                Traceback (most recent call last)",
      "\u001b[0;32m<ipython-input-368-b24dd480af65>\u001b[0m in \u001b[0;36m<module>\u001b[0;34m()\u001b[0m\n\u001b[1;32m      8\u001b[0m \u001b[0;34m\u001b[0m\u001b[0m\n\u001b[1;32m      9\u001b[0m \u001b[0;32mfor\u001b[0m \u001b[0mf\u001b[0m \u001b[0;32min\u001b[0m \u001b[0mrange\u001b[0m\u001b[0;34m(\u001b[0m\u001b[0mlen\u001b[0m\u001b[0;34m(\u001b[0m\u001b[0mdf_test\u001b[0m\u001b[0;34m.\u001b[0m\u001b[0mcolumns\u001b[0m\u001b[0;34m)\u001b[0m\u001b[0;34m)\u001b[0m\u001b[0;34m:\u001b[0m\u001b[0;34m\u001b[0m\u001b[0m\n\u001b[0;32m---> 10\u001b[0;31m     \u001b[0;32mprint\u001b[0m \u001b[0mstr\u001b[0m\u001b[0;34m(\u001b[0m\u001b[0;34m\"%d. feature %d (%f)\"\u001b[0m \u001b[0;34m%\u001b[0m \u001b[0;34m(\u001b[0m\u001b[0mf\u001b[0m \u001b[0;34m+\u001b[0m \u001b[0;36m1\u001b[0m\u001b[0;34m,\u001b[0m \u001b[0mindices\u001b[0m\u001b[0;34m[\u001b[0m\u001b[0mf\u001b[0m\u001b[0;34m]\u001b[0m\u001b[0;34m,\u001b[0m \u001b[0mimportances\u001b[0m\u001b[0;34m[\u001b[0m\u001b[0mindices\u001b[0m\u001b[0;34m[\u001b[0m\u001b[0mf\u001b[0m\u001b[0;34m]\u001b[0m\u001b[0;34m]\u001b[0m\u001b[0;34m)\u001b[0m\u001b[0;34m)\u001b[0m \u001b[0;34m+\u001b[0m \u001b[0mstr\u001b[0m\u001b[0;34m(\u001b[0m\u001b[0mdf_test\u001b[0m\u001b[0;34m.\u001b[0m\u001b[0mcolumns\u001b[0m\u001b[0;34m[\u001b[0m\u001b[0mindices\u001b[0m\u001b[0;34m[\u001b[0m\u001b[0mf\u001b[0m\u001b[0;34m]\u001b[0m\u001b[0;34m]\u001b[0m\u001b[0;34m)\u001b[0m\u001b[0;34m\u001b[0m\u001b[0m\n\u001b[0m\u001b[1;32m     11\u001b[0m \u001b[0;34m\u001b[0m\u001b[0m\n\u001b[1;32m     12\u001b[0m \u001b[0;34m\u001b[0m\u001b[0m\n",
      "\u001b[0;31mIndexError\u001b[0m: index 21 is out of bounds for axis 0 with size 21"
     ]
    }
   ],
   "source": [
    "importances = forest.feature_importances_\n",
    "std = np.std([tree.feature_importances_ for tree in forest.estimators_],\n",
    "             axis=0)\n",
    "indices = np.argsort(importances)[::-1]\n",
    "\n",
    "# Print the feature ranking\n",
    "print(\"Feature ranking:\")\n",
    "\n",
    "for f in range(len(df_test.columns)):\n",
    "    print str(\"%d. feature %d (%f)\" % (f + 1, indices[f], importances[indices[f]])) + str(df_test.columns[indices[f]])\n",
    "    \n",
    "\n",
    "# Plot the feature importances of the forest\n",
    "plt.figure()\n",
    "#plt.title(\"Feature importances\")\n",
    "plt.bar(range(len(df_test.columns)), importances[indices],\n",
    "       color=\"r\", yerr=std[indices], align=\"center\")\n",
    "plt.xticks(range(10), indices)\n",
    "plt.xlim([-1, 10])\n",
    "#plt.xticks(range(len(df_test.columns)), df_test.columns)\n",
    "plt.show()"
   ]
  },
  {
   "cell_type": "code",
   "execution_count": 333,
   "metadata": {
    "collapsed": false
   },
   "outputs": [
    {
     "data": {
      "text/plain": [
       "0.84715821812596004"
      ]
     },
     "execution_count": 333,
     "metadata": {},
     "output_type": "execute_result"
    }
   ],
   "source": [
    "best_column_features = indices[0:20]"
   ]
  },
  {
   "cell_type": "markdown",
   "metadata": {},
   "source": [
    "# Filtering Out The Best Features"
   ]
  },
  {
   "cell_type": "code",
   "execution_count": 369,
   "metadata": {
    "collapsed": false
   },
   "outputs": [
    {
     "data": {
      "text/plain": [
       "0.86712749615975426"
      ]
     },
     "execution_count": 369,
     "metadata": {},
     "output_type": "execute_result"
    }
   ],
   "source": [
    "#running Random forest\n",
    "forest = random_forest(n_estimators = 1000, max_depth=50)\n",
    "forest.fit(df_train.ix[:,best_column_features], y_train)\n",
    "#Predicting\n",
    "y_pred = forest.predict(df_test.ix[:,best_column_features])\n",
    "accuracy_score(y_true, y_pred)\n",
    "# We have an improvemnet in the random forest which is good! to 86.6"
   ]
  },
  {
   "cell_type": "code",
   "execution_count": 352,
   "metadata": {
    "collapsed": true
   },
   "outputs": [],
   "source": [
    "#last trick here, feed in the SVM clf classifier to the random forest (0,1)"
   ]
  },
  {
   "cell_type": "code",
   "execution_count": 361,
   "metadata": {
    "collapsed": false
   },
   "outputs": [
    {
     "name": "stderr",
     "output_type": "stream",
     "text": [
      "/Users/fadikfoury/anaconda/lib/python2.7/site-packages/IPython/kernel/__main__.py:3: SettingWithCopyWarning: \n",
      "A value is trying to be set on a copy of a slice from a DataFrame.\n",
      "Try using .loc[row_indexer,col_indexer] = value instead\n",
      "\n",
      "See the the caveats in the documentation: http://pandas.pydata.org/pandas-docs/stable/indexing.html#indexing-view-versus-copy\n",
      "  app.launch_new_instance()\n",
      "/Users/fadikfoury/anaconda/lib/python2.7/site-packages/IPython/kernel/__main__.py:7: SettingWithCopyWarning: \n",
      "A value is trying to be set on a copy of a slice from a DataFrame.\n",
      "Try using .loc[row_indexer,col_indexer] = value instead\n",
      "\n",
      "See the the caveats in the documentation: http://pandas.pydata.org/pandas-docs/stable/indexing.html#indexing-view-versus-copy\n"
     ]
    }
   ],
   "source": [
    "y_pred = clf.predict(df_train.ix[:,['x', 'y', 'distance']])\n",
    "df_train_1 = df_train.ix[:,best_column_features]\n",
    "df_train_1['SVM_f'] = y_pred\n",
    "\n",
    "y_pred = clf.predict(df_test.ix[:,['x', 'y', 'distance']])\n",
    "df_test_l = df_test.ix[:,best_column_features]\n",
    "df_test_l['SVM_f'] = y_pred"
   ]
  },
  {
   "cell_type": "code",
   "execution_count": 363,
   "metadata": {
    "collapsed": false
   },
   "outputs": [
    {
     "data": {
      "text/plain": [
       "0.86175115207373276"
      ]
     },
     "execution_count": 363,
     "metadata": {},
     "output_type": "execute_result"
    }
   ],
   "source": [
    "#running Random forest, with SVM feature added\n",
    "forest = random_forest(n_estimators = 1000, max_depth=50)\n",
    "forest.fit(df_train_1, y_train)\n",
    "#Predicting\n",
    "y_pred = forest.predict(df_test_l)\n",
    "accuracy_score(y_true, y_pred)\n",
    "# We have an improvemnet in the random forest which is good! to 86.6"
   ]
  },
  {
   "cell_type": "code",
   "execution_count": 365,
   "metadata": {
    "collapsed": false
   },
   "outputs": [
    {
     "data": {
      "text/html": [
       "<div>\n",
       "<table border=\"1\" class=\"dataframe\">\n",
       "  <thead>\n",
       "    <tr style=\"text-align: right;\">\n",
       "      <th></th>\n",
       "      <th>distance</th>\n",
       "      <th>x</th>\n",
       "      <th>y</th>\n",
       "      <th>Median1</th>\n",
       "      <th>Variance9</th>\n",
       "      <th>Mean1</th>\n",
       "      <th>Variance10</th>\n",
       "      <th>Variance5</th>\n",
       "      <th>Variance2</th>\n",
       "      <th>Median2</th>\n",
       "      <th>...</th>\n",
       "      <th>Variance1</th>\n",
       "      <th>Mean2</th>\n",
       "      <th>Median4</th>\n",
       "      <th>Variance3</th>\n",
       "      <th>Mean4</th>\n",
       "      <th>Median5</th>\n",
       "      <th>Median9</th>\n",
       "      <th>Mean5</th>\n",
       "      <th>Mean9</th>\n",
       "      <th>SVM_f</th>\n",
       "    </tr>\n",
       "  </thead>\n",
       "  <tbody>\n",
       "    <tr>\n",
       "      <th>0</th>\n",
       "      <td>237.000000</td>\n",
       "      <td>564.063225</td>\n",
       "      <td>238.875687</td>\n",
       "      <td>10</td>\n",
       "      <td>25</td>\n",
       "      <td>10</td>\n",
       "      <td>10</td>\n",
       "      <td>21</td>\n",
       "      <td>11806</td>\n",
       "      <td>-91</td>\n",
       "      <td>...</td>\n",
       "      <td>32326</td>\n",
       "      <td>-103</td>\n",
       "      <td>6</td>\n",
       "      <td>6</td>\n",
       "      <td>9</td>\n",
       "      <td>6</td>\n",
       "      <td>0</td>\n",
       "      <td>7</td>\n",
       "      <td>0</td>\n",
       "      <td>True</td>\n",
       "    </tr>\n",
       "    <tr>\n",
       "      <th>1</th>\n",
       "      <td>63.031738</td>\n",
       "      <td>120.589947</td>\n",
       "      <td>200.251323</td>\n",
       "      <td>16</td>\n",
       "      <td>73</td>\n",
       "      <td>-6</td>\n",
       "      <td>27</td>\n",
       "      <td>351</td>\n",
       "      <td>50745</td>\n",
       "      <td>-128</td>\n",
       "      <td>...</td>\n",
       "      <td>103437</td>\n",
       "      <td>-184</td>\n",
       "      <td>14</td>\n",
       "      <td>20</td>\n",
       "      <td>24</td>\n",
       "      <td>15</td>\n",
       "      <td>2</td>\n",
       "      <td>20</td>\n",
       "      <td>1</td>\n",
       "      <td>False</td>\n",
       "    </tr>\n",
       "    <tr>\n",
       "      <th>2</th>\n",
       "      <td>50.921509</td>\n",
       "      <td>929.826923</td>\n",
       "      <td>498.230769</td>\n",
       "      <td>-6</td>\n",
       "      <td>15</td>\n",
       "      <td>-14</td>\n",
       "      <td>15</td>\n",
       "      <td>58</td>\n",
       "      <td>6839</td>\n",
       "      <td>-67</td>\n",
       "      <td>...</td>\n",
       "      <td>15054</td>\n",
       "      <td>-77</td>\n",
       "      <td>2</td>\n",
       "      <td>2</td>\n",
       "      <td>6</td>\n",
       "      <td>2</td>\n",
       "      <td>-4</td>\n",
       "      <td>6</td>\n",
       "      <td>-4</td>\n",
       "      <td>True</td>\n",
       "    </tr>\n",
       "    <tr>\n",
       "      <th>3</th>\n",
       "      <td>100.239716</td>\n",
       "      <td>195.250799</td>\n",
       "      <td>409.416933</td>\n",
       "      <td>29</td>\n",
       "      <td>259</td>\n",
       "      <td>9</td>\n",
       "      <td>72</td>\n",
       "      <td>427</td>\n",
       "      <td>21749</td>\n",
       "      <td>-112</td>\n",
       "      <td>...</td>\n",
       "      <td>53922</td>\n",
       "      <td>-132</td>\n",
       "      <td>13</td>\n",
       "      <td>11</td>\n",
       "      <td>29</td>\n",
       "      <td>17</td>\n",
       "      <td>-2</td>\n",
       "      <td>25</td>\n",
       "      <td>4</td>\n",
       "      <td>True</td>\n",
       "    </tr>\n",
       "    <tr>\n",
       "      <th>4</th>\n",
       "      <td>73.437050</td>\n",
       "      <td>735.015504</td>\n",
       "      <td>519.666667</td>\n",
       "      <td>2</td>\n",
       "      <td>107</td>\n",
       "      <td>-13</td>\n",
       "      <td>39</td>\n",
       "      <td>140</td>\n",
       "      <td>30379</td>\n",
       "      <td>-143</td>\n",
       "      <td>...</td>\n",
       "      <td>75031</td>\n",
       "      <td>-175</td>\n",
       "      <td>17</td>\n",
       "      <td>15</td>\n",
       "      <td>23</td>\n",
       "      <td>16</td>\n",
       "      <td>1</td>\n",
       "      <td>19</td>\n",
       "      <td>0</td>\n",
       "      <td>True</td>\n",
       "    </tr>\n",
       "    <tr>\n",
       "      <th>5</th>\n",
       "      <td>23.769728</td>\n",
       "      <td>245.507149</td>\n",
       "      <td>84.659964</td>\n",
       "      <td>10</td>\n",
       "      <td>47</td>\n",
       "      <td>80</td>\n",
       "      <td>6</td>\n",
       "      <td>1529</td>\n",
       "      <td>13553</td>\n",
       "      <td>-53</td>\n",
       "      <td>...</td>\n",
       "      <td>74470</td>\n",
       "      <td>-70</td>\n",
       "      <td>4</td>\n",
       "      <td>14</td>\n",
       "      <td>32</td>\n",
       "      <td>10</td>\n",
       "      <td>14</td>\n",
       "      <td>32</td>\n",
       "      <td>13</td>\n",
       "      <td>False</td>\n",
       "    </tr>\n",
       "    <tr>\n",
       "      <th>6</th>\n",
       "      <td>175.034286</td>\n",
       "      <td>477.419527</td>\n",
       "      <td>418.089349</td>\n",
       "      <td>34</td>\n",
       "      <td>135</td>\n",
       "      <td>74</td>\n",
       "      <td>53</td>\n",
       "      <td>4805</td>\n",
       "      <td>56728</td>\n",
       "      <td>-155</td>\n",
       "      <td>...</td>\n",
       "      <td>178305</td>\n",
       "      <td>-198</td>\n",
       "      <td>31</td>\n",
       "      <td>36</td>\n",
       "      <td>69</td>\n",
       "      <td>44</td>\n",
       "      <td>11</td>\n",
       "      <td>60</td>\n",
       "      <td>11</td>\n",
       "      <td>False</td>\n",
       "    </tr>\n",
       "    <tr>\n",
       "      <th>7</th>\n",
       "      <td>21.633308</td>\n",
       "      <td>1068.599622</td>\n",
       "      <td>138.400378</td>\n",
       "      <td>-8</td>\n",
       "      <td>29</td>\n",
       "      <td>-8</td>\n",
       "      <td>17</td>\n",
       "      <td>83</td>\n",
       "      <td>8700</td>\n",
       "      <td>-89</td>\n",
       "      <td>...</td>\n",
       "      <td>23230</td>\n",
       "      <td>-98</td>\n",
       "      <td>5</td>\n",
       "      <td>4</td>\n",
       "      <td>8</td>\n",
       "      <td>5</td>\n",
       "      <td>-4</td>\n",
       "      <td>7</td>\n",
       "      <td>-3</td>\n",
       "      <td>True</td>\n",
       "    </tr>\n",
       "    <tr>\n",
       "      <th>8</th>\n",
       "      <td>29.966648</td>\n",
       "      <td>47.799699</td>\n",
       "      <td>364.049699</td>\n",
       "      <td>29</td>\n",
       "      <td>21</td>\n",
       "      <td>8</td>\n",
       "      <td>5</td>\n",
       "      <td>98</td>\n",
       "      <td>14734</td>\n",
       "      <td>-42</td>\n",
       "      <td>...</td>\n",
       "      <td>28863</td>\n",
       "      <td>-79</td>\n",
       "      <td>2</td>\n",
       "      <td>5</td>\n",
       "      <td>8</td>\n",
       "      <td>3</td>\n",
       "      <td>6</td>\n",
       "      <td>8</td>\n",
       "      <td>5</td>\n",
       "      <td>False</td>\n",
       "    </tr>\n",
       "    <tr>\n",
       "      <th>9</th>\n",
       "      <td>24.596748</td>\n",
       "      <td>232.574038</td>\n",
       "      <td>511.016288</td>\n",
       "      <td>21</td>\n",
       "      <td>54</td>\n",
       "      <td>6</td>\n",
       "      <td>12</td>\n",
       "      <td>162</td>\n",
       "      <td>18962</td>\n",
       "      <td>-65</td>\n",
       "      <td>...</td>\n",
       "      <td>35338</td>\n",
       "      <td>-103</td>\n",
       "      <td>8</td>\n",
       "      <td>7</td>\n",
       "      <td>17</td>\n",
       "      <td>11</td>\n",
       "      <td>2</td>\n",
       "      <td>14</td>\n",
       "      <td>1</td>\n",
       "      <td>True</td>\n",
       "    </tr>\n",
       "    <tr>\n",
       "      <th>10</th>\n",
       "      <td>62.169125</td>\n",
       "      <td>577.178973</td>\n",
       "      <td>62.305778</td>\n",
       "      <td>-7</td>\n",
       "      <td>53</td>\n",
       "      <td>-6</td>\n",
       "      <td>8</td>\n",
       "      <td>14</td>\n",
       "      <td>5318</td>\n",
       "      <td>-67</td>\n",
       "      <td>...</td>\n",
       "      <td>13177</td>\n",
       "      <td>-75</td>\n",
       "      <td>4</td>\n",
       "      <td>2</td>\n",
       "      <td>6</td>\n",
       "      <td>4</td>\n",
       "      <td>-1</td>\n",
       "      <td>5</td>\n",
       "      <td>0</td>\n",
       "      <td>False</td>\n",
       "    </tr>\n",
       "    <tr>\n",
       "      <th>11</th>\n",
       "      <td>15.811388</td>\n",
       "      <td>574.507833</td>\n",
       "      <td>587.432115</td>\n",
       "      <td>18</td>\n",
       "      <td>77</td>\n",
       "      <td>8</td>\n",
       "      <td>9</td>\n",
       "      <td>19</td>\n",
       "      <td>17768</td>\n",
       "      <td>-111</td>\n",
       "      <td>...</td>\n",
       "      <td>49167</td>\n",
       "      <td>-132</td>\n",
       "      <td>6</td>\n",
       "      <td>9</td>\n",
       "      <td>9</td>\n",
       "      <td>7</td>\n",
       "      <td>2</td>\n",
       "      <td>8</td>\n",
       "      <td>3</td>\n",
       "      <td>True</td>\n",
       "    </tr>\n",
       "    <tr>\n",
       "      <th>12</th>\n",
       "      <td>36.138622</td>\n",
       "      <td>600.005208</td>\n",
       "      <td>10.369792</td>\n",
       "      <td>36</td>\n",
       "      <td>737</td>\n",
       "      <td>36</td>\n",
       "      <td>98</td>\n",
       "      <td>52040</td>\n",
       "      <td>127980</td>\n",
       "      <td>-269</td>\n",
       "      <td>...</td>\n",
       "      <td>376459</td>\n",
       "      <td>-339</td>\n",
       "      <td>90</td>\n",
       "      <td>79</td>\n",
       "      <td>228</td>\n",
       "      <td>99</td>\n",
       "      <td>10</td>\n",
       "      <td>199</td>\n",
       "      <td>15</td>\n",
       "      <td>False</td>\n",
       "    </tr>\n",
       "    <tr>\n",
       "      <th>13</th>\n",
       "      <td>103.392456</td>\n",
       "      <td>574.814176</td>\n",
       "      <td>497.921456</td>\n",
       "      <td>2</td>\n",
       "      <td>34</td>\n",
       "      <td>11</td>\n",
       "      <td>13</td>\n",
       "      <td>100</td>\n",
       "      <td>55837</td>\n",
       "      <td>-206</td>\n",
       "      <td>...</td>\n",
       "      <td>159521</td>\n",
       "      <td>-245</td>\n",
       "      <td>28</td>\n",
       "      <td>31</td>\n",
       "      <td>34</td>\n",
       "      <td>28</td>\n",
       "      <td>-1</td>\n",
       "      <td>30</td>\n",
       "      <td>-1</td>\n",
       "      <td>False</td>\n",
       "    </tr>\n",
       "    <tr>\n",
       "      <th>14</th>\n",
       "      <td>265.819489</td>\n",
       "      <td>405.770718</td>\n",
       "      <td>313.292818</td>\n",
       "      <td>-4</td>\n",
       "      <td>26</td>\n",
       "      <td>0</td>\n",
       "      <td>7</td>\n",
       "      <td>34</td>\n",
       "      <td>7568</td>\n",
       "      <td>-65</td>\n",
       "      <td>...</td>\n",
       "      <td>19285</td>\n",
       "      <td>-78</td>\n",
       "      <td>5</td>\n",
       "      <td>3</td>\n",
       "      <td>8</td>\n",
       "      <td>5</td>\n",
       "      <td>-3</td>\n",
       "      <td>7</td>\n",
       "      <td>-3</td>\n",
       "      <td>False</td>\n",
       "    </tr>\n",
       "    <tr>\n",
       "      <th>15</th>\n",
       "      <td>149.856598</td>\n",
       "      <td>914.320368</td>\n",
       "      <td>398.303395</td>\n",
       "      <td>98</td>\n",
       "      <td>39</td>\n",
       "      <td>326</td>\n",
       "      <td>1</td>\n",
       "      <td>1952</td>\n",
       "      <td>10787</td>\n",
       "      <td>-72</td>\n",
       "      <td>...</td>\n",
       "      <td>169977</td>\n",
       "      <td>-100</td>\n",
       "      <td>26</td>\n",
       "      <td>26</td>\n",
       "      <td>75</td>\n",
       "      <td>64</td>\n",
       "      <td>11</td>\n",
       "      <td>76</td>\n",
       "      <td>10</td>\n",
       "      <td>False</td>\n",
       "    </tr>\n",
       "    <tr>\n",
       "      <th>16</th>\n",
       "      <td>285.156097</td>\n",
       "      <td>699.048052</td>\n",
       "      <td>291.261039</td>\n",
       "      <td>-3</td>\n",
       "      <td>112</td>\n",
       "      <td>8</td>\n",
       "      <td>37</td>\n",
       "      <td>521</td>\n",
       "      <td>46047</td>\n",
       "      <td>-183</td>\n",
       "      <td>...</td>\n",
       "      <td>135463</td>\n",
       "      <td>-216</td>\n",
       "      <td>25</td>\n",
       "      <td>27</td>\n",
       "      <td>38</td>\n",
       "      <td>26</td>\n",
       "      <td>0</td>\n",
       "      <td>34</td>\n",
       "      <td>0</td>\n",
       "      <td>True</td>\n",
       "    </tr>\n",
       "    <tr>\n",
       "      <th>17</th>\n",
       "      <td>31.764761</td>\n",
       "      <td>1046.665069</td>\n",
       "      <td>465.879127</td>\n",
       "      <td>19</td>\n",
       "      <td>62</td>\n",
       "      <td>11</td>\n",
       "      <td>25</td>\n",
       "      <td>301</td>\n",
       "      <td>49162</td>\n",
       "      <td>-142</td>\n",
       "      <td>...</td>\n",
       "      <td>111590</td>\n",
       "      <td>-190</td>\n",
       "      <td>16</td>\n",
       "      <td>21</td>\n",
       "      <td>26</td>\n",
       "      <td>18</td>\n",
       "      <td>2</td>\n",
       "      <td>23</td>\n",
       "      <td>1</td>\n",
       "      <td>False</td>\n",
       "    </tr>\n",
       "    <tr>\n",
       "      <th>18</th>\n",
       "      <td>152.977127</td>\n",
       "      <td>219.360169</td>\n",
       "      <td>239.894068</td>\n",
       "      <td>-1</td>\n",
       "      <td>9</td>\n",
       "      <td>-1</td>\n",
       "      <td>2</td>\n",
       "      <td>1</td>\n",
       "      <td>3599</td>\n",
       "      <td>-51</td>\n",
       "      <td>...</td>\n",
       "      <td>9130</td>\n",
       "      <td>-59</td>\n",
       "      <td>1</td>\n",
       "      <td>1</td>\n",
       "      <td>2</td>\n",
       "      <td>1</td>\n",
       "      <td>0</td>\n",
       "      <td>2</td>\n",
       "      <td>0</td>\n",
       "      <td>True</td>\n",
       "    </tr>\n",
       "    <tr>\n",
       "      <th>19</th>\n",
       "      <td>81.400246</td>\n",
       "      <td>103.973734</td>\n",
       "      <td>356.558262</td>\n",
       "      <td>1</td>\n",
       "      <td>20</td>\n",
       "      <td>3</td>\n",
       "      <td>8</td>\n",
       "      <td>7</td>\n",
       "      <td>19115</td>\n",
       "      <td>-126</td>\n",
       "      <td>...</td>\n",
       "      <td>47286</td>\n",
       "      <td>-132</td>\n",
       "      <td>7</td>\n",
       "      <td>9</td>\n",
       "      <td>9</td>\n",
       "      <td>7</td>\n",
       "      <td>8</td>\n",
       "      <td>7</td>\n",
       "      <td>8</td>\n",
       "      <td>False</td>\n",
       "    </tr>\n",
       "    <tr>\n",
       "      <th>20</th>\n",
       "      <td>83.150467</td>\n",
       "      <td>481.612175</td>\n",
       "      <td>90.649111</td>\n",
       "      <td>24</td>\n",
       "      <td>181</td>\n",
       "      <td>36</td>\n",
       "      <td>79</td>\n",
       "      <td>376</td>\n",
       "      <td>46222</td>\n",
       "      <td>-132</td>\n",
       "      <td>...</td>\n",
       "      <td>113650</td>\n",
       "      <td>-173</td>\n",
       "      <td>34</td>\n",
       "      <td>22</td>\n",
       "      <td>42</td>\n",
       "      <td>33</td>\n",
       "      <td>7</td>\n",
       "      <td>35</td>\n",
       "      <td>8</td>\n",
       "      <td>False</td>\n",
       "    </tr>\n",
       "    <tr>\n",
       "      <th>21</th>\n",
       "      <td>107.377838</td>\n",
       "      <td>669.409329</td>\n",
       "      <td>110.884481</td>\n",
       "      <td>38</td>\n",
       "      <td>320</td>\n",
       "      <td>7</td>\n",
       "      <td>158</td>\n",
       "      <td>494</td>\n",
       "      <td>48136</td>\n",
       "      <td>-164</td>\n",
       "      <td>...</td>\n",
       "      <td>121046</td>\n",
       "      <td>-206</td>\n",
       "      <td>34</td>\n",
       "      <td>24</td>\n",
       "      <td>48</td>\n",
       "      <td>38</td>\n",
       "      <td>2</td>\n",
       "      <td>39</td>\n",
       "      <td>-1</td>\n",
       "      <td>False</td>\n",
       "    </tr>\n",
       "    <tr>\n",
       "      <th>22</th>\n",
       "      <td>223.378601</td>\n",
       "      <td>522.242616</td>\n",
       "      <td>374.784810</td>\n",
       "      <td>-5</td>\n",
       "      <td>28</td>\n",
       "      <td>-1</td>\n",
       "      <td>6</td>\n",
       "      <td>3</td>\n",
       "      <td>3423</td>\n",
       "      <td>-55</td>\n",
       "      <td>...</td>\n",
       "      <td>9593</td>\n",
       "      <td>-58</td>\n",
       "      <td>2</td>\n",
       "      <td>1</td>\n",
       "      <td>3</td>\n",
       "      <td>2</td>\n",
       "      <td>-3</td>\n",
       "      <td>2</td>\n",
       "      <td>-2</td>\n",
       "      <td>False</td>\n",
       "    </tr>\n",
       "    <tr>\n",
       "      <th>23</th>\n",
       "      <td>129.402466</td>\n",
       "      <td>454.545031</td>\n",
       "      <td>461.218944</td>\n",
       "      <td>17</td>\n",
       "      <td>213</td>\n",
       "      <td>1</td>\n",
       "      <td>51</td>\n",
       "      <td>307</td>\n",
       "      <td>43475</td>\n",
       "      <td>-102</td>\n",
       "      <td>...</td>\n",
       "      <td>77754</td>\n",
       "      <td>-162</td>\n",
       "      <td>8</td>\n",
       "      <td>15</td>\n",
       "      <td>22</td>\n",
       "      <td>8</td>\n",
       "      <td>5</td>\n",
       "      <td>18</td>\n",
       "      <td>0</td>\n",
       "      <td>False</td>\n",
       "    </tr>\n",
       "    <tr>\n",
       "      <th>24</th>\n",
       "      <td>108.903625</td>\n",
       "      <td>701.087847</td>\n",
       "      <td>487.085205</td>\n",
       "      <td>-15</td>\n",
       "      <td>70</td>\n",
       "      <td>12</td>\n",
       "      <td>18</td>\n",
       "      <td>728</td>\n",
       "      <td>61641</td>\n",
       "      <td>-192</td>\n",
       "      <td>...</td>\n",
       "      <td>163700</td>\n",
       "      <td>-227</td>\n",
       "      <td>25</td>\n",
       "      <td>33</td>\n",
       "      <td>43</td>\n",
       "      <td>28</td>\n",
       "      <td>1</td>\n",
       "      <td>37</td>\n",
       "      <td>2</td>\n",
       "      <td>False</td>\n",
       "    </tr>\n",
       "    <tr>\n",
       "      <th>25</th>\n",
       "      <td>180.612839</td>\n",
       "      <td>300.492095</td>\n",
       "      <td>231.500000</td>\n",
       "      <td>34</td>\n",
       "      <td>52</td>\n",
       "      <td>-4</td>\n",
       "      <td>14</td>\n",
       "      <td>129</td>\n",
       "      <td>32399</td>\n",
       "      <td>-121</td>\n",
       "      <td>...</td>\n",
       "      <td>71251</td>\n",
       "      <td>-158</td>\n",
       "      <td>13</td>\n",
       "      <td>14</td>\n",
       "      <td>19</td>\n",
       "      <td>14</td>\n",
       "      <td>1</td>\n",
       "      <td>16</td>\n",
       "      <td>1</td>\n",
       "      <td>True</td>\n",
       "    </tr>\n",
       "    <tr>\n",
       "      <th>26</th>\n",
       "      <td>222.171112</td>\n",
       "      <td>401.641864</td>\n",
       "      <td>244.993741</td>\n",
       "      <td>-9</td>\n",
       "      <td>78</td>\n",
       "      <td>-2</td>\n",
       "      <td>15</td>\n",
       "      <td>175</td>\n",
       "      <td>15539</td>\n",
       "      <td>-116</td>\n",
       "      <td>...</td>\n",
       "      <td>42888</td>\n",
       "      <td>-122</td>\n",
       "      <td>9</td>\n",
       "      <td>8</td>\n",
       "      <td>18</td>\n",
       "      <td>10</td>\n",
       "      <td>-3</td>\n",
       "      <td>15</td>\n",
       "      <td>-3</td>\n",
       "      <td>True</td>\n",
       "    </tr>\n",
       "    <tr>\n",
       "      <th>27</th>\n",
       "      <td>157.079605</td>\n",
       "      <td>673.298658</td>\n",
       "      <td>160.006711</td>\n",
       "      <td>14</td>\n",
       "      <td>152</td>\n",
       "      <td>-7</td>\n",
       "      <td>56</td>\n",
       "      <td>505</td>\n",
       "      <td>31761</td>\n",
       "      <td>-154</td>\n",
       "      <td>...</td>\n",
       "      <td>79951</td>\n",
       "      <td>-174</td>\n",
       "      <td>23</td>\n",
       "      <td>16</td>\n",
       "      <td>36</td>\n",
       "      <td>23</td>\n",
       "      <td>0</td>\n",
       "      <td>31</td>\n",
       "      <td>-1</td>\n",
       "      <td>False</td>\n",
       "    </tr>\n",
       "    <tr>\n",
       "      <th>28</th>\n",
       "      <td>103.585716</td>\n",
       "      <td>1089.437255</td>\n",
       "      <td>272.972549</td>\n",
       "      <td>12</td>\n",
       "      <td>6</td>\n",
       "      <td>0</td>\n",
       "      <td>2</td>\n",
       "      <td>9</td>\n",
       "      <td>7751</td>\n",
       "      <td>-33</td>\n",
       "      <td>...</td>\n",
       "      <td>13934</td>\n",
       "      <td>-59</td>\n",
       "      <td>1</td>\n",
       "      <td>2</td>\n",
       "      <td>3</td>\n",
       "      <td>1</td>\n",
       "      <td>5</td>\n",
       "      <td>2</td>\n",
       "      <td>4</td>\n",
       "      <td>False</td>\n",
       "    </tr>\n",
       "    <tr>\n",
       "      <th>29</th>\n",
       "      <td>241.853256</td>\n",
       "      <td>765.013261</td>\n",
       "      <td>344.445398</td>\n",
       "      <td>-57</td>\n",
       "      <td>36</td>\n",
       "      <td>-29</td>\n",
       "      <td>9</td>\n",
       "      <td>199</td>\n",
       "      <td>75512</td>\n",
       "      <td>-277</td>\n",
       "      <td>...</td>\n",
       "      <td>204588</td>\n",
       "      <td>-293</td>\n",
       "      <td>41</td>\n",
       "      <td>41</td>\n",
       "      <td>46</td>\n",
       "      <td>41</td>\n",
       "      <td>-5</td>\n",
       "      <td>43</td>\n",
       "      <td>-4</td>\n",
       "      <td>False</td>\n",
       "    </tr>\n",
       "    <tr>\n",
       "      <th>...</th>\n",
       "      <td>...</td>\n",
       "      <td>...</td>\n",
       "      <td>...</td>\n",
       "      <td>...</td>\n",
       "      <td>...</td>\n",
       "      <td>...</td>\n",
       "      <td>...</td>\n",
       "      <td>...</td>\n",
       "      <td>...</td>\n",
       "      <td>...</td>\n",
       "      <td>...</td>\n",
       "      <td>...</td>\n",
       "      <td>...</td>\n",
       "      <td>...</td>\n",
       "      <td>...</td>\n",
       "      <td>...</td>\n",
       "      <td>...</td>\n",
       "      <td>...</td>\n",
       "      <td>...</td>\n",
       "      <td>...</td>\n",
       "      <td>...</td>\n",
       "    </tr>\n",
       "    <tr>\n",
       "      <th>28728</th>\n",
       "      <td>188.047867</td>\n",
       "      <td>854.034854</td>\n",
       "      <td>223.735741</td>\n",
       "      <td>42</td>\n",
       "      <td>87</td>\n",
       "      <td>24</td>\n",
       "      <td>34</td>\n",
       "      <td>2391</td>\n",
       "      <td>120292</td>\n",
       "      <td>-207</td>\n",
       "      <td>...</td>\n",
       "      <td>250330</td>\n",
       "      <td>-273</td>\n",
       "      <td>27</td>\n",
       "      <td>48</td>\n",
       "      <td>52</td>\n",
       "      <td>31</td>\n",
       "      <td>3</td>\n",
       "      <td>46</td>\n",
       "      <td>3</td>\n",
       "      <td>False</td>\n",
       "    </tr>\n",
       "    <tr>\n",
       "      <th>28729</th>\n",
       "      <td>17.888544</td>\n",
       "      <td>162.628686</td>\n",
       "      <td>485.441019</td>\n",
       "      <td>-42</td>\n",
       "      <td>196</td>\n",
       "      <td>-42</td>\n",
       "      <td>37</td>\n",
       "      <td>2561</td>\n",
       "      <td>114199</td>\n",
       "      <td>-185</td>\n",
       "      <td>...</td>\n",
       "      <td>238031</td>\n",
       "      <td>-279</td>\n",
       "      <td>37</td>\n",
       "      <td>46</td>\n",
       "      <td>70</td>\n",
       "      <td>54</td>\n",
       "      <td>-2</td>\n",
       "      <td>59</td>\n",
       "      <td>-2</td>\n",
       "      <td>True</td>\n",
       "    </tr>\n",
       "    <tr>\n",
       "      <th>28730</th>\n",
       "      <td>82.036575</td>\n",
       "      <td>1118.612676</td>\n",
       "      <td>309.708920</td>\n",
       "      <td>-74</td>\n",
       "      <td>13</td>\n",
       "      <td>-85</td>\n",
       "      <td>6</td>\n",
       "      <td>229</td>\n",
       "      <td>96698</td>\n",
       "      <td>-264</td>\n",
       "      <td>...</td>\n",
       "      <td>244364</td>\n",
       "      <td>-335</td>\n",
       "      <td>32</td>\n",
       "      <td>48</td>\n",
       "      <td>44</td>\n",
       "      <td>32</td>\n",
       "      <td>-11</td>\n",
       "      <td>37</td>\n",
       "      <td>-11</td>\n",
       "      <td>False</td>\n",
       "    </tr>\n",
       "    <tr>\n",
       "      <th>28731</th>\n",
       "      <td>136.308472</td>\n",
       "      <td>351.222296</td>\n",
       "      <td>168.210280</td>\n",
       "      <td>-40</td>\n",
       "      <td>184</td>\n",
       "      <td>-36</td>\n",
       "      <td>61</td>\n",
       "      <td>2736</td>\n",
       "      <td>178786</td>\n",
       "      <td>-346</td>\n",
       "      <td>...</td>\n",
       "      <td>417753</td>\n",
       "      <td>-415</td>\n",
       "      <td>67</td>\n",
       "      <td>84</td>\n",
       "      <td>101</td>\n",
       "      <td>77</td>\n",
       "      <td>-2</td>\n",
       "      <td>91</td>\n",
       "      <td>-1</td>\n",
       "      <td>True</td>\n",
       "    </tr>\n",
       "    <tr>\n",
       "      <th>28732</th>\n",
       "      <td>177.775146</td>\n",
       "      <td>373.464029</td>\n",
       "      <td>205.758993</td>\n",
       "      <td>327</td>\n",
       "      <td>751</td>\n",
       "      <td>422</td>\n",
       "      <td>27</td>\n",
       "      <td>149859</td>\n",
       "      <td>708749</td>\n",
       "      <td>-367</td>\n",
       "      <td>...</td>\n",
       "      <td>3117960</td>\n",
       "      <td>-578</td>\n",
       "      <td>649</td>\n",
       "      <td>598</td>\n",
       "      <td>1512</td>\n",
       "      <td>1369</td>\n",
       "      <td>67</td>\n",
       "      <td>1337</td>\n",
       "      <td>60</td>\n",
       "      <td>True</td>\n",
       "    </tr>\n",
       "    <tr>\n",
       "      <th>28733</th>\n",
       "      <td>5.830952</td>\n",
       "      <td>712.329268</td>\n",
       "      <td>11.353659</td>\n",
       "      <td>68</td>\n",
       "      <td>155</td>\n",
       "      <td>10</td>\n",
       "      <td>44</td>\n",
       "      <td>2757</td>\n",
       "      <td>243170</td>\n",
       "      <td>-331</td>\n",
       "      <td>...</td>\n",
       "      <td>547375</td>\n",
       "      <td>-444</td>\n",
       "      <td>84</td>\n",
       "      <td>106</td>\n",
       "      <td>109</td>\n",
       "      <td>88</td>\n",
       "      <td>5</td>\n",
       "      <td>103</td>\n",
       "      <td>5</td>\n",
       "      <td>True</td>\n",
       "    </tr>\n",
       "    <tr>\n",
       "      <th>28734</th>\n",
       "      <td>251.031876</td>\n",
       "      <td>569.411263</td>\n",
       "      <td>252.831058</td>\n",
       "      <td>34</td>\n",
       "      <td>24</td>\n",
       "      <td>10</td>\n",
       "      <td>5</td>\n",
       "      <td>105</td>\n",
       "      <td>24444</td>\n",
       "      <td>-69</td>\n",
       "      <td>...</td>\n",
       "      <td>48456</td>\n",
       "      <td>-112</td>\n",
       "      <td>3</td>\n",
       "      <td>9</td>\n",
       "      <td>9</td>\n",
       "      <td>3</td>\n",
       "      <td>3</td>\n",
       "      <td>7</td>\n",
       "      <td>2</td>\n",
       "      <td>True</td>\n",
       "    </tr>\n",
       "    <tr>\n",
       "      <th>28735</th>\n",
       "      <td>83.360664</td>\n",
       "      <td>809.712987</td>\n",
       "      <td>497.635065</td>\n",
       "      <td>-7</td>\n",
       "      <td>43</td>\n",
       "      <td>-8</td>\n",
       "      <td>17</td>\n",
       "      <td>959</td>\n",
       "      <td>95150</td>\n",
       "      <td>-284</td>\n",
       "      <td>...</td>\n",
       "      <td>264586</td>\n",
       "      <td>-324</td>\n",
       "      <td>34</td>\n",
       "      <td>52</td>\n",
       "      <td>55</td>\n",
       "      <td>38</td>\n",
       "      <td>1</td>\n",
       "      <td>48</td>\n",
       "      <td>1</td>\n",
       "      <td>False</td>\n",
       "    </tr>\n",
       "    <tr>\n",
       "      <th>28736</th>\n",
       "      <td>157.714935</td>\n",
       "      <td>621.276978</td>\n",
       "      <td>158.176259</td>\n",
       "      <td>1</td>\n",
       "      <td>333</td>\n",
       "      <td>-22</td>\n",
       "      <td>75</td>\n",
       "      <td>4225</td>\n",
       "      <td>228788</td>\n",
       "      <td>-414</td>\n",
       "      <td>...</td>\n",
       "      <td>604413</td>\n",
       "      <td>-478</td>\n",
       "      <td>144</td>\n",
       "      <td>118</td>\n",
       "      <td>179</td>\n",
       "      <td>152</td>\n",
       "      <td>10</td>\n",
       "      <td>158</td>\n",
       "      <td>7</td>\n",
       "      <td>True</td>\n",
       "    </tr>\n",
       "    <tr>\n",
       "      <th>28737</th>\n",
       "      <td>66.030296</td>\n",
       "      <td>1031.992099</td>\n",
       "      <td>434.348758</td>\n",
       "      <td>26</td>\n",
       "      <td>354</td>\n",
       "      <td>11</td>\n",
       "      <td>219</td>\n",
       "      <td>4016</td>\n",
       "      <td>48771</td>\n",
       "      <td>-147</td>\n",
       "      <td>...</td>\n",
       "      <td>128177</td>\n",
       "      <td>-202</td>\n",
       "      <td>24</td>\n",
       "      <td>26</td>\n",
       "      <td>55</td>\n",
       "      <td>30</td>\n",
       "      <td>6</td>\n",
       "      <td>53</td>\n",
       "      <td>1</td>\n",
       "      <td>True</td>\n",
       "    </tr>\n",
       "    <tr>\n",
       "      <th>28738</th>\n",
       "      <td>229.157150</td>\n",
       "      <td>509.760022</td>\n",
       "      <td>367.686349</td>\n",
       "      <td>-32</td>\n",
       "      <td>34</td>\n",
       "      <td>-8</td>\n",
       "      <td>13</td>\n",
       "      <td>237</td>\n",
       "      <td>49324</td>\n",
       "      <td>-160</td>\n",
       "      <td>...</td>\n",
       "      <td>127580</td>\n",
       "      <td>-207</td>\n",
       "      <td>14</td>\n",
       "      <td>24</td>\n",
       "      <td>23</td>\n",
       "      <td>16</td>\n",
       "      <td>-2</td>\n",
       "      <td>20</td>\n",
       "      <td>-2</td>\n",
       "      <td>False</td>\n",
       "    </tr>\n",
       "    <tr>\n",
       "      <th>28739</th>\n",
       "      <td>175.755508</td>\n",
       "      <td>741.589888</td>\n",
       "      <td>186.326966</td>\n",
       "      <td>-28</td>\n",
       "      <td>198</td>\n",
       "      <td>-18</td>\n",
       "      <td>106</td>\n",
       "      <td>1591</td>\n",
       "      <td>124459</td>\n",
       "      <td>-337</td>\n",
       "      <td>...</td>\n",
       "      <td>378270</td>\n",
       "      <td>-386</td>\n",
       "      <td>70</td>\n",
       "      <td>75</td>\n",
       "      <td>94</td>\n",
       "      <td>72</td>\n",
       "      <td>0</td>\n",
       "      <td>81</td>\n",
       "      <td>-2</td>\n",
       "      <td>True</td>\n",
       "    </tr>\n",
       "    <tr>\n",
       "      <th>28740</th>\n",
       "      <td>76.922035</td>\n",
       "      <td>203.334369</td>\n",
       "      <td>440.816770</td>\n",
       "      <td>70</td>\n",
       "      <td>1650</td>\n",
       "      <td>226</td>\n",
       "      <td>1304</td>\n",
       "      <td>53930</td>\n",
       "      <td>300934</td>\n",
       "      <td>-449</td>\n",
       "      <td>...</td>\n",
       "      <td>1094043</td>\n",
       "      <td>-499</td>\n",
       "      <td>104</td>\n",
       "      <td>182</td>\n",
       "      <td>236</td>\n",
       "      <td>117</td>\n",
       "      <td>27</td>\n",
       "      <td>233</td>\n",
       "      <td>24</td>\n",
       "      <td>True</td>\n",
       "    </tr>\n",
       "    <tr>\n",
       "      <th>28741</th>\n",
       "      <td>29.427877</td>\n",
       "      <td>700.894286</td>\n",
       "      <td>567.965306</td>\n",
       "      <td>10</td>\n",
       "      <td>71</td>\n",
       "      <td>8</td>\n",
       "      <td>31</td>\n",
       "      <td>399</td>\n",
       "      <td>84426</td>\n",
       "      <td>-235</td>\n",
       "      <td>...</td>\n",
       "      <td>223665</td>\n",
       "      <td>-273</td>\n",
       "      <td>28</td>\n",
       "      <td>43</td>\n",
       "      <td>38</td>\n",
       "      <td>30</td>\n",
       "      <td>0</td>\n",
       "      <td>34</td>\n",
       "      <td>0</td>\n",
       "      <td>True</td>\n",
       "    </tr>\n",
       "    <tr>\n",
       "      <th>28742</th>\n",
       "      <td>198.204437</td>\n",
       "      <td>574.314016</td>\n",
       "      <td>199.952830</td>\n",
       "      <td>4</td>\n",
       "      <td>578</td>\n",
       "      <td>-11</td>\n",
       "      <td>332</td>\n",
       "      <td>5834</td>\n",
       "      <td>189950</td>\n",
       "      <td>-343</td>\n",
       "      <td>...</td>\n",
       "      <td>447494</td>\n",
       "      <td>-427</td>\n",
       "      <td>99</td>\n",
       "      <td>90</td>\n",
       "      <td>140</td>\n",
       "      <td>97</td>\n",
       "      <td>-5</td>\n",
       "      <td>124</td>\n",
       "      <td>-6</td>\n",
       "      <td>True</td>\n",
       "    </tr>\n",
       "    <tr>\n",
       "      <th>28743</th>\n",
       "      <td>152.190674</td>\n",
       "      <td>403.357418</td>\n",
       "      <td>429.422929</td>\n",
       "      <td>0</td>\n",
       "      <td>101</td>\n",
       "      <td>44</td>\n",
       "      <td>39</td>\n",
       "      <td>506</td>\n",
       "      <td>114687</td>\n",
       "      <td>-311</td>\n",
       "      <td>...</td>\n",
       "      <td>355019</td>\n",
       "      <td>-334</td>\n",
       "      <td>72</td>\n",
       "      <td>69</td>\n",
       "      <td>81</td>\n",
       "      <td>68</td>\n",
       "      <td>10</td>\n",
       "      <td>70</td>\n",
       "      <td>9</td>\n",
       "      <td>True</td>\n",
       "    </tr>\n",
       "    <tr>\n",
       "      <th>28744</th>\n",
       "      <td>72.367119</td>\n",
       "      <td>401.463801</td>\n",
       "      <td>91.035445</td>\n",
       "      <td>-27</td>\n",
       "      <td>16</td>\n",
       "      <td>-1</td>\n",
       "      <td>6</td>\n",
       "      <td>43</td>\n",
       "      <td>27804</td>\n",
       "      <td>-140</td>\n",
       "      <td>...</td>\n",
       "      <td>83418</td>\n",
       "      <td>-167</td>\n",
       "      <td>9</td>\n",
       "      <td>15</td>\n",
       "      <td>12</td>\n",
       "      <td>9</td>\n",
       "      <td>-1</td>\n",
       "      <td>10</td>\n",
       "      <td>-1</td>\n",
       "      <td>False</td>\n",
       "    </tr>\n",
       "    <tr>\n",
       "      <th>28745</th>\n",
       "      <td>133.003754</td>\n",
       "      <td>566.182281</td>\n",
       "      <td>134.919552</td>\n",
       "      <td>-11</td>\n",
       "      <td>54</td>\n",
       "      <td>-10</td>\n",
       "      <td>16</td>\n",
       "      <td>7254</td>\n",
       "      <td>248905</td>\n",
       "      <td>-296</td>\n",
       "      <td>...</td>\n",
       "      <td>569755</td>\n",
       "      <td>-442</td>\n",
       "      <td>79</td>\n",
       "      <td>112</td>\n",
       "      <td>113</td>\n",
       "      <td>86</td>\n",
       "      <td>-5</td>\n",
       "      <td>101</td>\n",
       "      <td>-4</td>\n",
       "      <td>True</td>\n",
       "    </tr>\n",
       "    <tr>\n",
       "      <th>28746</th>\n",
       "      <td>37.215588</td>\n",
       "      <td>490.348485</td>\n",
       "      <td>558.649091</td>\n",
       "      <td>-7</td>\n",
       "      <td>92</td>\n",
       "      <td>34</td>\n",
       "      <td>8</td>\n",
       "      <td>458</td>\n",
       "      <td>38050</td>\n",
       "      <td>-148</td>\n",
       "      <td>...</td>\n",
       "      <td>113339</td>\n",
       "      <td>-180</td>\n",
       "      <td>14</td>\n",
       "      <td>22</td>\n",
       "      <td>22</td>\n",
       "      <td>17</td>\n",
       "      <td>3</td>\n",
       "      <td>21</td>\n",
       "      <td>6</td>\n",
       "      <td>True</td>\n",
       "    </tr>\n",
       "    <tr>\n",
       "      <th>28747</th>\n",
       "      <td>25.455845</td>\n",
       "      <td>1122.808901</td>\n",
       "      <td>414.507330</td>\n",
       "      <td>11</td>\n",
       "      <td>71</td>\n",
       "      <td>-3</td>\n",
       "      <td>23</td>\n",
       "      <td>537</td>\n",
       "      <td>61655</td>\n",
       "      <td>-229</td>\n",
       "      <td>...</td>\n",
       "      <td>176177</td>\n",
       "      <td>-263</td>\n",
       "      <td>33</td>\n",
       "      <td>35</td>\n",
       "      <td>44</td>\n",
       "      <td>36</td>\n",
       "      <td>3</td>\n",
       "      <td>40</td>\n",
       "      <td>4</td>\n",
       "      <td>True</td>\n",
       "    </tr>\n",
       "    <tr>\n",
       "      <th>28748</th>\n",
       "      <td>85.422478</td>\n",
       "      <td>222.373885</td>\n",
       "      <td>161.143312</td>\n",
       "      <td>-81</td>\n",
       "      <td>164</td>\n",
       "      <td>-38</td>\n",
       "      <td>80</td>\n",
       "      <td>702</td>\n",
       "      <td>92078</td>\n",
       "      <td>-225</td>\n",
       "      <td>...</td>\n",
       "      <td>244639</td>\n",
       "      <td>-269</td>\n",
       "      <td>22</td>\n",
       "      <td>49</td>\n",
       "      <td>47</td>\n",
       "      <td>34</td>\n",
       "      <td>-7</td>\n",
       "      <td>37</td>\n",
       "      <td>-3</td>\n",
       "      <td>False</td>\n",
       "    </tr>\n",
       "    <tr>\n",
       "      <th>28749</th>\n",
       "      <td>155.438095</td>\n",
       "      <td>306.956825</td>\n",
       "      <td>202.683844</td>\n",
       "      <td>81</td>\n",
       "      <td>399</td>\n",
       "      <td>94</td>\n",
       "      <td>52</td>\n",
       "      <td>45543</td>\n",
       "      <td>270980</td>\n",
       "      <td>-433</td>\n",
       "      <td>...</td>\n",
       "      <td>880638</td>\n",
       "      <td>-517</td>\n",
       "      <td>118</td>\n",
       "      <td>181</td>\n",
       "      <td>247</td>\n",
       "      <td>140</td>\n",
       "      <td>21</td>\n",
       "      <td>211</td>\n",
       "      <td>23</td>\n",
       "      <td>True</td>\n",
       "    </tr>\n",
       "    <tr>\n",
       "      <th>28750</th>\n",
       "      <td>183.095596</td>\n",
       "      <td>585.480025</td>\n",
       "      <td>418.613608</td>\n",
       "      <td>14</td>\n",
       "      <td>14</td>\n",
       "      <td>0</td>\n",
       "      <td>2</td>\n",
       "      <td>66</td>\n",
       "      <td>9436</td>\n",
       "      <td>-40</td>\n",
       "      <td>...</td>\n",
       "      <td>16860</td>\n",
       "      <td>-66</td>\n",
       "      <td>0</td>\n",
       "      <td>3</td>\n",
       "      <td>4</td>\n",
       "      <td>1</td>\n",
       "      <td>2</td>\n",
       "      <td>3</td>\n",
       "      <td>2</td>\n",
       "      <td>False</td>\n",
       "    </tr>\n",
       "    <tr>\n",
       "      <th>28751</th>\n",
       "      <td>157.000000</td>\n",
       "      <td>637.233333</td>\n",
       "      <td>443.872650</td>\n",
       "      <td>35</td>\n",
       "      <td>149</td>\n",
       "      <td>27</td>\n",
       "      <td>49</td>\n",
       "      <td>3734</td>\n",
       "      <td>302360</td>\n",
       "      <td>-420</td>\n",
       "      <td>...</td>\n",
       "      <td>775900</td>\n",
       "      <td>-520</td>\n",
       "      <td>136</td>\n",
       "      <td>156</td>\n",
       "      <td>165</td>\n",
       "      <td>142</td>\n",
       "      <td>9</td>\n",
       "      <td>149</td>\n",
       "      <td>9</td>\n",
       "      <td>False</td>\n",
       "    </tr>\n",
       "    <tr>\n",
       "      <th>28752</th>\n",
       "      <td>31.257000</td>\n",
       "      <td>1168.212139</td>\n",
       "      <td>283.009827</td>\n",
       "      <td>45</td>\n",
       "      <td>1691</td>\n",
       "      <td>121</td>\n",
       "      <td>70</td>\n",
       "      <td>199715</td>\n",
       "      <td>342264</td>\n",
       "      <td>-474</td>\n",
       "      <td>...</td>\n",
       "      <td>1286578</td>\n",
       "      <td>-566</td>\n",
       "      <td>123</td>\n",
       "      <td>263</td>\n",
       "      <td>369</td>\n",
       "      <td>162</td>\n",
       "      <td>2</td>\n",
       "      <td>334</td>\n",
       "      <td>20</td>\n",
       "      <td>True</td>\n",
       "    </tr>\n",
       "    <tr>\n",
       "      <th>28753</th>\n",
       "      <td>69.856995</td>\n",
       "      <td>361.424925</td>\n",
       "      <td>504.349850</td>\n",
       "      <td>11</td>\n",
       "      <td>140</td>\n",
       "      <td>-9</td>\n",
       "      <td>50</td>\n",
       "      <td>731</td>\n",
       "      <td>99051</td>\n",
       "      <td>-284</td>\n",
       "      <td>...</td>\n",
       "      <td>261067</td>\n",
       "      <td>-321</td>\n",
       "      <td>43</td>\n",
       "      <td>51</td>\n",
       "      <td>61</td>\n",
       "      <td>47</td>\n",
       "      <td>0</td>\n",
       "      <td>53</td>\n",
       "      <td>-1</td>\n",
       "      <td>False</td>\n",
       "    </tr>\n",
       "    <tr>\n",
       "      <th>28754</th>\n",
       "      <td>113.991226</td>\n",
       "      <td>690.159777</td>\n",
       "      <td>483.197933</td>\n",
       "      <td>-26</td>\n",
       "      <td>31</td>\n",
       "      <td>1</td>\n",
       "      <td>15</td>\n",
       "      <td>439</td>\n",
       "      <td>59051</td>\n",
       "      <td>-242</td>\n",
       "      <td>...</td>\n",
       "      <td>187842</td>\n",
       "      <td>-264</td>\n",
       "      <td>31</td>\n",
       "      <td>36</td>\n",
       "      <td>47</td>\n",
       "      <td>40</td>\n",
       "      <td>4</td>\n",
       "      <td>43</td>\n",
       "      <td>5</td>\n",
       "      <td>False</td>\n",
       "    </tr>\n",
       "    <tr>\n",
       "      <th>28755</th>\n",
       "      <td>108.853111</td>\n",
       "      <td>1065.479381</td>\n",
       "      <td>353.532990</td>\n",
       "      <td>16</td>\n",
       "      <td>80</td>\n",
       "      <td>34</td>\n",
       "      <td>42</td>\n",
       "      <td>220</td>\n",
       "      <td>77840</td>\n",
       "      <td>-210</td>\n",
       "      <td>...</td>\n",
       "      <td>214156</td>\n",
       "      <td>-257</td>\n",
       "      <td>27</td>\n",
       "      <td>40</td>\n",
       "      <td>35</td>\n",
       "      <td>28</td>\n",
       "      <td>-3</td>\n",
       "      <td>31</td>\n",
       "      <td>-4</td>\n",
       "      <td>False</td>\n",
       "    </tr>\n",
       "    <tr>\n",
       "      <th>28756</th>\n",
       "      <td>32.557640</td>\n",
       "      <td>630.236652</td>\n",
       "      <td>33.022172</td>\n",
       "      <td>0</td>\n",
       "      <td>68</td>\n",
       "      <td>14</td>\n",
       "      <td>10</td>\n",
       "      <td>59</td>\n",
       "      <td>39976</td>\n",
       "      <td>-205</td>\n",
       "      <td>...</td>\n",
       "      <td>130620</td>\n",
       "      <td>-223</td>\n",
       "      <td>21</td>\n",
       "      <td>25</td>\n",
       "      <td>24</td>\n",
       "      <td>19</td>\n",
       "      <td>0</td>\n",
       "      <td>20</td>\n",
       "      <td>0</td>\n",
       "      <td>False</td>\n",
       "    </tr>\n",
       "    <tr>\n",
       "      <th>28757</th>\n",
       "      <td>29.732138</td>\n",
       "      <td>67.632730</td>\n",
       "      <td>394.474359</td>\n",
       "      <td>1124</td>\n",
       "      <td>454</td>\n",
       "      <td>1494</td>\n",
       "      <td>46</td>\n",
       "      <td>320991</td>\n",
       "      <td>552341</td>\n",
       "      <td>-493</td>\n",
       "      <td>...</td>\n",
       "      <td>4240221</td>\n",
       "      <td>-626</td>\n",
       "      <td>860</td>\n",
       "      <td>728</td>\n",
       "      <td>1757</td>\n",
       "      <td>1665</td>\n",
       "      <td>63</td>\n",
       "      <td>1520</td>\n",
       "      <td>58</td>\n",
       "      <td>True</td>\n",
       "    </tr>\n",
       "  </tbody>\n",
       "</table>\n",
       "<p>28758 rows × 21 columns</p>\n",
       "</div>"
      ],
      "text/plain": [
       "         distance            x           y  Median1  Variance9  Mean1  \\\n",
       "0      237.000000   564.063225  238.875687       10         25     10   \n",
       "1       63.031738   120.589947  200.251323       16         73     -6   \n",
       "2       50.921509   929.826923  498.230769       -6         15    -14   \n",
       "3      100.239716   195.250799  409.416933       29        259      9   \n",
       "4       73.437050   735.015504  519.666667        2        107    -13   \n",
       "5       23.769728   245.507149   84.659964       10         47     80   \n",
       "6      175.034286   477.419527  418.089349       34        135     74   \n",
       "7       21.633308  1068.599622  138.400378       -8         29     -8   \n",
       "8       29.966648    47.799699  364.049699       29         21      8   \n",
       "9       24.596748   232.574038  511.016288       21         54      6   \n",
       "10      62.169125   577.178973   62.305778       -7         53     -6   \n",
       "11      15.811388   574.507833  587.432115       18         77      8   \n",
       "12      36.138622   600.005208   10.369792       36        737     36   \n",
       "13     103.392456   574.814176  497.921456        2         34     11   \n",
       "14     265.819489   405.770718  313.292818       -4         26      0   \n",
       "15     149.856598   914.320368  398.303395       98         39    326   \n",
       "16     285.156097   699.048052  291.261039       -3        112      8   \n",
       "17      31.764761  1046.665069  465.879127       19         62     11   \n",
       "18     152.977127   219.360169  239.894068       -1          9     -1   \n",
       "19      81.400246   103.973734  356.558262        1         20      3   \n",
       "20      83.150467   481.612175   90.649111       24        181     36   \n",
       "21     107.377838   669.409329  110.884481       38        320      7   \n",
       "22     223.378601   522.242616  374.784810       -5         28     -1   \n",
       "23     129.402466   454.545031  461.218944       17        213      1   \n",
       "24     108.903625   701.087847  487.085205      -15         70     12   \n",
       "25     180.612839   300.492095  231.500000       34         52     -4   \n",
       "26     222.171112   401.641864  244.993741       -9         78     -2   \n",
       "27     157.079605   673.298658  160.006711       14        152     -7   \n",
       "28     103.585716  1089.437255  272.972549       12          6      0   \n",
       "29     241.853256   765.013261  344.445398      -57         36    -29   \n",
       "...           ...          ...         ...      ...        ...    ...   \n",
       "28728  188.047867   854.034854  223.735741       42         87     24   \n",
       "28729   17.888544   162.628686  485.441019      -42        196    -42   \n",
       "28730   82.036575  1118.612676  309.708920      -74         13    -85   \n",
       "28731  136.308472   351.222296  168.210280      -40        184    -36   \n",
       "28732  177.775146   373.464029  205.758993      327        751    422   \n",
       "28733    5.830952   712.329268   11.353659       68        155     10   \n",
       "28734  251.031876   569.411263  252.831058       34         24     10   \n",
       "28735   83.360664   809.712987  497.635065       -7         43     -8   \n",
       "28736  157.714935   621.276978  158.176259        1        333    -22   \n",
       "28737   66.030296  1031.992099  434.348758       26        354     11   \n",
       "28738  229.157150   509.760022  367.686349      -32         34     -8   \n",
       "28739  175.755508   741.589888  186.326966      -28        198    -18   \n",
       "28740   76.922035   203.334369  440.816770       70       1650    226   \n",
       "28741   29.427877   700.894286  567.965306       10         71      8   \n",
       "28742  198.204437   574.314016  199.952830        4        578    -11   \n",
       "28743  152.190674   403.357418  429.422929        0        101     44   \n",
       "28744   72.367119   401.463801   91.035445      -27         16     -1   \n",
       "28745  133.003754   566.182281  134.919552      -11         54    -10   \n",
       "28746   37.215588   490.348485  558.649091       -7         92     34   \n",
       "28747   25.455845  1122.808901  414.507330       11         71     -3   \n",
       "28748   85.422478   222.373885  161.143312      -81        164    -38   \n",
       "28749  155.438095   306.956825  202.683844       81        399     94   \n",
       "28750  183.095596   585.480025  418.613608       14         14      0   \n",
       "28751  157.000000   637.233333  443.872650       35        149     27   \n",
       "28752   31.257000  1168.212139  283.009827       45       1691    121   \n",
       "28753   69.856995   361.424925  504.349850       11        140     -9   \n",
       "28754  113.991226   690.159777  483.197933      -26         31      1   \n",
       "28755  108.853111  1065.479381  353.532990       16         80     34   \n",
       "28756   32.557640   630.236652   33.022172        0         68     14   \n",
       "28757   29.732138    67.632730  394.474359     1124        454   1494   \n",
       "\n",
       "       Variance10  Variance5  Variance2  Median2  ...    Variance1  Mean2  \\\n",
       "0              10         21      11806      -91  ...        32326   -103   \n",
       "1              27        351      50745     -128  ...       103437   -184   \n",
       "2              15         58       6839      -67  ...        15054    -77   \n",
       "3              72        427      21749     -112  ...        53922   -132   \n",
       "4              39        140      30379     -143  ...        75031   -175   \n",
       "5               6       1529      13553      -53  ...        74470    -70   \n",
       "6              53       4805      56728     -155  ...       178305   -198   \n",
       "7              17         83       8700      -89  ...        23230    -98   \n",
       "8               5         98      14734      -42  ...        28863    -79   \n",
       "9              12        162      18962      -65  ...        35338   -103   \n",
       "10              8         14       5318      -67  ...        13177    -75   \n",
       "11              9         19      17768     -111  ...        49167   -132   \n",
       "12             98      52040     127980     -269  ...       376459   -339   \n",
       "13             13        100      55837     -206  ...       159521   -245   \n",
       "14              7         34       7568      -65  ...        19285    -78   \n",
       "15              1       1952      10787      -72  ...       169977   -100   \n",
       "16             37        521      46047     -183  ...       135463   -216   \n",
       "17             25        301      49162     -142  ...       111590   -190   \n",
       "18              2          1       3599      -51  ...         9130    -59   \n",
       "19              8          7      19115     -126  ...        47286   -132   \n",
       "20             79        376      46222     -132  ...       113650   -173   \n",
       "21            158        494      48136     -164  ...       121046   -206   \n",
       "22              6          3       3423      -55  ...         9593    -58   \n",
       "23             51        307      43475     -102  ...        77754   -162   \n",
       "24             18        728      61641     -192  ...       163700   -227   \n",
       "25             14        129      32399     -121  ...        71251   -158   \n",
       "26             15        175      15539     -116  ...        42888   -122   \n",
       "27             56        505      31761     -154  ...        79951   -174   \n",
       "28              2          9       7751      -33  ...        13934    -59   \n",
       "29              9        199      75512     -277  ...       204588   -293   \n",
       "...           ...        ...        ...      ...  ...          ...    ...   \n",
       "28728          34       2391     120292     -207  ...       250330   -273   \n",
       "28729          37       2561     114199     -185  ...       238031   -279   \n",
       "28730           6        229      96698     -264  ...       244364   -335   \n",
       "28731          61       2736     178786     -346  ...       417753   -415   \n",
       "28732          27     149859     708749     -367  ...      3117960   -578   \n",
       "28733          44       2757     243170     -331  ...       547375   -444   \n",
       "28734           5        105      24444      -69  ...        48456   -112   \n",
       "28735          17        959      95150     -284  ...       264586   -324   \n",
       "28736          75       4225     228788     -414  ...       604413   -478   \n",
       "28737         219       4016      48771     -147  ...       128177   -202   \n",
       "28738          13        237      49324     -160  ...       127580   -207   \n",
       "28739         106       1591     124459     -337  ...       378270   -386   \n",
       "28740        1304      53930     300934     -449  ...      1094043   -499   \n",
       "28741          31        399      84426     -235  ...       223665   -273   \n",
       "28742         332       5834     189950     -343  ...       447494   -427   \n",
       "28743          39        506     114687     -311  ...       355019   -334   \n",
       "28744           6         43      27804     -140  ...        83418   -167   \n",
       "28745          16       7254     248905     -296  ...       569755   -442   \n",
       "28746           8        458      38050     -148  ...       113339   -180   \n",
       "28747          23        537      61655     -229  ...       176177   -263   \n",
       "28748          80        702      92078     -225  ...       244639   -269   \n",
       "28749          52      45543     270980     -433  ...       880638   -517   \n",
       "28750           2         66       9436      -40  ...        16860    -66   \n",
       "28751          49       3734     302360     -420  ...       775900   -520   \n",
       "28752          70     199715     342264     -474  ...      1286578   -566   \n",
       "28753          50        731      99051     -284  ...       261067   -321   \n",
       "28754          15        439      59051     -242  ...       187842   -264   \n",
       "28755          42        220      77840     -210  ...       214156   -257   \n",
       "28756          10         59      39976     -205  ...       130620   -223   \n",
       "28757          46     320991     552341     -493  ...      4240221   -626   \n",
       "\n",
       "       Median4  Variance3  Mean4  Median5  Median9  Mean5  Mean9  SVM_f  \n",
       "0            6          6      9        6        0      7      0   True  \n",
       "1           14         20     24       15        2     20      1  False  \n",
       "2            2          2      6        2       -4      6     -4   True  \n",
       "3           13         11     29       17       -2     25      4   True  \n",
       "4           17         15     23       16        1     19      0   True  \n",
       "5            4         14     32       10       14     32     13  False  \n",
       "6           31         36     69       44       11     60     11  False  \n",
       "7            5          4      8        5       -4      7     -3   True  \n",
       "8            2          5      8        3        6      8      5  False  \n",
       "9            8          7     17       11        2     14      1   True  \n",
       "10           4          2      6        4       -1      5      0  False  \n",
       "11           6          9      9        7        2      8      3   True  \n",
       "12          90         79    228       99       10    199     15  False  \n",
       "13          28         31     34       28       -1     30     -1  False  \n",
       "14           5          3      8        5       -3      7     -3  False  \n",
       "15          26         26     75       64       11     76     10  False  \n",
       "16          25         27     38       26        0     34      0   True  \n",
       "17          16         21     26       18        2     23      1  False  \n",
       "18           1          1      2        1        0      2      0   True  \n",
       "19           7          9      9        7        8      7      8  False  \n",
       "20          34         22     42       33        7     35      8  False  \n",
       "21          34         24     48       38        2     39     -1  False  \n",
       "22           2          1      3        2       -3      2     -2  False  \n",
       "23           8         15     22        8        5     18      0  False  \n",
       "24          25         33     43       28        1     37      2  False  \n",
       "25          13         14     19       14        1     16      1   True  \n",
       "26           9          8     18       10       -3     15     -3   True  \n",
       "27          23         16     36       23        0     31     -1  False  \n",
       "28           1          2      3        1        5      2      4  False  \n",
       "29          41         41     46       41       -5     43     -4  False  \n",
       "...        ...        ...    ...      ...      ...    ...    ...    ...  \n",
       "28728       27         48     52       31        3     46      3  False  \n",
       "28729       37         46     70       54       -2     59     -2   True  \n",
       "28730       32         48     44       32      -11     37    -11  False  \n",
       "28731       67         84    101       77       -2     91     -1   True  \n",
       "28732      649        598   1512     1369       67   1337     60   True  \n",
       "28733       84        106    109       88        5    103      5   True  \n",
       "28734        3          9      9        3        3      7      2   True  \n",
       "28735       34         52     55       38        1     48      1  False  \n",
       "28736      144        118    179      152       10    158      7   True  \n",
       "28737       24         26     55       30        6     53      1   True  \n",
       "28738       14         24     23       16       -2     20     -2  False  \n",
       "28739       70         75     94       72        0     81     -2   True  \n",
       "28740      104        182    236      117       27    233     24   True  \n",
       "28741       28         43     38       30        0     34      0   True  \n",
       "28742       99         90    140       97       -5    124     -6   True  \n",
       "28743       72         69     81       68       10     70      9   True  \n",
       "28744        9         15     12        9       -1     10     -1  False  \n",
       "28745       79        112    113       86       -5    101     -4   True  \n",
       "28746       14         22     22       17        3     21      6   True  \n",
       "28747       33         35     44       36        3     40      4   True  \n",
       "28748       22         49     47       34       -7     37     -3  False  \n",
       "28749      118        181    247      140       21    211     23   True  \n",
       "28750        0          3      4        1        2      3      2  False  \n",
       "28751      136        156    165      142        9    149      9  False  \n",
       "28752      123        263    369      162        2    334     20   True  \n",
       "28753       43         51     61       47        0     53     -1  False  \n",
       "28754       31         36     47       40        4     43      5  False  \n",
       "28755       27         40     35       28       -3     31     -4  False  \n",
       "28756       21         25     24       19        0     20      0  False  \n",
       "28757      860        728   1757     1665       63   1520     58   True  \n",
       "\n",
       "[28758 rows x 21 columns]"
      ]
     },
     "execution_count": 365,
     "metadata": {},
     "output_type": "execute_result"
    }
   ],
   "source": [
    "df_train_1"
   ]
  },
  {
   "cell_type": "code",
   "execution_count": 367,
   "metadata": {
    "collapsed": false
   },
   "outputs": [
    {
     "name": "stdout",
     "output_type": "stream",
     "text": [
      "Feature ranking:\n",
      "1. feature 0 (0.334510)distance\n",
      "2. feature 1 (0.186376)x\n",
      "3. feature 2 (0.164406)y\n",
      "4. feature 20 (0.022734)SVM_f\n",
      "5. feature 3 (0.020272)Median1\n",
      "6. feature 4 (0.020174)Variance9\n",
      "7. feature 6 (0.019426)Variance10\n",
      "8. feature 5 (0.019175)Mean1\n",
      "9. feature 7 (0.018765)Variance5\n",
      "10. feature 8 (0.018354)Variance2\n",
      "11. feature 9 (0.018192)Median2\n",
      "12. feature 10 (0.018168)Variance4\n",
      "13. feature 11 (0.017150)Variance1\n",
      "14. feature 12 (0.016793)Mean2\n",
      "15. feature 17 (0.015504)Median9\n",
      "16. feature 13 (0.015319)Median4\n",
      "17. feature 19 (0.015202)Mean9\n",
      "18. feature 16 (0.015166)Median5\n",
      "19. feature 15 (0.015033)Mean4\n",
      "20. feature 18 (0.014706)Mean5\n",
      "21. feature 14 (0.014575)Variance3\n"
     ]
    },
    {
     "data": {
      "image/png": "[encoded data removed]",
      "text/plain": [
       "<matplotlib.figure.Figure at 0x11fdc6990>"
      ]
     },
     "metadata": {},
     "output_type": "display_data"
    }
   ],
   "source": [
    "importances = forest.feature_importances_\n",
    "std = np.std([tree.feature_importances_ for tree in forest.estimators_],\n",
    "             axis=0)\n",
    "indices = np.argsort(importances)[::-1]\n",
    "\n",
    "# Print the feature ranking\n",
    "print(\"Feature ranking:\")\n",
    "\n",
    "for f in range(len(df_train_1.columns)):\n",
    "    print str(\"%d. feature %d (%f)\" % (f + 1, indices[f], importances[indices[f]])) + str(df_train_1.columns[indices[f]])\n",
    "    \n",
    "\n",
    "# Plot the feature importances of the forest\n",
    "plt.figure()\n",
    "#plt.title(\"Feature importances\")\n",
    "plt.bar(range(len(df_train_1.columns)), importances[indices],\n",
    "       color=\"r\", yerr=std[indices], align=\"center\")\n",
    "plt.xticks(range(10), indices)\n",
    "plt.xlim([-1, 10])\n",
    "#plt.xticks(range(len(df_test.columns)), df_test.columns)\n",
    "plt.show()"
   ]
  },
  {
   "cell_type": "markdown",
   "metadata": {},
   "source": [
    "#### Filtering Further"
   ]
  },
  {
   "cell_type": "code",
   "execution_count": 374,
   "metadata": {
    "collapsed": false
   },
   "outputs": [],
   "source": [
    "imp = indices[:10]"
   ]
  },
  {
   "cell_type": "code",
   "execution_count": 372,
   "metadata": {
    "collapsed": false
   },
   "outputs": [
    {
     "data": {
      "text/plain": [
       "0.84050179211469533"
      ]
     },
     "execution_count": 372,
     "metadata": {},
     "output_type": "execute_result"
    }
   ],
   "source": [
    "#running Random forest, with SVM feature along with the spatial features\n",
    "forest = random_forest(n_estimators = 1000, max_depth=50)\n",
    "forest.fit(df_train_1.ix[:,['x', 'y', 'distance','SVM_f']], y_train)\n",
    "#Predicting\n",
    "y_pred = forest.predict(df_test_l.ix[:,['x', 'y', 'distance','SVM_f']])\n",
    "accuracy_score(y_true, y_pred)\n",
    "# We have an improvemnet in the random forest which is good! to 86.6"
   ]
  },
  {
   "cell_type": "code",
   "execution_count": 375,
   "metadata": {
    "collapsed": false
   },
   "outputs": [
    {
     "data": {
      "text/plain": [
       "0.85867895545314898"
      ]
     },
     "execution_count": 375,
     "metadata": {},
     "output_type": "execute_result"
    }
   ],
   "source": [
    "#running Random forest, with SVM feature added along with the best 10\n",
    "forest = random_forest(n_estimators = 1000, max_depth=50)\n",
    "forest.fit(df_train_1.ix[:,imp], y_train)\n",
    "#Predicting\n",
    "y_pred = forest.predict(df_test_l.ix[:,imp])\n",
    "accuracy_score(y_true, y_pred)\n",
    "# We have an improvemnet in the random forest which is good! to 86.6"
   ]
  },
  {
   "cell_type": "markdown",
   "metadata": {},
   "source": [
    "    Non could beat the accuracy of 87 %, so now we have the top 20 Features to be best_column_features"
   ]
  },
  {
   "cell_type": "code",
   "execution_count": 3,
   "metadata": {
    "collapsed": false
   },
   "outputs": [],
   "source": [
    "best_column_features = np.array([67, 65, 66, 13, 34,  0, 35, 30, 27, 14, 29, 26,  1, 16, 28,  3, 17,\n",
    "       21,  4,  8])"
   ]
  },
  {
   "cell_type": "markdown",
   "metadata": {},
   "source": [
    "# Work with the best features"
   ]
  },
  {
   "cell_type": "markdown",
   "metadata": {},
   "source": [
    "## Tunning Random Forest"
   ]
  },
  {
   "cell_type": "code",
   "execution_count": 379,
   "metadata": {
    "collapsed": false
   },
   "outputs": [
    {
     "name": "stderr",
     "output_type": "stream",
     "text": [
      "[Parallel(n_jobs=4)]: Done   1 out of 1000 | elapsed:    0.1s remaining:  1.4min\n",
      "[Parallel(n_jobs=4)]: Done 1000 out of 1000 | elapsed:   22.0s finished\n",
      "[Parallel(n_jobs=4)]: Done   1 out of  42 | elapsed:    0.0s remaining:    0.1s\n",
      "[Parallel(n_jobs=4)]: Done 1000 out of 1000 | elapsed:    0.3s finished\n"
     ]
    },
    {
     "data": {
      "text/plain": [
       "0.86559139784946237"
      ]
     },
     "execution_count": 379,
     "metadata": {},
     "output_type": "execute_result"
    }
   ],
   "source": [
    "#running Random forest\n",
    "forest = random_forest(n_estimators = 1000, max_depth=50, n_jobs =-1)\n",
    "forest.fit(df_train.ix[:,best_column_features], y_train)\n",
    "#Predicting\n",
    "y_pred = forest.predict(df_test.ix[:,best_column_features])\n",
    "accuracy_score(y_true, y_pred)\n",
    "# We have an improvemnet in the random forest which is good! to 86.6"
   ]
  },
  {
   "cell_type": "markdown",
   "metadata": {},
   "source": [
    "### Tunning  the splitting criterion"
   ]
  },
  {
   "cell_type": "code",
   "execution_count": 387,
   "metadata": {
    "collapsed": false
   },
   "outputs": [],
   "source": [
    "c_acc = []\n",
    "for cri in ['gini', 'entropy']:\n",
    "    forest = random_forest(n_estimators = 1000, max_depth=50, criterion=cri, n_jobs =-1)\n",
    "    forest.fit(df_train.ix[:,best_column_features], y_train)\n",
    "    #Predicting\n",
    "    y_pred = forest.predict(df_test.ix[:,best_column_features])\n",
    "    a = accuracy_score(y_true, y_pred)  \n",
    "    c_acc.append([cri,float(a)])\n",
    "    \n",
    "\n"
   ]
  },
  {
   "cell_type": "code",
   "execution_count": 388,
   "metadata": {
    "collapsed": false
   },
   "outputs": [
    {
     "data": {
      "text/plain": [
       "[['gini', 0.8661034306195596], ['entropy', 0.8661034306195596]]"
      ]
     },
     "execution_count": 388,
     "metadata": {},
     "output_type": "execute_result"
    }
   ],
   "source": [
    "c_acc"
   ]
  },
  {
   "cell_type": "markdown",
   "metadata": {},
   "source": [
    "### Tunning  the min per split criterion"
   ]
  },
  {
   "cell_type": "code",
   "execution_count": 403,
   "metadata": {
    "collapsed": false
   },
   "outputs": [
    {
     "data": {
      "text/plain": [
       "[<matplotlib.lines.Line2D at 0x11f9e2b90>]"
      ]
     },
     "execution_count": 403,
     "metadata": {},
     "output_type": "execute_result"
    },
    {
     "data": {
      "image/png": "[encoded data removed]",
      "text/plain": [
       "<matplotlib.figure.Figure at 0x122bee590>"
      ]
     },
     "metadata": {},
     "output_type": "display_data"
    }
   ],
   "source": [
    "ms_acc = []\n",
    "for min_s in range(40)+np.ones(40)*2:\n",
    "    forest = random_forest(n_estimators = 1000, max_depth=50, min_samples_split = min_s, n_jobs =-1)\n",
    "    forest.fit(df_train.ix[:,best_column_features], y_train)\n",
    "    #Predicting\n",
    "    y_pred = forest.predict(df_test.ix[:,best_column_features])\n",
    "    a = accuracy_score(y_true, y_pred)  \n",
    "    ms_acc.append([min_s,float(a)])\n",
    "plt.plot(np.array(ms_acc)[:,0],np.array(ms_acc)[:,1])"
   ]
  },
  {
   "cell_type": "code",
   "execution_count": null,
   "metadata": {
    "collapsed": true
   },
   "outputs": [],
   "source": []
  },
  {
   "cell_type": "markdown",
   "metadata": {},
   "source": [
    "### Tunning  the min per node criterion"
   ]
  },
  {
   "cell_type": "code",
   "execution_count": 404,
   "metadata": {
    "collapsed": false
   },
   "outputs": [
    {
     "data": {
      "text/plain": [
       "[<matplotlib.lines.Line2D at 0x11b669f90>]"
      ]
     },
     "execution_count": 404,
     "metadata": {},
     "output_type": "execute_result"
    },
    {
     "data": {
      "image/png": "[encoded data removed]",
      "text/plain": [
       "<matplotlib.figure.Figure at 0x11f1d7790>"
      ]
     },
     "metadata": {},
     "output_type": "display_data"
    }
   ],
   "source": [
    "msl_acc = []\n",
    "for min_sl in range(40)+np.ones(40)*2:\n",
    "    forest = random_forest(n_estimators = 1000, max_depth=50, min_samples_leaf = min_sl, n_jobs =-1)\n",
    "    forest.fit(df_train.ix[:,best_column_features], y_train)\n",
    "    #Predicting\n",
    "    y_pred = forest.predict(df_test.ix[:,best_column_features])\n",
    "    a = accuracy_score(y_true, y_pred)  \n",
    "    msl_acc.append([min_sl,float(a)])\n",
    "plt.plot(np.array(msl_acc)[:,0],np.array(msl_acc)[:,1])"
   ]
  },
  {
   "cell_type": "code",
   "execution_count": null,
   "metadata": {
    "collapsed": true
   },
   "outputs": [],
   "source": [
    "#Chosen parameters, default for everything, except for the min_sample_split(19)"
   ]
  },
  {
   "cell_type": "code",
   "execution_count": null,
   "metadata": {
    "collapsed": true
   },
   "outputs": [],
   "source": []
  },
  {
   "cell_type": "markdown",
   "metadata": {},
   "source": [
    "## Tunning SVM"
   ]
  },
  {
   "cell_type": "markdown",
   "metadata": {},
   "source": [
    "## Tunning the kernel"
   ]
  },
  {
   "cell_type": "code",
   "execution_count": null,
   "metadata": {
    "collapsed": true
   },
   "outputs": [],
   "source": [
    "svmk_acc = [ 'poly', 'rbf', 'sigmoid']\n",
    "for svmk in svmk_acc:\n",
    "    svm_cls = svm.SVC(kernel=svmk)\n",
    "    svm_cls.fit(df_train.ix[:,best_column_features], y_train)\n",
    "    #Predicting\n",
    "    y_pred = svm_cls.predict(df_test.ix[:,best_column_features])\n",
    "    a = accuracy_score(y_true, y_pred)  \n",
    "    svmk_acc.append([min_sl,float(a)])\n",
    "plt.plot(np.array(svmk_acc)[:,0],np.array(svmk_acc)[:,1])"
   ]
  },
  {
   "cell_type": "markdown",
   "metadata": {},
   "source": [
    "## Tunning the gamma"
   ]
  },
  {
   "cell_type": "code",
   "execution_count": 16,
   "metadata": {
    "collapsed": false
   },
   "outputs": [
    {
     "data": {
      "text/plain": [
       "[<matplotlib.lines.Line2D at 0x10b9610d0>]"
      ]
     },
     "execution_count": 16,
     "metadata": {},
     "output_type": "execute_result"
    },
    {
     "data": {
      "image/png": "[encoded data removed]",
      "text/plain": [
       "<matplotlib.figure.Figure at 0x105b032d0>"
      ]
     },
     "metadata": {},
     "output_type": "display_data"
    }
   ],
   "source": [
    "gamma_acc = []\n",
    "for gamma_i in range(20)+np.ones(20)*2:\n",
    "    svm_cls = svm.SVC(gamma = gamma_i) \n",
    "    svm_cls.fit(df_train.ix[:,best_column_features], y_train)\n",
    "    #Predicting\n",
    "    y_pred = svm_cls.predict(df_test.ix[:,best_column_features])\n",
    "    a = accuracy_score(y_true, y_pred)  \n",
    "    gamma_acc.append([gamma_i,float(a)])\n",
    "plt.plot(np.array(gamma_acc)[:,0],np.array(gamma_acc)[:,1])"
   ]
  },
  {
   "cell_type": "code",
   "execution_count": 19,
   "metadata": {
    "collapsed": false
   },
   "outputs": [
    {
     "data": {
      "text/plain": [
       "array([ 0.1,  0.2,  0.3,  0.4,  0.5,  0.6,  0.7,  0.8,  0.9,  1. ,  1.1,\n",
       "        1.2,  1.3,  1.4,  1.5,  1.6,  1.7,  1.8,  1.9,  2. ])"
      ]
     },
     "execution_count": 19,
     "metadata": {},
     "output_type": "execute_result"
    }
   ],
   "source": [
    "np.array(range(20))*0.1+np.ones(20)*0.1"
   ]
  },
  {
   "cell_type": "code",
   "execution_count": 20,
   "metadata": {
    "collapsed": false
   },
   "outputs": [
    {
     "data": {
      "text/plain": [
       "[<matplotlib.lines.Line2D at 0x10e04b490>]"
      ]
     },
     "execution_count": 20,
     "metadata": {},
     "output_type": "execute_result"
    },
    {
     "data": {
      "image/png": "[encoded data removed]",
      "text/plain": [
       "<matplotlib.figure.Figure at 0x10b979c50>"
      ]
     },
     "metadata": {},
     "output_type": "display_data"
    }
   ],
   "source": [
    "C_acc = []\n",
    "for C_i in np.array(range(20))*0.1+np.ones(20)*0.1:\n",
    "    svm_cls = svm.SVC(C = C_i)\n",
    "    svm_cls.fit(df_train.ix[:,best_column_features], y_train)\n",
    "    #Predicting\n",
    "    y_pred = svm_cls.predict(df_test.ix[:,best_column_features])\n",
    "    a = accuracy_score(y_true, y_pred)  \n",
    "    C_acc.append([C_i,float(a)])\n",
    "plt.plot(np.array(C_acc)[:,0],np.array(C_acc)[:,1])"
   ]
  },
  {
   "cell_type": "markdown",
   "metadata": {},
   "source": [
    "## Tunning KNN"
   ]
  },
  {
   "cell_type": "code",
   "execution_count": null,
   "metadata": {
    "collapsed": true
   },
   "outputs": [],
   "source": []
  },
  {
   "cell_type": "code",
   "execution_count": 345,
   "metadata": {
    "collapsed": true
   },
   "outputs": [],
   "source": [
    "#Graph of tunning parameter versus testing error"
   ]
  },
  {
   "cell_type": "markdown",
   "metadata": {},
   "source": [
    "## Defining Cross Validation Functions"
   ]
  },
  {
   "cell_type": "code",
   "execution_count": null,
   "metadata": {
    "collapsed": true
   },
   "outputs": [],
   "source": []
  },
  {
   "cell_type": "code",
   "execution_count": 25,
   "metadata": {
    "collapsed": false
   },
   "outputs": [
    {
     "data": {
      "text/plain": [
       "array([[  2.37000000e+02,   5.64063225e+02,   2.38875687e+02, ...,\n",
       "          0.00000000e+00,   7.00000000e+00,   0.00000000e+00],\n",
       "       [  6.30317383e+01,   1.20589947e+02,   2.00251323e+02, ...,\n",
       "          2.00000000e+00,   2.00000000e+01,   1.00000000e+00],\n",
       "       [  5.09215088e+01,   9.29826923e+02,   4.98230769e+02, ...,\n",
       "         -4.00000000e+00,   6.00000000e+00,  -4.00000000e+00],\n",
       "       ..., \n",
       "       [  1.08853111e+02,   1.06547938e+03,   3.53532990e+02, ...,\n",
       "         -3.00000000e+00,   3.10000000e+01,  -4.00000000e+00],\n",
       "       [  3.25576401e+01,   6.30236652e+02,   3.30221719e+01, ...,\n",
       "          0.00000000e+00,   2.00000000e+01,   0.00000000e+00],\n",
       "       [  2.97321377e+01,   6.76327300e+01,   3.94474359e+02, ...,\n",
       "          6.30000000e+01,   1.52000000e+03,   5.80000000e+01]])"
      ]
     },
     "execution_count": 25,
     "metadata": {},
     "output_type": "execute_result"
    }
   ],
   "source": [
    "df_train.ix[:,best_column_features].values"
   ]
  },
  {
   "cell_type": "markdown",
   "metadata": {},
   "source": [
    "### Random Forest Cross Validation"
   ]
  },
  {
   "cell_type": "code",
   "execution_count": 217,
   "metadata": {
    "collapsed": false
   },
   "outputs": [
    {
     "data": {
      "text/plain": [
       "28758"
      ]
     },
     "execution_count": 217,
     "metadata": {},
     "output_type": "execute_result"
    }
   ],
   "source": [
    "sum(X.index.unique()==range(len(X.index)))"
   ]
  },
  {
   "cell_type": "code",
   "execution_count": 286,
   "metadata": {
    "collapsed": false,
    "scrolled": true
   },
   "outputs": [
    {
     "data": {
      "text/plain": [
       "23965"
      ]
     },
     "execution_count": 286,
     "metadata": {},
     "output_type": "execute_result"
    }
   ],
   "source": [
    "len(y_train[train_y])"
   ]
  },
  {
   "cell_type": "code",
   "execution_count": 314,
   "metadata": {
    "collapsed": true
   },
   "outputs": [],
   "source": [
    "##Define a function that would return the cross validation ROC_Array, Agg_Accuracy_Array, given a random forest model\n",
    "X = df_train\n",
    "y = y_train\n",
    "\n",
    "def getROCandAccuracyOfCLF(forest_i,X,y,ROC=False):\n",
    "    \n",
    "    kf = cross_validation.KFold(len(X), n_folds=6,shuffle=True)\n",
    "    #initialize the cv_labels_np_array\n",
    "\n",
    "    cv_labels = np.array(range(len(y)))\n",
    "    cv_score = np.ones((len(y),3))\n",
    "    acc_array = []\n",
    "    \n",
    "    fpr_array = []\n",
    "    \n",
    "    tpr_array = []\n",
    "    \n",
    "    auc_array = []\n",
    "    for train_index, test_index in kf:\n",
    "        train_x = X.ix[train_index,best_column_features]\n",
    "        train_y = y[train_index]\n",
    "\n",
    "        test_x = X.ix[test_index,best_column_features]\n",
    "        test_y = y[test_index]\n",
    "\n",
    "        #Train the classifier\n",
    "        #forest_i = random_forest(n_estimators = 1000, max_depth=50, min_samples_split=19, n_jobs =-1 )\n",
    "        forest_i.fit(train_x, train_y)\n",
    "        cv_labels = forest_i.predict(test_x)\n",
    "        \n",
    "        #Compute the accuracy\n",
    "        acc_array.append(sum(test_y==cv_labels)/float(len(cv_labels)))\n",
    "        if(ROC):\n",
    "            #compute the ROC\n",
    "            cv_score = forest_i.predict_proba(test_x)\n",
    "\n",
    "            #TP TN\n",
    "            fpr = dict()\n",
    "            tpr = dict()\n",
    "            roc_auc = dict()\n",
    "            n_classes = forest_i.classes_\n",
    "            for i in range(3):\n",
    "                print n_classes[i]\n",
    "                fpr[i], tpr[i], _ = roc_curve(test_y==n_classes[i], cv_score[:, i])\n",
    "                roc_auc[i] = auc(fpr[i], tpr[i])\n",
    "\n",
    "            fpr_array.append(fpr)\n",
    "            tpr_array.append(tpr)\n",
    "\n",
    "            auc_array.append(roc_auc)\n",
    "        \n",
    "    return fpr_array, tpr_array, auc_array, acc_array\n",
    "    \n",
    "        "
   ]
  },
  {
   "cell_type": "code",
   "execution_count": 315,
   "metadata": {
    "collapsed": false
   },
   "outputs": [
    {
     "data": {
      "text/plain": [
       "([],\n",
       " [],\n",
       " [],\n",
       " [0.86501147506780718,\n",
       "  0.85729188399749634,\n",
       "  0.86250782390986858,\n",
       "  0.86334237429584815,\n",
       "  0.86250782390986858,\n",
       "  0.85958689755894013])"
      ]
     },
     "execution_count": 315,
     "metadata": {},
     "output_type": "execute_result"
    }
   ],
   "source": [
    "forest = random_forest(n_estimators = 1000, max_depth=50, min_samples_split=19, n_jobs =-1 )\n",
    "getROCandAccuracyOfCLF(forest, X,y)"
   ]
  },
  {
   "cell_type": "code",
   "execution_count": 287,
   "metadata": {
    "collapsed": false
   },
   "outputs": [
    {
     "name": "stdout",
     "output_type": "stream",
     "text": [
      "sklearn.cross_validation.KFold(n=28758, n_folds=6, shuffle=True, random_state=None)\n"
     ]
    }
   ],
   "source": [
    "#Read to run\n",
    "#run in the lab then go to bin\n",
    "\n",
    "from sklearn import cross_validation\n",
    "X = df_train\n",
    "y = y_train\n",
    "kf = cross_validation.KFold(len(X), n_folds=6,shuffle=True)\n",
    "len(kf)\n",
    "\n",
    "print(kf)  \n",
    "\n",
    "#initialize the cv_labels_np_array\n",
    "\n",
    "cv_labels = np.array(range(len(y)))\n",
    "cv_score = np.ones((len(y),3))\n",
    "\n",
    "for train_index, test_index in kf:\n",
    "    train_x = X.ix[train_index,best_column_features]\n",
    "    train_y = y[train_index]\n",
    "    \n",
    "    test_x = X.ix[test_index,best_column_features]\n",
    "    test_y = y[test_index]\n",
    "    \n",
    "    #Train the classifier\n",
    "    forest = random_forest(n_estimators = 1000, max_depth=50, min_samples_split=19, n_jobs =-1 )\n",
    "    forest.fit(train_x, train_y)\n",
    "    \n",
    "    cv_labels[test_index] = forest.predict(test_x)\n",
    "    cv_score[test_index] = forest.predict_proba(test_x)\n",
    "    \n",
    "    "
   ]
  },
  {
   "cell_type": "code",
   "execution_count": 296,
   "metadata": {
    "collapsed": false
   },
   "outputs": [
    {
     "data": {
      "text/plain": [
       "0.86181236525488558"
      ]
     },
     "execution_count": 296,
     "metadata": {},
     "output_type": "execute_result"
    }
   ],
   "source": [
    "sum(cv_labels==y)/float(len(y))"
   ]
  },
  {
   "cell_type": "code",
   "execution_count": 186,
   "metadata": {
    "collapsed": false
   },
   "outputs": [],
   "source": [
    "cv_score = np.ones((len(y),3))"
   ]
  },
  {
   "cell_type": "code",
   "execution_count": 192,
   "metadata": {
    "collapsed": false
   },
   "outputs": [],
   "source": [
    "cv_score[[1,2]] = [[1,2,3],[1,2,3]]"
   ]
  },
  {
   "cell_type": "code",
   "execution_count": 247,
   "metadata": {
    "collapsed": false
   },
   "outputs": [
    {
     "data": {
      "text/plain": [
       "array([[ 0.00565757,  0.12344804,  0.87089438],\n",
       "       [ 0.63783232,  0.35263341,  0.00953427],\n",
       "       [ 0.98659605,  0.01217813,  0.00122581],\n",
       "       ..., \n",
       "       [ 0.7014285 ,  0.29642152,  0.00214998],\n",
       "       [ 0.83653477,  0.00461136,  0.15885388],\n",
       "       [ 0.9427976 ,  0.04111542,  0.01608697]])"
      ]
     },
     "execution_count": 247,
     "metadata": {},
     "output_type": "execute_result"
    }
   ],
   "source": [
    "cv_score"
   ]
  },
  {
   "cell_type": "code",
   "execution_count": 300,
   "metadata": {
    "collapsed": false
   },
   "outputs": [],
   "source": [
    "#running Random forest\n",
    "forest = random_forest(n_estimators = 1000, max_depth=50, min_samples_split=19, n_jobs =-1 )\n",
    "y_score_HOS = forest.fit(df_train.ix[:,best_column_features], y_train).predict_proba(df_test.ix[:,best_column_features])"
   ]
  },
  {
   "cell_type": "code",
   "execution_count": 302,
   "metadata": {
    "collapsed": false
   },
   "outputs": [
    {
     "name": "stdout",
     "output_type": "stream",
     "text": [
      "1\n",
      "2\n",
      "3\n"
     ]
    },
    {
     "data": {
      "image/png": "[encoded data removed]",
      "text/plain": [
       "<matplotlib.figure.Figure at 0x12627ff90>"
      ]
     },
     "metadata": {},
     "output_type": "display_data"
    },
    {
     "data": {
      "image/png": "[encoded data removed]",
      "text/plain": [
       "<matplotlib.figure.Figure at 0x10e252fd0>"
      ]
     },
     "metadata": {},
     "output_type": "display_data"
    }
   ],
   "source": [
    "from sklearn.metrics import roc_curve, auc\n",
    "from sklearn.cross_validation import StratifiedKFold\n",
    "\n",
    "y_score = y_score_HOS\n",
    "\n",
    "\n",
    "#Micro Averaging the y_true label matrix\n",
    "y_true_micro_averaged = []\n",
    "for y_true_i in y_true:\n",
    "    y_true_micro_averaged.append([y_true_i==1,y_true_i==2,y_true_i==3])\n",
    "    \n",
    "# Run classifier with cross-validation and plot ROC curves\n",
    "n_classes = forest.classes_\n",
    "\n",
    "fpr = dict()\n",
    "tpr = dict()\n",
    "roc_auc = dict()\n",
    "n_classes = forest.classes_\n",
    "for i in range(3):\n",
    "    print n_classes[i]\n",
    "    fpr[i], tpr[i], _ = roc_curve(y_true==n_classes[i], y_score[:, i])\n",
    "    roc_auc[i] = auc(fpr[i], tpr[i])\n",
    "\n",
    "# Compute micro-average ROC curve and ROC area\n",
    "fpr[\"micro\"], tpr[\"micro\"], _ = roc_curve(np.array(y_true_micro_averaged).ravel(), y_score.ravel())\n",
    "roc_auc[\"micro\"] = auc(fpr[\"micro\"], tpr[\"micro\"])\n",
    "\n",
    "# Plot of a ROC curve for a specific class\n",
    "plt.figure()\n",
    "plt.plot(fpr[2], tpr[2], label='ROC curve (area = %0.2f)' % roc_auc[2])\n",
    "plt.plot([0, 1], [0, 1], 'k--')\n",
    "plt.xlim([0.0, 1.0])\n",
    "plt.ylim([0.0, 1.05])\n",
    "plt.xlabel('False Positive Rate')\n",
    "plt.ylabel('True Positive Rate')\n",
    "plt.title('Receiver operating characteristic example')\n",
    "plt.legend(loc=\"lower right\")\n",
    "plt.show()\n",
    "\n",
    "# Plot ROC curve\n",
    "plt.figure()\n",
    "plt.plot(fpr[\"micro\"], tpr[\"micro\"],\n",
    "         label='micro-average ROC curve (area = {0:0.2f})'\n",
    "               ''.format(roc_auc[\"micro\"]))\n",
    "for i in range(len(n_classes)):\n",
    "    plt.plot(fpr[i], tpr[i], label='ROC curve of class {0} (area = {1:0.2f})'\n",
    "                                   ''.format(i, roc_auc[i]))\n",
    "\n",
    "plt.plot([0, 1], [0, 1], 'k--')\n",
    "plt.xlim([0.0, 1.0])\n",
    "plt.ylim([0.0, 1.05])\n",
    "plt.xlabel('False Positive Rate')\n",
    "plt.ylabel('True Positive Rate')\n",
    "plt.title('Some extension of Receiver operating characteristic to multi-class')\n",
    "plt.legend(loc=\"lower right\")\n",
    "plt.show()"
   ]
  },
  {
   "cell_type": "code",
   "execution_count": 239,
   "metadata": {
    "collapsed": false
   },
   "outputs": [],
   "source": [
    "#y_true = cv_labels\n",
    "y_score = cv_score"
   ]
  },
  {
   "cell_type": "code",
   "execution_count": 244,
   "metadata": {
    "collapsed": false
   },
   "outputs": [
    {
     "data": {
      "text/plain": [
       "28758"
      ]
     },
     "execution_count": 244,
     "metadata": {},
     "output_type": "execute_result"
    }
   ],
   "source": [
    "\n",
    "len(cv_score)"
   ]
  },
  {
   "cell_type": "code",
   "execution_count": 142,
   "metadata": {
    "collapsed": false
   },
   "outputs": [
    {
     "data": {
      "text/plain": [
       "array([ True, False, False, ...,  True, False, False], dtype=bool)"
      ]
     },
     "execution_count": 142,
     "metadata": {},
     "output_type": "execute_result"
    }
   ],
   "source": [
    "np.array(y_true_micro_averaged).ravel()"
   ]
  },
  {
   "cell_type": "code",
   "execution_count": 292,
   "metadata": {
    "collapsed": false
   },
   "outputs": [
    {
     "data": {
      "text/plain": [
       "1.0"
      ]
     },
     "execution_count": 292,
     "metadata": {},
     "output_type": "execute_result"
    }
   ],
   "source": [
    "float(len(y_train == cv_labels)/len(cv_labels))"
   ]
  },
  {
   "cell_type": "code",
   "execution_count": 310,
   "metadata": {
    "collapsed": false
   },
   "outputs": [
    {
     "data": {
      "text/plain": [
       "4793.0"
      ]
     },
     "execution_count": 310,
     "metadata": {},
     "output_type": "execute_result"
    }
   ],
   "source": [
    "len(y_train)/6.0"
   ]
  },
  {
   "cell_type": "code",
   "execution_count": 304,
   "metadata": {
    "collapsed": false
   },
   "outputs": [
    {
     "name": "stdout",
     "output_type": "stream",
     "text": [
      "1\n"
     ]
    },
    {
     "ename": "ValueError",
     "evalue": "Found arrays with inconsistent numbers of samples: [ 3906 28758]",
     "output_type": "error",
     "traceback": [
      "\u001b[0;31m---------------------------------------------------------------------------\u001b[0m",
      "\u001b[0;31mValueError\u001b[0m                                Traceback (most recent call last)",
      "\u001b[0;32m<ipython-input-304-4fdff42822fd>\u001b[0m in \u001b[0;36m<module>\u001b[0;34m()\u001b[0m\n\u001b[1;32m     17\u001b[0m \u001b[0;32mfor\u001b[0m \u001b[0mi\u001b[0m \u001b[0;32min\u001b[0m \u001b[0mrange\u001b[0m\u001b[0;34m(\u001b[0m\u001b[0;36m3\u001b[0m\u001b[0;34m)\u001b[0m\u001b[0;34m:\u001b[0m\u001b[0;34m\u001b[0m\u001b[0m\n\u001b[1;32m     18\u001b[0m     \u001b[0;32mprint\u001b[0m \u001b[0mn_classes\u001b[0m\u001b[0;34m[\u001b[0m\u001b[0mi\u001b[0m\u001b[0;34m]\u001b[0m\u001b[0;34m\u001b[0m\u001b[0m\n\u001b[0;32m---> 19\u001b[0;31m     \u001b[0mfpr\u001b[0m\u001b[0;34m[\u001b[0m\u001b[0mi\u001b[0m\u001b[0;34m]\u001b[0m\u001b[0;34m,\u001b[0m \u001b[0mtpr\u001b[0m\u001b[0;34m[\u001b[0m\u001b[0mi\u001b[0m\u001b[0;34m]\u001b[0m\u001b[0;34m,\u001b[0m \u001b[0m_\u001b[0m \u001b[0;34m=\u001b[0m \u001b[0mroc_curve\u001b[0m\u001b[0;34m(\u001b[0m\u001b[0my_train\u001b[0m\u001b[0;34m==\u001b[0m\u001b[0mn_classes\u001b[0m\u001b[0;34m[\u001b[0m\u001b[0mi\u001b[0m\u001b[0;34m]\u001b[0m\u001b[0;34m,\u001b[0m \u001b[0my_score\u001b[0m\u001b[0;34m[\u001b[0m\u001b[0;34m:\u001b[0m\u001b[0;34m,\u001b[0m \u001b[0mi\u001b[0m\u001b[0;34m]\u001b[0m\u001b[0;34m)\u001b[0m\u001b[0;34m\u001b[0m\u001b[0m\n\u001b[0m\u001b[1;32m     20\u001b[0m     \u001b[0mroc_auc\u001b[0m\u001b[0;34m[\u001b[0m\u001b[0mi\u001b[0m\u001b[0;34m]\u001b[0m \u001b[0;34m=\u001b[0m \u001b[0mauc\u001b[0m\u001b[0;34m(\u001b[0m\u001b[0mfpr\u001b[0m\u001b[0;34m[\u001b[0m\u001b[0mi\u001b[0m\u001b[0;34m]\u001b[0m\u001b[0;34m,\u001b[0m \u001b[0mtpr\u001b[0m\u001b[0;34m[\u001b[0m\u001b[0mi\u001b[0m\u001b[0;34m]\u001b[0m\u001b[0;34m)\u001b[0m\u001b[0;34m\u001b[0m\u001b[0m\n\u001b[1;32m     21\u001b[0m \u001b[0;34m\u001b[0m\u001b[0m\n",
      "\u001b[0;32m/Users/fadikfoury/anaconda/lib/python2.7/site-packages/sklearn/metrics/ranking.pyc\u001b[0m in \u001b[0;36mroc_curve\u001b[0;34m(y_true, y_score, pos_label, sample_weight)\u001b[0m\n\u001b[1;32m    475\u001b[0m     \"\"\"\n\u001b[1;32m    476\u001b[0m     fps, tps, thresholds = _binary_clf_curve(\n\u001b[0;32m--> 477\u001b[0;31m         y_true, y_score, pos_label=pos_label, sample_weight=sample_weight)\n\u001b[0m\u001b[1;32m    478\u001b[0m \u001b[0;34m\u001b[0m\u001b[0m\n\u001b[1;32m    479\u001b[0m     \u001b[0;32mif\u001b[0m \u001b[0mtps\u001b[0m\u001b[0;34m.\u001b[0m\u001b[0msize\u001b[0m \u001b[0;34m==\u001b[0m \u001b[0;36m0\u001b[0m \u001b[0;32mor\u001b[0m \u001b[0mfps\u001b[0m\u001b[0;34m[\u001b[0m\u001b[0;36m0\u001b[0m\u001b[0;34m]\u001b[0m \u001b[0;34m!=\u001b[0m \u001b[0;36m0\u001b[0m\u001b[0;34m:\u001b[0m\u001b[0;34m\u001b[0m\u001b[0m\n",
      "\u001b[0;32m/Users/fadikfoury/anaconda/lib/python2.7/site-packages/sklearn/metrics/ranking.pyc\u001b[0m in \u001b[0;36m_binary_clf_curve\u001b[0;34m(y_true, y_score, pos_label, sample_weight)\u001b[0m\n\u001b[1;32m    281\u001b[0m         \u001b[0mDecreasing\u001b[0m \u001b[0mscore\u001b[0m \u001b[0mvalues\u001b[0m\u001b[0;34m.\u001b[0m\u001b[0;34m\u001b[0m\u001b[0m\n\u001b[1;32m    282\u001b[0m     \"\"\"\n\u001b[0;32m--> 283\u001b[0;31m     \u001b[0mcheck_consistent_length\u001b[0m\u001b[0;34m(\u001b[0m\u001b[0my_true\u001b[0m\u001b[0;34m,\u001b[0m \u001b[0my_score\u001b[0m\u001b[0;34m)\u001b[0m\u001b[0;34m\u001b[0m\u001b[0m\n\u001b[0m\u001b[1;32m    284\u001b[0m     \u001b[0my_true\u001b[0m \u001b[0;34m=\u001b[0m \u001b[0mcolumn_or_1d\u001b[0m\u001b[0;34m(\u001b[0m\u001b[0my_true\u001b[0m\u001b[0;34m)\u001b[0m\u001b[0;34m\u001b[0m\u001b[0m\n\u001b[1;32m    285\u001b[0m     \u001b[0my_score\u001b[0m \u001b[0;34m=\u001b[0m \u001b[0mcolumn_or_1d\u001b[0m\u001b[0;34m(\u001b[0m\u001b[0my_score\u001b[0m\u001b[0;34m)\u001b[0m\u001b[0;34m\u001b[0m\u001b[0m\n",
      "\u001b[0;32m/Users/fadikfoury/anaconda/lib/python2.7/site-packages/sklearn/utils/validation.pyc\u001b[0m in \u001b[0;36mcheck_consistent_length\u001b[0;34m(*arrays)\u001b[0m\n\u001b[1;32m    172\u001b[0m     \u001b[0;32mif\u001b[0m \u001b[0mlen\u001b[0m\u001b[0;34m(\u001b[0m\u001b[0muniques\u001b[0m\u001b[0;34m)\u001b[0m \u001b[0;34m>\u001b[0m \u001b[0;36m1\u001b[0m\u001b[0;34m:\u001b[0m\u001b[0;34m\u001b[0m\u001b[0m\n\u001b[1;32m    173\u001b[0m         raise ValueError(\"Found arrays with inconsistent numbers of samples: \"\n\u001b[0;32m--> 174\u001b[0;31m                          \"%s\" % str(uniques))\n\u001b[0m\u001b[1;32m    175\u001b[0m \u001b[0;34m\u001b[0m\u001b[0m\n\u001b[1;32m    176\u001b[0m \u001b[0;34m\u001b[0m\u001b[0m\n",
      "\u001b[0;31mValueError\u001b[0m: Found arrays with inconsistent numbers of samples: [ 3906 28758]"
     ]
    }
   ],
   "source": [
    "from sklearn.metrics import roc_curve, auc\n",
    "from sklearn.cross_validation import StratifiedKFold\n",
    "\n",
    "\n",
    "#Micro Averaging the y_true label matrix\n",
    "y_true_micro_averaged = []\n",
    "for y_true_i in y_train:\n",
    "    y_true_micro_averaged.append([y_true_i==1,y_true_i==2,y_true_i==3])\n",
    "    \n",
    "# Run classifier with cross-validation and plot ROC curves\n",
    "n_classes = forest.classes_\n",
    "\n",
    "fpr = dict()\n",
    "tpr = dict()\n",
    "roc_auc = dict()\n",
    "n_classes = forest.classes_\n",
    "for i in range(3):\n",
    "    print n_classes[i]\n",
    "    fpr[i], tpr[i], _ = roc_curve(y_train==n_classes[i], y_score[:, i])\n",
    "    roc_auc[i] = auc(fpr[i], tpr[i])\n",
    "\n",
    "# Compute micro-average ROC curve and ROC area\n",
    "fpr[\"micro\"], tpr[\"micro\"], _ = roc_curve(np.array(y_true_micro_averaged).ravel(), y_score.ravel())\n",
    "roc_auc[\"micro\"] = auc(fpr[\"micro\"], tpr[\"micro\"])\n",
    "\n",
    "# Plot of a ROC curve for a specific class\n",
    "plt.figure()\n",
    "plt.plot(fpr[2], tpr[2], label='ROC curve (area = %0.2f)' % roc_auc[2])\n",
    "plt.plot([0, 1], [0, 1], 'k--')\n",
    "plt.xlim([0.0, 1.0])\n",
    "plt.ylim([0.0, 1.05])\n",
    "plt.xlabel('False Positive Rate')\n",
    "plt.ylabel('True Positive Rate')\n",
    "plt.title('Receiver operating characteristic example')\n",
    "plt.legend(loc=\"lower right\")\n",
    "plt.show()\n",
    "\n",
    "# Plot ROC curve\n",
    "plt.figure()\n",
    "plt.plot(fpr[\"micro\"], tpr[\"micro\"],\n",
    "         label='micro-average ROC curve (area = {0:0.2f})'\n",
    "               ''.format(roc_auc[\"micro\"]))\n",
    "for i in range(len(n_classes)):\n",
    "    plt.plot(fpr[i], tpr[i], label='ROC curve of class {0} (area = {1:0.2f})'\n",
    "                                   ''.format(i, roc_auc[i]))\n",
    "\n",
    "plt.plot([0, 1], [0, 1], 'k--')\n",
    "plt.xlim([0.0, 1.0])\n",
    "plt.ylim([0.0, 1.05])\n",
    "plt.xlabel('False Positive Rate')\n",
    "plt.ylabel('True Positive Rate')\n",
    "plt.title('Some extension of Receiver operating characteristic to multi-class')\n",
    "plt.legend(loc=\"lower right\")\n",
    "plt.show()"
   ]
  },
  {
   "cell_type": "markdown",
   "metadata": {},
   "source": [
    "### SVM Cross Validation Accuracy"
   ]
  },
  {
   "cell_type": "code",
   "execution_count": null,
   "metadata": {
    "collapsed": true
   },
   "outputs": [],
   "source": []
  },
  {
   "cell_type": "code",
   "execution_count": null,
   "metadata": {
    "collapsed": true
   },
   "outputs": [],
   "source": []
  },
  {
   "cell_type": "markdown",
   "metadata": {},
   "source": [
    "### KNN Cross Validation Accuracy"
   ]
  },
  {
   "cell_type": "code",
   "execution_count": null,
   "metadata": {
    "collapsed": true
   },
   "outputs": [],
   "source": []
  },
  {
   "cell_type": "code",
   "execution_count": null,
   "metadata": {
    "collapsed": true
   },
   "outputs": [],
   "source": []
  },
  {
   "cell_type": "markdown",
   "metadata": {},
   "source": [
    "## Cross Validation Error of Random Forest"
   ]
  },
  {
   "cell_type": "code",
   "execution_count": null,
   "metadata": {
    "collapsed": true
   },
   "outputs": [],
   "source": []
  },
  {
   "cell_type": "code",
   "execution_count": null,
   "metadata": {
    "collapsed": true
   },
   "outputs": [],
   "source": []
  },
  {
   "cell_type": "code",
   "execution_count": null,
   "metadata": {
    "collapsed": true
   },
   "outputs": [],
   "source": []
  },
  {
   "cell_type": "code",
   "execution_count": null,
   "metadata": {
    "collapsed": true
   },
   "outputs": [],
   "source": []
  },
  {
   "cell_type": "code",
   "execution_count": 237,
   "metadata": {
    "collapsed": true
   },
   "outputs": [],
   "source": [
    "#running Random forest\n",
    "forest = random_forest(n_estimators = 500, max_depth=50)\n",
    "forest.fit(df_train, y_train)\n",
    "#Predicting\n",
    "y_pred = forest.predict(df_test)\n",
    "\n"
   ]
  },
  {
   "cell_type": "code",
   "execution_count": 205,
   "metadata": {
    "collapsed": true
   },
   "outputs": [],
   "source": [
    "y_pred = forest.predict(df_test)"
   ]
  },
  {
   "cell_type": "code",
   "execution_count": 213,
   "metadata": {
    "collapsed": false
   },
   "outputs": [],
   "source": [
    "y_pred =y_pred - ( y_pred>=4 )*3"
   ]
  },
  {
   "cell_type": "code",
   "execution_count": 280,
   "metadata": {
    "collapsed": false
   },
   "outputs": [
    {
     "data": {
      "text/plain": [
       "0.45973645680819913"
      ]
     },
     "execution_count": 280,
     "metadata": {},
     "output_type": "execute_result"
    }
   ],
   "source": [
    "#estimated error at the boundary\n",
    "1570.0/sum(y_pred>=4)"
   ]
  },
  {
   "cell_type": "code",
   "execution_count": 238,
   "metadata": {
    "collapsed": false
   },
   "outputs": [
    {
     "data": {
      "text/plain": [
       "0.99496764917325664"
      ]
     },
     "execution_count": 238,
     "metadata": {},
     "output_type": "execute_result"
    }
   ],
   "source": [
    "#estimated error in inner regions\n",
    "sum((y_pred<4)*(y_pred ) == y_true)/ float(sum(y_pred<4))"
   ]
  },
  {
   "cell_type": "code",
   "execution_count": 285,
   "metadata": {
    "collapsed": false
   },
   "outputs": [
    {
     "data": {
      "text/plain": [
       "0.97352342158859473"
      ]
     },
     "execution_count": 285,
     "metadata": {},
     "output_type": "execute_result"
    }
   ],
   "source": [
    "#estimated error in inner regions\n",
    "sum((y_pred<4)*(y_pred ) == y_true)/ float(sum(y_pred<4))"
   ]
  },
  {
   "cell_type": "code",
   "execution_count": 286,
   "metadata": {
    "collapsed": false
   },
   "outputs": [
    {
     "data": {
      "text/plain": [
       "0.0"
      ]
     },
     "execution_count": 286,
     "metadata": {},
     "output_type": "execute_result"
    }
   ],
   "source": [
    "#estimated error in inner regions\n",
    "sum((y_pred>=4)*(y_pred ) == y_true)/ float(sum(y_pred>=4))"
   ]
  },
  {
   "cell_type": "code",
   "execution_count": 281,
   "metadata": {
    "collapsed": false
   },
   "outputs": [
    {
     "data": {
      "text/plain": [
       "0.12570404505888377"
      ]
     },
     "execution_count": 281,
     "metadata": {},
     "output_type": "execute_result"
    }
   ],
   "source": [
    "sum(y_pred<4)/float(len(y_true))"
   ]
  },
  {
   "cell_type": "code",
   "execution_count": 243,
   "metadata": {
    "collapsed": false
   },
   "outputs": [],
   "source": [
    "import seaborn as sns"
   ]
  },
  {
   "cell_type": "code",
   "execution_count": 268,
   "metadata": {
    "collapsed": false
   },
   "outputs": [],
   "source": [
    "#sns.distplot(np.array(y_pred[y_pred!=4]).ravel())\n",
    "f = pd.DataFrame(np.array(y_pred[y_pred!=4]).ravel() , columns=['class'])"
   ]
  },
  {
   "cell_type": "code",
   "execution_count": 269,
   "metadata": {
    "collapsed": false
   },
   "outputs": [
    {
     "data": {
      "text/plain": [
       "array([[<matplotlib.axes._subplots.AxesSubplot object at 0x147018950>]], dtype=object)"
      ]
     },
     "execution_count": 269,
     "metadata": {},
     "output_type": "execute_result"
    },
    {
     "data": {
      "image/png": "[encoded data removed]",
      "text/plain": [
       "<matplotlib.figure.Figure at 0x1471b4e90>"
      ]
     },
     "metadata": {},
     "output_type": "display_data"
    }
   ],
   "source": []
  },
  {
   "cell_type": "code",
   "execution_count": 245,
   "metadata": {
    "collapsed": false
   },
   "outputs": [
    {
     "data": {
      "text/plain": [
       "<matplotlib.axes._subplots.AxesSubplot at 0x114ed8b10>"
      ]
     },
     "execution_count": 245,
     "metadata": {},
     "output_type": "execute_result"
    },
    {
     "data": {
      "image/png": "[encoded data removed]",
      "text/plain": [
       "<matplotlib.figure.Figure at 0x1105b24d0>"
      ]
     },
     "metadata": {},
     "output_type": "display_data"
    }
   ],
   "source": [
    "sns.distplot(y_true)"
   ]
  },
  {
   "cell_type": "code",
   "execution_count": 236,
   "metadata": {
    "collapsed": false
   },
   "outputs": [
    {
     "data": {
      "text/plain": [
       "767"
      ]
     },
     "execution_count": 236,
     "metadata": {},
     "output_type": "execute_result"
    }
   ],
   "source": [
    " sum((y_pred>=4)*(y_pred - ( y_pred>=4 )*3) == y_true)"
   ]
  },
  {
   "cell_type": "code",
   "execution_count": 191,
   "metadata": {
    "collapsed": false
   },
   "outputs": [
    {
     "data": {
      "text/plain": [
       "array([1, 1, 1, ..., 1, 2, 1])"
      ]
     },
     "execution_count": 191,
     "metadata": {},
     "output_type": "execute_result"
    }
   ],
   "source": [
    "y_pred"
   ]
  },
  {
   "cell_type": "code",
   "execution_count": 72,
   "metadata": {
    "collapsed": false
   },
   "outputs": [
    {
     "data": {
      "text/plain": [
       "0.58013312852022525"
      ]
     },
     "execution_count": 72,
     "metadata": {},
     "output_type": "execute_result"
    }
   ],
   "source": [
    "#Forming a confusion matrix\n",
    "cm = confusion_matrix(y_true,y_pred)\n",
    "cm\n",
    "#LOL the random int increased the accuracy by 1 percent!\n",
    "accuracy_score(y_true, y_pred)"
   ]
  },
  {
   "cell_type": "code",
   "execution_count": 155,
   "metadata": {
    "collapsed": false
   },
   "outputs": [
    {
     "data": {
      "text/plain": [
       "Index([u'Mean1', u'Mean2', u'Mean3', u'Mean4', u'Mean5', u'Mean6', u'Mean7',\n",
       "       u'Mean8', u'Mean9', u'Mean10', u'Mean11', u'Mean12', u'Mean13',\n",
       "       u'Median1', u'Median2', u'Median3', u'Median4', u'Median5', u'Median6',\n",
       "       u'Median7', u'Median8', u'Median9', u'Median10', u'Median11',\n",
       "       u'Median12', u'Median13', u'Variance1', u'Variance2', u'Variance3',\n",
       "       u'Variance4', u'Variance5', u'Variance6', u'Variance7', u'Variance8',\n",
       "       u'Variance9', u'Variance10', u'Variance11', u'Variance12',\n",
       "       u'Variance13', u'Skewness1', u'Skewness2', u'Skewness3', u'Skewness4',\n",
       "       u'Skewness5', u'Skewness6', u'Skewness7', u'Skewness8', u'Skewness9',\n",
       "       u'Skewness10', u'Skewness11', u'Skewness12', u'Skewness13',\n",
       "       u'Kurtosis1', u'Kurtosis2', u'Kurtosis3', u'Kurtosis4', u'Kurtosis5',\n",
       "       u'Kurtosis6', u'Kurtosis7', u'Kurtosis8', u'Kurtosis9', u'Kurtosis10',\n",
       "       u'Kurtosis11', u'Kurtosis12', u'Kurtosis13', u'x', u'y', u'distance',\n",
       "       u'embryo_id'],\n",
       "      dtype='object')"
      ]
     },
     "execution_count": 155,
     "metadata": {},
     "output_type": "execute_result"
    }
   ],
   "source": [
    "df_train.columns"
   ]
  },
  {
   "cell_type": "code",
   "execution_count": 220,
   "metadata": {
    "collapsed": true
   },
   "outputs": [
    {
     "name": "stdout",
     "output_type": "stream",
     "text": [
      "Feature ranking:\n",
      "1. feature 2 (0.346807)Mean3\n",
      "2. feature 1 (0.329378)Mean2\n",
      "3. feature 0 (0.323815)Mean1\n"
     ]
    },
    {
     "ename": "IndexError",
     "evalue": "index 3 is out of bounds for axis 0 with size 3",
     "output_type": "error",
     "traceback": [
      "\u001b[0;31m---------------------------------------------------------------------------\u001b[0m",
      "\u001b[0;31mIndexError\u001b[0m                                Traceback (most recent call last)",
      "\u001b[0;32m<ipython-input-220-7a997fe15ebc>\u001b[0m in \u001b[0;36m<module>\u001b[0;34m()\u001b[0m\n\u001b[1;32m      8\u001b[0m \u001b[0;34m\u001b[0m\u001b[0m\n\u001b[1;32m      9\u001b[0m \u001b[0;32mfor\u001b[0m \u001b[0mf\u001b[0m \u001b[0;32min\u001b[0m \u001b[0mrange\u001b[0m\u001b[0;34m(\u001b[0m\u001b[0mlen\u001b[0m\u001b[0;34m(\u001b[0m\u001b[0mdf_test\u001b[0m\u001b[0;34m.\u001b[0m\u001b[0mcolumns\u001b[0m\u001b[0;34m)\u001b[0m\u001b[0;34m)\u001b[0m\u001b[0;34m:\u001b[0m\u001b[0;34m\u001b[0m\u001b[0m\n\u001b[0;32m---> 10\u001b[0;31m     \u001b[0;32mprint\u001b[0m \u001b[0mstr\u001b[0m\u001b[0;34m(\u001b[0m\u001b[0;34m\"%d. feature %d (%f)\"\u001b[0m \u001b[0;34m%\u001b[0m \u001b[0;34m(\u001b[0m\u001b[0mf\u001b[0m \u001b[0;34m+\u001b[0m \u001b[0;36m1\u001b[0m\u001b[0;34m,\u001b[0m \u001b[0mindices\u001b[0m\u001b[0;34m[\u001b[0m\u001b[0mf\u001b[0m\u001b[0;34m]\u001b[0m\u001b[0;34m,\u001b[0m \u001b[0mimportances\u001b[0m\u001b[0;34m[\u001b[0m\u001b[0mindices\u001b[0m\u001b[0;34m[\u001b[0m\u001b[0mf\u001b[0m\u001b[0;34m]\u001b[0m\u001b[0;34m]\u001b[0m\u001b[0;34m)\u001b[0m\u001b[0;34m)\u001b[0m \u001b[0;34m+\u001b[0m \u001b[0mstr\u001b[0m\u001b[0;34m(\u001b[0m\u001b[0mdf_test\u001b[0m\u001b[0;34m.\u001b[0m\u001b[0mcolumns\u001b[0m\u001b[0;34m[\u001b[0m\u001b[0mindices\u001b[0m\u001b[0;34m[\u001b[0m\u001b[0mf\u001b[0m\u001b[0;34m]\u001b[0m\u001b[0;34m]\u001b[0m\u001b[0;34m)\u001b[0m\u001b[0;34m\u001b[0m\u001b[0m\n\u001b[0m\u001b[1;32m     11\u001b[0m \u001b[0;34m\u001b[0m\u001b[0m\n\u001b[1;32m     12\u001b[0m \u001b[0;34m\u001b[0m\u001b[0m\n",
      "\u001b[0;31mIndexError\u001b[0m: index 3 is out of bounds for axis 0 with size 3"
     ]
    }
   ],
   "source": []
  },
  {
   "cell_type": "code",
   "execution_count": 112,
   "metadata": {
    "collapsed": false
   },
   "outputs": [
    {
     "data": {
      "text/plain": [
       "'Variance11'"
      ]
     },
     "execution_count": 112,
     "metadata": {},
     "output_type": "execute_result"
    }
   ],
   "source": [
    "df_train.columns[36]"
   ]
  },
  {
   "cell_type": "code",
   "execution_count": 170,
   "metadata": {
    "collapsed": false
   },
   "outputs": [
    {
     "data": {
      "text/html": [
       "<div>\n",
       "<table border=\"1\" class=\"dataframe\">\n",
       "  <thead>\n",
       "    <tr style=\"text-align: right;\">\n",
       "      <th></th>\n",
       "      <th>Mean1</th>\n",
       "      <th>Mean2</th>\n",
       "      <th>Mean3</th>\n",
       "      <th>Mean4</th>\n",
       "      <th>Mean5</th>\n",
       "      <th>Mean6</th>\n",
       "      <th>Mean7</th>\n",
       "      <th>Mean8</th>\n",
       "      <th>Mean9</th>\n",
       "      <th>Mean10</th>\n",
       "      <th>...</th>\n",
       "      <th>Kurtosis7</th>\n",
       "      <th>Kurtosis8</th>\n",
       "      <th>Kurtosis9</th>\n",
       "      <th>Kurtosis10</th>\n",
       "      <th>Kurtosis11</th>\n",
       "      <th>Kurtosis12</th>\n",
       "      <th>Kurtosis13</th>\n",
       "      <th>x</th>\n",
       "      <th>y</th>\n",
       "      <th>distance</th>\n",
       "    </tr>\n",
       "  </thead>\n",
       "  <tbody>\n",
       "    <tr>\n",
       "      <th>0</th>\n",
       "      <td>10</td>\n",
       "      <td>-103</td>\n",
       "      <td>0</td>\n",
       "      <td>9</td>\n",
       "      <td>7</td>\n",
       "      <td>0</td>\n",
       "      <td>0</td>\n",
       "      <td>0</td>\n",
       "      <td>0</td>\n",
       "      <td>-3</td>\n",
       "      <td>...</td>\n",
       "      <td>0</td>\n",
       "      <td>0</td>\n",
       "      <td>0</td>\n",
       "      <td>0</td>\n",
       "      <td>1</td>\n",
       "      <td>0</td>\n",
       "      <td>-1</td>\n",
       "      <td>564.063225</td>\n",
       "      <td>238.875687</td>\n",
       "      <td>237.000000</td>\n",
       "    </tr>\n",
       "    <tr>\n",
       "      <th>1</th>\n",
       "      <td>-6</td>\n",
       "      <td>-184</td>\n",
       "      <td>0</td>\n",
       "      <td>24</td>\n",
       "      <td>20</td>\n",
       "      <td>0</td>\n",
       "      <td>0</td>\n",
       "      <td>0</td>\n",
       "      <td>1</td>\n",
       "      <td>-4</td>\n",
       "      <td>...</td>\n",
       "      <td>0</td>\n",
       "      <td>0</td>\n",
       "      <td>0</td>\n",
       "      <td>0</td>\n",
       "      <td>0</td>\n",
       "      <td>0</td>\n",
       "      <td>0</td>\n",
       "      <td>120.589947</td>\n",
       "      <td>200.251323</td>\n",
       "      <td>63.031738</td>\n",
       "    </tr>\n",
       "    <tr>\n",
       "      <th>2</th>\n",
       "      <td>-14</td>\n",
       "      <td>-77</td>\n",
       "      <td>0</td>\n",
       "      <td>6</td>\n",
       "      <td>6</td>\n",
       "      <td>0</td>\n",
       "      <td>0</td>\n",
       "      <td>0</td>\n",
       "      <td>-4</td>\n",
       "      <td>-7</td>\n",
       "      <td>...</td>\n",
       "      <td>0</td>\n",
       "      <td>0</td>\n",
       "      <td>0</td>\n",
       "      <td>-1</td>\n",
       "      <td>5</td>\n",
       "      <td>-1</td>\n",
       "      <td>-1</td>\n",
       "      <td>929.826923</td>\n",
       "      <td>498.230769</td>\n",
       "      <td>50.921509</td>\n",
       "    </tr>\n",
       "    <tr>\n",
       "      <th>3</th>\n",
       "      <td>9</td>\n",
       "      <td>-132</td>\n",
       "      <td>0</td>\n",
       "      <td>29</td>\n",
       "      <td>25</td>\n",
       "      <td>0</td>\n",
       "      <td>0</td>\n",
       "      <td>0</td>\n",
       "      <td>4</td>\n",
       "      <td>-7</td>\n",
       "      <td>...</td>\n",
       "      <td>0</td>\n",
       "      <td>0</td>\n",
       "      <td>0</td>\n",
       "      <td>0</td>\n",
       "      <td>-1</td>\n",
       "      <td>0</td>\n",
       "      <td>0</td>\n",
       "      <td>195.250799</td>\n",
       "      <td>409.416933</td>\n",
       "      <td>100.239716</td>\n",
       "    </tr>\n",
       "    <tr>\n",
       "      <th>4</th>\n",
       "      <td>-13</td>\n",
       "      <td>-175</td>\n",
       "      <td>0</td>\n",
       "      <td>23</td>\n",
       "      <td>19</td>\n",
       "      <td>0</td>\n",
       "      <td>0</td>\n",
       "      <td>0</td>\n",
       "      <td>0</td>\n",
       "      <td>-7</td>\n",
       "      <td>...</td>\n",
       "      <td>0</td>\n",
       "      <td>0</td>\n",
       "      <td>0</td>\n",
       "      <td>0</td>\n",
       "      <td>0</td>\n",
       "      <td>2</td>\n",
       "      <td>2</td>\n",
       "      <td>735.015504</td>\n",
       "      <td>519.666667</td>\n",
       "      <td>73.437050</td>\n",
       "    </tr>\n",
       "  </tbody>\n",
       "</table>\n",
       "<p>5 rows × 68 columns</p>\n",
       "</div>"
      ],
      "text/plain": [
       "   Mean1  Mean2  Mean3  Mean4  Mean5  Mean6  Mean7  Mean8  Mean9  Mean10  \\\n",
       "0     10   -103      0      9      7      0      0      0      0      -3   \n",
       "1     -6   -184      0     24     20      0      0      0      1      -4   \n",
       "2    -14    -77      0      6      6      0      0      0     -4      -7   \n",
       "3      9   -132      0     29     25      0      0      0      4      -7   \n",
       "4    -13   -175      0     23     19      0      0      0      0      -7   \n",
       "\n",
       "      ...      Kurtosis7  Kurtosis8  Kurtosis9  Kurtosis10  Kurtosis11  \\\n",
       "0     ...              0          0          0           0           1   \n",
       "1     ...              0          0          0           0           0   \n",
       "2     ...              0          0          0          -1           5   \n",
       "3     ...              0          0          0           0          -1   \n",
       "4     ...              0          0          0           0           0   \n",
       "\n",
       "   Kurtosis12  Kurtosis13           x           y    distance  \n",
       "0           0          -1  564.063225  238.875687  237.000000  \n",
       "1           0           0  120.589947  200.251323   63.031738  \n",
       "2          -1          -1  929.826923  498.230769   50.921509  \n",
       "3           0           0  195.250799  409.416933  100.239716  \n",
       "4           2           2  735.015504  519.666667   73.437050  \n",
       "\n",
       "[5 rows x 68 columns]"
      ]
     },
     "execution_count": 170,
     "metadata": {},
     "output_type": "execute_result"
    }
   ],
   "source": [
    "df_train.head()"
   ]
  },
  {
   "cell_type": "code",
   "execution_count": 172,
   "metadata": {
    "collapsed": true
   },
   "outputs": [],
   "source": [
    "df_w = pd.DataFrame(W, columns=['weight'])"
   ]
  },
  {
   "cell_type": "code",
   "execution_count": 174,
   "metadata": {
    "collapsed": false
   },
   "outputs": [
    {
     "data": {
      "text/plain": [
       "array([[<matplotlib.axes._subplots.AxesSubplot object at 0x1106339d0>]], dtype=object)"
      ]
     },
     "execution_count": 174,
     "metadata": {},
     "output_type": "execute_result"
    },
    {
     "data": {
      "image/png": "[encoded data removed]",
      "text/plain": [
       "<matplotlib.figure.Figure at 0x10f66fe90>"
      ]
     },
     "metadata": {},
     "output_type": "display_data"
    }
   ],
   "source": [
    "df_w.hist()"
   ]
  },
  {
   "cell_type": "code",
   "execution_count": 227,
   "metadata": {
    "collapsed": false
   },
   "outputs": [],
   "source": [
    "y_train.ix[W<=0.9] = 4"
   ]
  },
  {
   "cell_type": "code",
   "execution_count": 228,
   "metadata": {
    "collapsed": true
   },
   "outputs": [
    {
     "data": {
      "text/plain": [
       "0        3\n",
       "1        4\n",
       "2        1\n",
       "3        1\n",
       "4        1\n",
       "5        4\n",
       "6        4\n",
       "7        1\n",
       "8        4\n",
       "9        1\n",
       "10       4\n",
       "11       1\n",
       "12       4\n",
       "13       4\n",
       "14       4\n",
       "15       4\n",
       "16       3\n",
       "17       4\n",
       "18       2\n",
       "19       4\n",
       "20       4\n",
       "21       4\n",
       "22       4\n",
       "23       4\n",
       "24       4\n",
       "25       2\n",
       "26       2\n",
       "27       4\n",
       "28       4\n",
       "29       4\n",
       "        ..\n",
       "28728    4\n",
       "28729    1\n",
       "28730    4\n",
       "28731    2\n",
       "28732    2\n",
       "28733    1\n",
       "28734    3\n",
       "28735    4\n",
       "28736    3\n",
       "28737    1\n",
       "28738    4\n",
       "28739    3\n",
       "28740    1\n",
       "28741    1\n",
       "28742    3\n",
       "28743    2\n",
       "28744    4\n",
       "28745    3\n",
       "28746    1\n",
       "28747    1\n",
       "28748    4\n",
       "28749    2\n",
       "28750    4\n",
       "28751    4\n",
       "28752    1\n",
       "28753    4\n",
       "28754    4\n",
       "28755    4\n",
       "28756    4\n",
       "28757    1\n",
       "Name: label, dtype: int64"
      ]
     },
     "execution_count": 228,
     "metadata": {},
     "output_type": "execute_result"
    }
   ],
   "source": [
    "y_train"
   ]
  },
  {
   "cell_type": "code",
   "execution_count": 223,
   "metadata": {
    "collapsed": false
   },
   "outputs": [],
   "source": [
    "y_train_b = y_train[:]"
   ]
  },
  {
   "cell_type": "code",
   "execution_count": 287,
   "metadata": {
    "collapsed": true
   },
   "outputs": [],
   "source": [
    "y_train_2 = y_train_b[:]"
   ]
  },
  {
   "cell_type": "code",
   "execution_count": 289,
   "metadata": {
    "collapsed": false
   },
   "outputs": [],
   "source": [
    "y_train_2 = y_train_2 - (y_train_2>=4)*3"
   ]
  },
  {
   "cell_type": "markdown",
   "metadata": {},
   "source": [
    "### I didn't prepare the following part for everyone's use yet, proceed with caution"
   ]
  },
  {
   "cell_type": "code",
   "execution_count": 9,
   "metadata": {
    "collapsed": false
   },
   "outputs": [],
   "source": [
    "kf = cross_validation.KFold(n = len(spatial_train), n_folds = 10, shuffle = True)"
   ]
  },
  {
   "cell_type": "code",
   "execution_count": 12,
   "metadata": {
    "collapsed": false
   },
   "outputs": [
    {
     "data": {
      "text/plain": [
       "sklearn.cross_validation.KFold(n=28758, n_folds=10, shuffle=True, random_state=None)"
      ]
     },
     "execution_count": 12,
     "metadata": {},
     "output_type": "execute_result"
    }
   ],
   "source": [
    "#k-folds\n",
    "#Since the hyper parameters of random forest usually don't wary the accuracy that much, \n",
    "#i would use this for playing with the probability threshold for the best fit/ROC\n",
    "\n",
    "\n",
    "for train_index, test_index in kf:\n",
    "    X_train, X_test = spatial_train.ix[train_index,range(n_col)],\n",
    "                      spatial_test.ix[test_index,range(n_col)]\n",
    "    y_train, y_test = spatial_train.ix[train_index,-1], spatial_test[test_index,-1]\n",
    "    #Do awesome training\n",
    "    #Do awesome testing\n",
    "    #Save awesome results for later"
   ]
  },
  {
   "cell_type": "code",
   "execution_count": 18,
   "metadata": {
    "collapsed": false
   },
   "outputs": [
    {
     "data": {
      "text/plain": [
       "4"
      ]
     },
     "execution_count": 18,
     "metadata": {},
     "output_type": "execute_result"
    }
   ],
   "source": [
    "len(spatial_train.columns)"
   ]
  },
  {
   "cell_type": "code",
   "execution_count": 25,
   "metadata": {
    "collapsed": false
   },
   "outputs": [
    {
     "data": {
      "text/html": [
       "<div>\n",
       "<table border=\"1\" class=\"dataframe\">\n",
       "  <thead>\n",
       "    <tr style=\"text-align: right;\">\n",
       "      <th></th>\n",
       "      <th>x</th>\n",
       "      <th>y</th>\n",
       "      <th>distance</th>\n",
       "      <th>label</th>\n",
       "    </tr>\n",
       "  </thead>\n",
       "  <tbody>\n",
       "    <tr>\n",
       "      <th>1</th>\n",
       "      <td>120.589947</td>\n",
       "      <td>200.251323</td>\n",
       "      <td>63.031738</td>\n",
       "      <td>1</td>\n",
       "    </tr>\n",
       "    <tr>\n",
       "      <th>2</th>\n",
       "      <td>929.826923</td>\n",
       "      <td>498.230769</td>\n",
       "      <td>50.921509</td>\n",
       "      <td>1</td>\n",
       "    </tr>\n",
       "  </tbody>\n",
       "</table>\n",
       "</div>"
      ],
      "text/plain": [
       "            x           y   distance  label\n",
       "1  120.589947  200.251323  63.031738      1\n",
       "2  929.826923  498.230769  50.921509      1"
      ]
     },
     "execution_count": 25,
     "metadata": {},
     "output_type": "execute_result"
    }
   ],
   "source": [
    "spatial_train.ix[1:2,[0,1,2,3]]"
   ]
  },
  {
   "cell_type": "code",
   "execution_count": 26,
   "metadata": {
    "collapsed": false
   },
   "outputs": [
    {
     "data": {
      "text/plain": [
       "[0, 1, 2, 3]"
      ]
     },
     "execution_count": 26,
     "metadata": {},
     "output_type": "execute_result"
    }
   ],
   "source": [
    "range(4)"
   ]
  }
 ],
 "metadata": {
  "kernelspec": {
   "display_name": "Python 2",
   "language": "python",
   "name": "python2"
  },
  "language_info": {
   "codemirror_mode": {
    "name": "ipython",
    "version": 2
   },
   "file_extension": ".py",
   "mimetype": "text/x-python",
   "name": "python",
   "nbconvert_exporter": "python",
   "pygments_lexer": "ipython2",
   "version": "2.7.10"
  }
 },
 "nbformat": 4,
 "nbformat_minor": 0
}
