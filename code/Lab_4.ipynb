{
 "cells": [
  {
   "cell_type": "markdown",
   "metadata": {},
   "source": [
    "------\n",
    "In this iPython notebook is divided into four parts:\n",
    "\n",
    "- Part 1: Features Selection (Correlation Plot, Random Forest Feature Importance)\n",
    "- Part 2: Models Tuning (Random Forest, Support Vector Machine, kNN)\n",
    "- Part 3: Choosing the best model based on ROC curves and Accuracy Rates\n",
    "- Part 4: Invistaging the best model mis-classification erros\n",
    "\n",
    "\n",
    "-----\n",
    "Instructions to run:\n",
    "- Place the CSV Files in the same directory as the iPython notebook\n",
    "- Make sure you have the following dependecies: sklearn, matplotlib, numpy, pandas\n",
    "\n"
   ]
  },
  {
   "cell_type": "code",
   "execution_count": 2,
   "metadata": {
    "collapsed": true
   },
   "outputs": [],
   "source": [
    "#Importing libraries\n",
    "import os\n",
    "import pandas as pd\n",
    "from sklearn import cross_validation\n",
    "from sklearn.ensemble import RandomForestClassifier as random_forest\n",
    "from sklearn.metrics import confusion_matrix\n",
    "from sklearn.metrics import accuracy_score\n",
    "import numpy as np\n",
    "import numpy as np\n",
    "import matplotlib.pyplot as plt\n",
    "from sklearn.datasets import make_classification\n",
    "from sklearn.ensemble import ExtraTreesClassifier\n",
    "from sklearn.neighbors import KNeighborsClassifier\n",
    "from sklearn import svm\n",
    "from sklearn.metrics import roc_curve, auc\n",
    "from sklearn.cross_validation import StratifiedKFold\n",
    "%matplotlib inline"
   ]
  },
  {
   "cell_type": "code",
   "execution_count": 3,
   "metadata": {
    "collapsed": false
   },
   "outputs": [],
   "source": [
    "#Setting the seed for consistent results across different Python runs, and to ensure consistency between R and Python\n",
    "np.random.seed(100)"
   ]
  },
  {
   "cell_type": "code",
   "execution_count": 32,
   "metadata": {
    "collapsed": false
   },
   "outputs": [],
   "source": [
    "# Importing Data\n",
    "# Contains the extracted fiji features \n",
    "df_ = pd.read_csv(\"All_Features.csv\")\n",
    "# Contains the embryo labels for every super_pixel\n",
    "df_el = pd.read_csv('embryo_labels.csv')\n",
    "\n",
    "#reading the spatial data\n",
    "spatial_train = pd.read_csv('spatial_train.csv')\n",
    "spatial_test = pd.read_csv('spatial_test.csv')\n"
   ]
  },
  {
   "cell_type": "code",
   "execution_count": null,
   "metadata": {
    "collapsed": true
   },
   "outputs": [],
   "source": []
  },
  {
   "cell_type": "code",
   "execution_count": 33,
   "metadata": {
    "collapsed": false
   },
   "outputs": [
    {
     "name": "stderr",
     "output_type": "stream",
     "text": [
      "/Users/fadikfoury/anaconda/lib/python2.7/site-packages/IPython/kernel/__main__.py:15: SettingWithCopyWarning: \n",
      "A value is trying to be set on a copy of a slice from a DataFrame.\n",
      "Try using .loc[row_indexer,col_indexer] = value instead\n",
      "\n",
      "See the the caveats in the documentation: http://pandas.pydata.org/pandas-docs/stable/indexing.html#indexing-view-versus-copy\n",
      "/Users/fadikfoury/anaconda/lib/python2.7/site-packages/IPython/kernel/__main__.py:16: SettingWithCopyWarning: \n",
      "A value is trying to be set on a copy of a slice from a DataFrame.\n",
      "Try using .loc[row_indexer,col_indexer] = value instead\n",
      "\n",
      "See the the caveats in the documentation: http://pandas.pydata.org/pandas-docs/stable/indexing.html#indexing-view-versus-copy\n",
      "/Users/fadikfoury/anaconda/lib/python2.7/site-packages/IPython/kernel/__main__.py:17: SettingWithCopyWarning: \n",
      "A value is trying to be set on a copy of a slice from a DataFrame.\n",
      "Try using .loc[row_indexer,col_indexer] = value instead\n",
      "\n",
      "See the the caveats in the documentation: http://pandas.pydata.org/pandas-docs/stable/indexing.html#indexing-view-versus-copy\n",
      "/Users/fadikfoury/anaconda/lib/python2.7/site-packages/IPython/kernel/__main__.py:19: SettingWithCopyWarning: \n",
      "A value is trying to be set on a copy of a slice from a DataFrame.\n",
      "Try using .loc[row_indexer,col_indexer] = value instead\n",
      "\n",
      "See the the caveats in the documentation: http://pandas.pydata.org/pandas-docs/stable/indexing.html#indexing-view-versus-copy\n",
      "/Users/fadikfoury/anaconda/lib/python2.7/site-packages/IPython/kernel/__main__.py:20: SettingWithCopyWarning: \n",
      "A value is trying to be set on a copy of a slice from a DataFrame.\n",
      "Try using .loc[row_indexer,col_indexer] = value instead\n",
      "\n",
      "See the the caveats in the documentation: http://pandas.pydata.org/pandas-docs/stable/indexing.html#indexing-view-versus-copy\n",
      "/Users/fadikfoury/anaconda/lib/python2.7/site-packages/IPython/kernel/__main__.py:21: SettingWithCopyWarning: \n",
      "A value is trying to be set on a copy of a slice from a DataFrame.\n",
      "Try using .loc[row_indexer,col_indexer] = value instead\n",
      "\n",
      "See the the caveats in the documentation: http://pandas.pydata.org/pandas-docs/stable/indexing.html#indexing-view-versus-copy\n"
     ]
    }
   ],
   "source": [
    "# Spliting the data into train, test\n",
    "n_cols = len(spatial_train.columns)-1\n",
    "#Get the spatial training data (features and labels)\n",
    "X_train = spatial_train.ix[:,range(n_cols)]\n",
    "y_train = spatial_train.ix[:,-1]\n",
    "#Get the testing training data (features and labels)\n",
    "X_test = spatial_test.ix[:,range(n_cols)]\n",
    "y_true = spatial_test.ix[:,-1]\n",
    "\n",
    "\n",
    "df_train = df_[0:28758]\n",
    "df_test = df_[28758:]\n",
    "\n",
    "#add the x, y and the distance features to the train and test, data frames\n",
    "df_train['x'] = X_train.x\n",
    "df_train['y'] = X_train.y\n",
    "df_train['distance'] = X_train.distance\n",
    "df_test.index = range(len(df_test))\n",
    "df_test['x'] = X_test.x\n",
    "df_test['y'] = X_test.y\n",
    "df_test['distance'] = X_test.distance"
   ]
  },
  {
   "cell_type": "code",
   "execution_count": 47,
   "metadata": {
    "collapsed": false
   },
   "outputs": [
    {
     "name": "stderr",
     "output_type": "stream",
     "text": [
      "/Users/fadikfoury/anaconda/lib/python2.7/site-packages/IPython/kernel/__main__.py:3: SettingWithCopyWarning: \n",
      "A value is trying to be set on a copy of a slice from a DataFrame.\n",
      "Try using .loc[row_indexer,col_indexer] = value instead\n",
      "\n",
      "See the the caveats in the documentation: http://pandas.pydata.org/pandas-docs/stable/indexing.html#indexing-view-versus-copy\n",
      "  app.launch_new_instance()\n"
     ]
    }
   ],
   "source": [
    "#labels\n",
    "\n",
    "df_test['embryo_id'] = df_el.ix[28758:,'embryo_id'].tolist()"
   ]
  },
  {
   "cell_type": "code",
   "execution_count": 34,
   "metadata": {
    "collapsed": false
   },
   "outputs": [
    {
     "name": "stdout",
     "output_type": "stream",
     "text": [
      "We have 28758 training observations\n",
      "We have 3906 testing observations\n"
     ]
    }
   ],
   "source": [
    "#Sanity Check\n",
    "print 'We have ' + str(len(X_train)) + ' training observations'\n",
    "print 'We have ' + str(len(X_test)) + ' testing observations'"
   ]
  },
  {
   "cell_type": "markdown",
   "metadata": {},
   "source": [
    "### Defining a boundary measure\n",
    "Before we proceed with our analysis, we would like to compute a measure for every super pixel that would be representative of the relative location of the super-pixel within an embryo.\n",
    "\n",
    "    For example, we would like the measure to be near zero, for super pixels near the boundaries\n",
    "    and we would like the measure to be near 1, for inner super pixels\n",
    "\n",
    "-------------\n",
    "\n",
    "We propose a nearset neighbor approach where the weight is given by:\n",
    "\n",
    "$$w = \\frac{same Class NN}{Total NN}$$"
   ]
  },
  {
   "cell_type": "code",
   "execution_count": 64,
   "metadata": {
    "collapsed": false,
    "scrolled": false
   },
   "outputs": [
    {
     "name": "stdout",
     "output_type": "stream",
     "text": [
      "113\n",
      "114\n",
      "115\n",
      "116\n",
      "117\n",
      "118\n",
      "119\n",
      "120\n",
      "121\n",
      "122\n",
      "123\n",
      "124\n",
      "125\n",
      "126\n",
      "127\n",
      "128\n",
      "129\n",
      "130\n",
      "131\n",
      "135\n",
      "136\n",
      "139\n",
      "143\n",
      "148\n",
      "150\n",
      "151\n",
      "152\n",
      "157\n",
      "161\n",
      "164\n",
      "[ 0.8  0.2]\n",
      "[ 0.8  0.2]\n",
      "[ 0.8  0.2]\n",
      "[ 0.8  0.2]\n",
      "[ 0.8  0.2]\n",
      "[ 0.8  0.2]\n",
      "170\n"
     ]
    },
    {
     "name": "stderr",
     "output_type": "stream",
     "text": [
      "/Users/fadikfoury/anaconda/lib/python2.7/site-packages/IPython/kernel/__main__.py:14: SettingWithCopyWarning: \n",
      "A value is trying to be set on a copy of a slice from a DataFrame.\n",
      "Try using .loc[row_indexer,col_indexer] = value instead\n",
      "\n",
      "See the the caveats in the documentation: http://pandas.pydata.org/pandas-docs/stable/indexing.html#indexing-view-versus-copy\n",
      "/Users/fadikfoury/anaconda/lib/python2.7/site-packages/IPython/kernel/__main__.py:18: SettingWithCopyWarning: \n",
      "A value is trying to be set on a copy of a slice from a DataFrame.\n",
      "Try using .loc[row_indexer,col_indexer] = value instead\n",
      "\n",
      "See the the caveats in the documentation: http://pandas.pydata.org/pandas-docs/stable/indexing.html#indexing-view-versus-copy\n"
     ]
    }
   ],
   "source": [
    "\"\"\"\n",
    "This basically predicts the purity of the pixel neighbhours\n",
    "For every pixel, if all of its neighbohrs had the same label\n",
    "then the weight would be one\n",
    "this is done that way to accomodate the fact that at the boundaries \n",
    "the trust in the measurement is not that accurate\n",
    "This will be used later to asses the fit of the best model\n",
    "\"\"\"\n",
    "\n",
    "#Prep the grouping by embryo\n",
    "#len(df_test['Unnamed: 0'].map(lambda x: x/1000).unique())\n",
    "#df_test['embryo_id'] = df_test['Unnamed: 0'].map(lambda x: x/1000)\n",
    "grouped_by_embryo = df_test.groupby('embryo_id')\n",
    "df_test['label'] = y_true\n",
    "\n",
    "        \n",
    "##Initialize the weights \n",
    "df_test['weight'] = np.zeros(len(df_test))+2\n",
    "\n",
    "\n",
    "#For every embryoo define a knn to use for weighting\n",
    "for embryo_id, group in grouped_by_embryo:\n",
    "    X = group.ix[:,['x','y']]\n",
    "    y = group.ix[:,'label']\n",
    "    if (len(group) < 5):\n",
    "        continue\n",
    "        \n",
    "    neigh = KNeighborsClassifier(n_neighbors=5)\n",
    "    neigh.fit(X, y) \n",
    "    \n",
    "    print embryo_id\n",
    "    #print group\n",
    "    for s_pixel_i in range(len(group)):\n",
    "        s_pixel = group.iloc[s_pixel_i,:]\n",
    "        grand_index =  group.index[s_pixel_i]\n",
    "        #print(neigh.predict([s_pixel['x'],s_pixel['y']]))\n",
    "        #print neigh.classes_\n",
    "        #print \"PROB\"\n",
    "        if (len(neigh.predict_proba([s_pixel['x'],s_pixel['y']])[0])<3):\n",
    "            print neigh.predict_proba([s_pixel['x'],s_pixel['y']])[0]\n",
    "        W_i = neigh.predict_proba([s_pixel['x'],s_pixel['y']])[0][ np.where( neigh.classes_ == s_pixel['label'] )[0][0]]\n",
    "        \n",
    "        df_test.loc[grand_index,'weight'] =  W_i\n",
    "        #if s_pixel_i>10:\n",
    "        #    break        \n",
    "w_test_set = df_test['weight']\n",
    "\n"
   ]
  },
  {
   "cell_type": "markdown",
   "metadata": {},
   "source": [
    "# Part 1: Features Selection"
   ]
  },
  {
   "cell_type": "code",
   "execution_count": 9,
   "metadata": {
    "collapsed": true
   },
   "outputs": [
    {
     "data": {
      "text/plain": [
       "Index([u'Mean1', u'Mean2', u'Mean3', u'Mean4', u'Mean5', u'Mean6', u'Mean7',\n",
       "       u'Mean8', u'Mean9', u'Mean10', u'Mean11', u'Mean12', u'Mean13',\n",
       "       u'Median1', u'Median2', u'Median3', u'Median4', u'Median5', u'Median6',\n",
       "       u'Median7', u'Median8', u'Median9', u'Median10', u'Median11',\n",
       "       u'Median12', u'Median13', u'Variance1', u'Variance2', u'Variance3',\n",
       "       u'Variance4', u'Variance5', u'Variance6', u'Variance7', u'Variance8',\n",
       "       u'Variance9', u'Variance10', u'Variance11', u'Variance12',\n",
       "       u'Variance13', u'Skewness1', u'Skewness2', u'Skewness3', u'Skewness4',\n",
       "       u'Skewness5', u'Skewness6', u'Skewness7', u'Skewness8', u'Skewness9',\n",
       "       u'Skewness10', u'Skewness11', u'Skewness12', u'Skewness13',\n",
       "       u'Kurtosis1', u'Kurtosis2', u'Kurtosis3', u'Kurtosis4', u'Kurtosis5',\n",
       "       u'Kurtosis6', u'Kurtosis7', u'Kurtosis8', u'Kurtosis9', u'Kurtosis10',\n",
       "       u'Kurtosis11', u'Kurtosis12', u'Kurtosis13', u'x', u'y', u'distance'],\n",
       "      dtype='object')"
      ]
     },
     "execution_count": 9,
     "metadata": {},
     "output_type": "execute_result"
    }
   ],
   "source": [
    "df_train.columns"
   ]
  },
  {
   "cell_type": "code",
   "execution_count": 8,
   "metadata": {
    "collapsed": false
   },
   "outputs": [],
   "source": [
    "del df_train['Unnamed: 0']"
   ]
  },
  {
   "cell_type": "code",
   "execution_count": 10,
   "metadata": {
    "collapsed": false
   },
   "outputs": [
    {
     "data": {
      "text/plain": [
       "Index([u'Unnamed: 0', u'Mean1', u'Mean2', u'Mean3', u'Mean4', u'Mean5',\n",
       "       u'Mean6', u'Mean7', u'Mean8', u'Mean9', u'Mean10', u'Mean11', u'Mean12',\n",
       "       u'Mean13', u'Median1', u'Median2', u'Median3', u'Median4', u'Median5',\n",
       "       u'Median6', u'Median7', u'Median8', u'Median9', u'Median10',\n",
       "       u'Median11', u'Median12', u'Median13', u'Variance1', u'Variance2',\n",
       "       u'Variance3', u'Variance4', u'Variance5', u'Variance6', u'Variance7',\n",
       "       u'Variance8', u'Variance9', u'Variance10', u'Variance11', u'Variance12',\n",
       "       u'Variance13', u'Skewness1', u'Skewness2', u'Skewness3', u'Skewness4',\n",
       "       u'Skewness5', u'Skewness6', u'Skewness7', u'Skewness8', u'Skewness9',\n",
       "       u'Skewness10', u'Skewness11', u'Skewness12', u'Skewness13',\n",
       "       u'Kurtosis1', u'Kurtosis2', u'Kurtosis3', u'Kurtosis4', u'Kurtosis5',\n",
       "       u'Kurtosis6', u'Kurtosis7', u'Kurtosis8', u'Kurtosis9', u'Kurtosis10',\n",
       "       u'Kurtosis11', u'Kurtosis12', u'Kurtosis13', u'x', u'y', u'distance'],\n",
       "      dtype='object')"
      ]
     },
     "execution_count": 10,
     "metadata": {},
     "output_type": "execute_result"
    }
   ],
   "source": [
    "df_test.columns"
   ]
  },
  {
   "cell_type": "code",
   "execution_count": 11,
   "metadata": {
    "collapsed": false
   },
   "outputs": [],
   "source": [
    "#Delete the extranous fields\n",
    "#del df_test['label']\n",
    "#del df_test['weight']\n",
    "#del df_test['embryo_id']\n",
    "del df_test['Unnamed: 0']"
   ]
  },
  {
   "cell_type": "markdown",
   "metadata": {},
   "source": [
    "### Correlation Plot"
   ]
  },
  {
   "cell_type": "code",
   "execution_count": 12,
   "metadata": {
    "collapsed": true
   },
   "outputs": [],
   "source": [
    "#Training a random forest on all the data\n",
    "import numpy as np\n",
    "import matplotlib.pyplot as plt\n",
    "import statsmodels.api as sm"
   ]
  },
  {
   "cell_type": "code",
   "execution_count": 13,
   "metadata": {
    "collapsed": false
   },
   "outputs": [
    {
     "name": "stderr",
     "output_type": "stream",
     "text": [
      "/Users/fadikfoury/anaconda/lib/python2.7/site-packages/matplotlib/collections.py:590: FutureWarning: elementwise comparison failed; returning scalar instead, but in the future will perform elementwise comparison\n",
      "  if self._edgecolors == str('face'):\n"
     ]
    },
    {
     "data": {
      "image/png": "[encoded data removed]",
      "text/plain": [
       "<matplotlib.figure.Figure at 0x10586e050>"
      ]
     },
     "metadata": {},
     "output_type": "display_data"
    }
   ],
   "source": [
    "corr_matrix = np.corrcoef(df_train.ix[:,1:70].values.T)\n",
    "sm.graphics.plot_corr(corr_matrix)\n",
    "plt.show()"
   ]
  },
  {
   "cell_type": "code",
   "execution_count": 14,
   "metadata": {
    "collapsed": false
   },
   "outputs": [
    {
     "data": {
      "image/png": "[encoded data removed]",
      "text/plain": [
       "<matplotlib.figure.Figure at 0x1057446d0>"
      ]
     },
     "metadata": {},
     "output_type": "display_data"
    }
   ],
   "source": [
    "#cutting features at 30, since those above 30 seem to be less correlated\n",
    "cut_i = 30\n",
    "b = []\n",
    "for a in df_train.ix[:,cut_i:].columns:\n",
    "    b.append(a[0])\n",
    "corr_matrix = np.corrcoef(df_train.ix[:,cut_i:].values.T)\n",
    "fig = sm.graphics.plot_corr(corr_matrix,xnames=b)\n",
    "plt.show()"
   ]
  },
  {
   "cell_type": "code",
   "execution_count": 15,
   "metadata": {
    "collapsed": true
   },
   "outputs": [
    {
     "data": {
      "text/plain": [
       "array([ True,  True,  True,  True,  True,  True,  True,  True,  True,\n",
       "        True,  True,  True,  True,  True,  True,  True,  True,  True,\n",
       "        True,  True,  True,  True,  True,  True,  True,  True,  True,\n",
       "        True,  True,  True,  True,  True,  True,  True,  True,  True,\n",
       "        True,  True,  True,  True,  True,  True,  True,  True,  True,\n",
       "        True,  True,  True,  True,  True,  True,  True,  True,  True,\n",
       "        True,  True,  True,  True,  True,  True,  True,  True,  True,\n",
       "        True,  True,  True,  True,  True], dtype=bool)"
      ]
     },
     "execution_count": 15,
     "metadata": {},
     "output_type": "execute_result"
    }
   ],
   "source": [
    "df_train.columns == df_test.columns"
   ]
  },
  {
   "cell_type": "code",
   "execution_count": 22,
   "metadata": {
    "collapsed": false
   },
   "outputs": [
    {
     "data": {
      "text/plain": [
       "RandomForestClassifier(bootstrap=True, class_weight=None, criterion='gini',\n",
       "            max_depth=50, max_features='auto', max_leaf_nodes=None,\n",
       "            min_samples_leaf=1, min_samples_split=2,\n",
       "            min_weight_fraction_leaf=0.0, n_estimators=1000, n_jobs=1,\n",
       "            oob_score=False, random_state=None, verbose=0,\n",
       "            warm_start=False)"
      ]
     },
     "execution_count": 22,
     "metadata": {},
     "output_type": "execute_result"
    }
   ],
   "source": [
    "#running Random forest\n",
    "forest = random_forest(n_estimators = 1000, max_depth=50)\n",
    "forest.fit(df_train.ix[:,30:], y_train)"
   ]
  },
  {
   "cell_type": "code",
   "execution_count": 23,
   "metadata": {
    "collapsed": false
   },
   "outputs": [
    {
     "name": "stdout",
     "output_type": "stream",
     "text": [
      "Feature ranking:\n",
      "1. feature 37 (0.344066)distance\n",
      "2. feature 35 (0.195090)x\n",
      "3. feature 36 (0.177166)y\n",
      "4. feature 0 (0.028032)Variance5\n",
      "5. feature 4 (0.027345)Variance9\n",
      "6. feature 5 (0.026353)Variance10\n",
      "7. feature 25 (0.018890)Kurtosis4\n",
      "8. feature 1 (0.018655)Variance6\n",
      "9. feature 23 (0.012325)Kurtosis2\n",
      "10. feature 26 (0.012187)Kurtosis5\n",
      "11. feature 7 (0.009668)Variance12\n",
      "12. feature 8 (0.009398)Variance13\n",
      "13. feature 33 (0.007904)Kurtosis12\n",
      "14. feature 34 (0.007860)Kurtosis13\n",
      "15. feature 22 (0.007802)Kurtosis1\n",
      "16. feature 31 (0.007752)Kurtosis10\n",
      "17. feature 24 (0.007674)Kurtosis3\n",
      "18. feature 12 (0.007014)Skewness4\n",
      "19. feature 32 (0.006822)Kurtosis11\n",
      "20. feature 13 (0.006073)Skewness5\n",
      "21. feature 29 (0.005996)Kurtosis8\n",
      "22. feature 30 (0.005853)Kurtosis9\n",
      "23. feature 27 (0.005632)Kurtosis6\n",
      "24. feature 10 (0.005393)Skewness2\n",
      "25. feature 28 (0.004765)Kurtosis7\n",
      "26. feature 21 (0.004406)Skewness13\n",
      "27. feature 20 (0.004401)Skewness12\n",
      "28. feature 18 (0.004218)Skewness10\n",
      "29. feature 19 (0.003904)Skewness11\n",
      "30. feature 17 (0.002901)Skewness9\n",
      "31. feature 16 (0.002766)Skewness8\n",
      "32. feature 11 (0.002565)Skewness3\n",
      "33. feature 2 (0.002560)Variance7\n",
      "34. feature 15 (0.002246)Skewness7\n",
      "35. feature 9 (0.002228)Skewness1\n",
      "36. feature 14 (0.002090)Skewness6\n",
      "37. feature 6 (0.000000)Variance11\n",
      "38. feature 3 (0.000000)Variance8\n"
     ]
    },
    {
     "data": {
      "image/png": "[encoded data removed]",
      "text/plain": [
       "<matplotlib.figure.Figure at 0x10e505510>"
      ]
     },
     "metadata": {},
     "output_type": "display_data"
    }
   ],
   "source": [
    "importances = forest.feature_importances_\n",
    "std = np.std([tree.feature_importances_ for tree in forest.estimators_],\n",
    "             axis=0)\n",
    "indices = np.argsort(importances)[::-1]\n",
    "\n",
    "# Print the feature ranking\n",
    "print(\"Feature ranking:\")\n",
    "\n",
    "for f in range(len(df_train.ix[:,30:].columns)):\n",
    "    print str(\"%d. feature %d (%f)\" % (f + 1, indices[f], importances[indices[f]])) + str(df_train.ix[:,30:].columns[indices[f]])\n",
    "    \n",
    "\n",
    "# Plot the feature importances of the forest\n",
    "plt.figure()\n",
    "#plt.title(\"Feature importances\")\n",
    "plt.bar(range(len(df_train.ix[:,30:].columns)), importances[indices],\n",
    "       color=\"r\", yerr=std[indices], align=\"center\")\n",
    "plt.xticks(range(10), indices)\n",
    "plt.xlim([-1, 10])\n",
    "#plt.xticks(range(len(df_test.columns)), df_test.columns)\n",
    "plt.show()\n"
   ]
  },
  {
   "cell_type": "code",
   "execution_count": 18,
   "metadata": {
    "collapsed": true
   },
   "outputs": [],
   "source": [
    "#getting rid of redundant features\n",
    "df_train = df_train.ix[:,30:] #cor plot filter"
   ]
  },
  {
   "cell_type": "code",
   "execution_count": 25,
   "metadata": {
    "collapsed": false
   },
   "outputs": [],
   "source": [
    "#Picking the best 20 features as the most important features based on random forest\n",
    "best_column_features = indices[:20]"
   ]
  },
  {
   "cell_type": "code",
   "execution_count": 16,
   "metadata": {
    "collapsed": false
   },
   "outputs": [],
   "source": [
    "best_column_features = [37, 35, 36,  0,  4,  5, 25,  1, 23, 26,  7,  8, 33, 34, 22, 31, 24,\n",
    "       12, 32, 13]"
   ]
  },
  {
   "cell_type": "markdown",
   "metadata": {},
   "source": [
    "Plotting the histogram of the classes"
   ]
  },
  {
   "cell_type": "code",
   "execution_count": 17,
   "metadata": {
    "collapsed": false
   },
   "outputs": [
    {
     "data": {
      "text/plain": [
       "array([[<matplotlib.axes._subplots.AxesSubplot object at 0x10bc8fd10>]], dtype=object)"
      ]
     },
     "execution_count": 17,
     "metadata": {},
     "output_type": "execute_result"
    },
    {
     "data": {
      "image/png": "[encoded data removed]",
      "text/plain": [
       "<matplotlib.figure.Figure at 0x105744a10>"
      ]
     },
     "metadata": {},
     "output_type": "display_data"
    }
   ],
   "source": [
    "pd.DataFrame(y_train).hist()"
   ]
  },
  {
   "cell_type": "markdown",
   "metadata": {},
   "source": [
    "# Tuning Models"
   ]
  },
  {
   "cell_type": "markdown",
   "metadata": {},
   "source": [
    "##Random Forest - Tunning the min samples to split"
   ]
  },
  {
   "cell_type": "code",
   "execution_count": null,
   "metadata": {
    "collapsed": true
   },
   "outputs": [],
   "source": [
    "# Defining the random forest cross validation function"
   ]
  },
  {
   "cell_type": "code",
   "execution_count": 19,
   "metadata": {
    "collapsed": true
   },
   "outputs": [],
   "source": [
    "def getROCandAccuracyOfCLF(forest_i,X,y,ROC=False):\n",
    "    \"\"\"\n",
    "    This function takes the \n",
    "    \"\"\"\n",
    "    kf = cross_validation.KFold(len(X), n_folds=6,shuffle=True)\n",
    "    #initialize the cv_labels_np_array\n",
    "\n",
    "    cv_labels = np.array(range(len(y)))\n",
    "    cv_score = np.ones((len(y),3))\n",
    "    acc_array = []\n",
    "    \n",
    "    fpr_array = []\n",
    "    \n",
    "    tpr_array = []\n",
    "    \n",
    "    auc_array = []\n",
    "    for train_index, test_index in kf:\n",
    "        #print X.head()\n",
    "        train_x = X.ix[train_index,:]\n",
    "        train_y = y[train_index]\n",
    "\n",
    "        test_x = X.ix[test_index,:]\n",
    "        test_y = y[test_index]\n",
    "\n",
    "        #Train the classifier\n",
    "        #forest_i = random_forest(n_estimators = 1000, max_depth=50, min_samples_split=19, n_jobs =-1 )\n",
    "        forest_i.fit(train_x, train_y)\n",
    "        cv_labels = forest_i.predict(test_x)\n",
    "        \n",
    "        #Compute the accuracy\n",
    "        acc_array.append(sum(test_y==cv_labels)/float(len(cv_labels)))\n",
    "        if(ROC):\n",
    "            #compute the ROC\n",
    "            cv_score = forest_i.predict_proba(test_x)\n",
    "\n",
    "            #TP TN\n",
    "            fpr = dict()\n",
    "            tpr = dict()\n",
    "            roc_auc = dict()\n",
    "            n_classes = forest_i.classes_\n",
    "            for i in range(3):\n",
    "                print n_classes[i]\n",
    "                fpr[i], tpr[i], _ = roc_curve(test_y==n_classes[i], cv_score[:, i])\n",
    "                roc_auc[i] = auc(fpr[i], tpr[i])\n",
    "\n",
    "            fpr_array.append(fpr)\n",
    "            tpr_array.append(tpr)\n",
    "\n",
    "            auc_array.append(roc_auc)\n",
    "        \n",
    "    return fpr_array, tpr_array, auc_array, acc_array"
   ]
  },
  {
   "cell_type": "code",
   "execution_count": 125,
   "metadata": {
    "collapsed": false
   },
   "outputs": [],
   "source": [
    "forest = random_forest(n_estimators = 500, max_depth=50, min_samples_split = 19, n_jobs =-1)\n",
    "a,b,c,d = getROCandAccuracyOfCLF(forest, df_train.ix[:,best_column_features], y_train)"
   ]
  },
  {
   "cell_type": "code",
   "execution_count": 135,
   "metadata": {
    "collapsed": true
   },
   "outputs": [
    {
     "name": "stdout",
     "output_type": "stream",
     "text": [
      "iteration:2\n",
      "iteration:6\n",
      "iteration:10\n",
      "iteration:14\n",
      "iteration:18\n",
      "iteration:22\n",
      "iteration:26\n",
      "iteration:30\n",
      "iteration:34\n"
     ]
    }
   ],
   "source": [
    "ms_acc = []\n",
    "for min_s in range(2,36,4):\n",
    "    forest = random_forest(n_estimators = 500, max_depth=50, min_samples_split = min_s, n_jobs =-1)\n",
    "    a,b,c,d = getROCandAccuracyOfCLF(forest, df_train.ix[:,best_column_features], y_train)\n",
    "    #Predicting\n",
    "    a =  np.array(d).mean()\n",
    "    ms_acc.append([min_s,float(a)])\n",
    "    print 'iteration:' + str(min_s)"
   ]
  },
  {
   "cell_type": "code",
   "execution_count": 141,
   "metadata": {
    "collapsed": false
   },
   "outputs": [
    {
     "data": {
      "text/plain": [
       "<matplotlib.text.Text at 0x16f91add0>"
      ]
     },
     "execution_count": 141,
     "metadata": {},
     "output_type": "execute_result"
    },
    {
     "data": {
      "image/png": "[encoded data removed]",
      "text/plain": [
       "<matplotlib.figure.Figure at 0x1105b06d0>"
      ]
     },
     "metadata": {},
     "output_type": "display_data"
    }
   ],
   "source": [
    "plt.plot(np.array(ms_acc)[:,0],np.array(ms_acc)[:,1])\n",
    "plt.xlabel('Tuning the min samples split parameter')"
   ]
  },
  {
   "cell_type": "markdown",
   "metadata": {},
   "source": [
    "# Tuning SVM"
   ]
  },
  {
   "cell_type": "code",
   "execution_count": 21,
   "metadata": {
    "collapsed": true
   },
   "outputs": [],
   "source": [
    "def getROCandAccuracyOfCLFSVM(forest_i,X,y,ROC=False):\n",
    "    \"\"\"\n",
    "    This function takes the \n",
    "    \"\"\"\n",
    "    kf = cross_validation.KFold(len(X), n_folds=6,shuffle=True)\n",
    "    #initialize the cv_labels_np_array\n",
    "\n",
    "    cv_labels = np.array(range(len(y)))\n",
    "    cv_score = np.ones((len(y),3))\n",
    "    acc_array = []\n",
    "    \n",
    "    fpr_array = []\n",
    "    \n",
    "    tpr_array = []\n",
    "    \n",
    "    auc_array = []\n",
    "    for train_index, test_index in kf:\n",
    "        #print X.head()\n",
    "        train_x = X.ix[train_index,:]\n",
    "        train_y = y[train_index]\n",
    "\n",
    "        test_x = X.ix[test_index,:]\n",
    "        test_y = y[test_index]\n",
    "\n",
    "        #Train the classifier\n",
    "        #forest_i = random_forest(n_estimators = 1000, max_depth=50, min_samples_split=19, n_jobs =-1 )\n",
    "        forest_i.fit(StandardScaler().fit_transform(train_x), train_y)\n",
    "        cv_labels = forest_i.predict(test_x)\n",
    "        \n",
    "        \n",
    "        \n",
    "        #Compute the accuracy\n",
    "        acc_array.append(sum(test_y==cv_labels)/float(len(cv_labels)))\n",
    "        if(ROC):\n",
    "            #compute the ROC\n",
    "            cv_score = forest_i.decision_function(test_x)\n",
    "            #TP TN\n",
    "            fpr = dict()\n",
    "            tpr = dict()\n",
    "            roc_auc = dict()\n",
    "            n_classes = forest_i.classes_\n",
    "            for i in range(3):\n",
    "                print n_classes[i]\n",
    "                fpr[i], tpr[i], _ = roc_curve(test_y==n_classes[i], cv_score[:, i])\n",
    "                roc_auc[i] = auc(fpr[i], tpr[i])\n",
    "\n",
    "            fpr_array.append(fpr)\n",
    "            tpr_array.append(tpr)\n",
    "\n",
    "            auc_array.append(roc_auc)\n",
    "        \n",
    "    return fpr_array, tpr_array, auc_array, acc_array"
   ]
  },
  {
   "cell_type": "code",
   "execution_count": null,
   "metadata": {
    "collapsed": false
   },
   "outputs": [
    {
     "name": "stdout",
     "output_type": "stream",
     "text": [
      "iteration:2\n",
      "iteration:12"
     ]
    }
   ],
   "source": [
    "msvm_acc = []\n",
    "for C_i in range(2,50,10):\n",
    "    svm_ = svm.SVC(C = C_i)\n",
    "    a,b,c,d = getROCandAccuracyOfCLF(svm_, df_train.ix[:,best_column_features], y_train)\n",
    "    #Predicting\n",
    "    a =  np.array(d).mean()\n",
    "    msvm_acc.append([C_i,float(a)])\n",
    "    print 'iteration:' + str(C_i)"
   ]
  },
  {
   "cell_type": "code",
   "execution_count": null,
   "metadata": {
    "collapsed": false
   },
   "outputs": [],
   "source": [
    "plt.plot(np.array(msvm_acc)[:,0],np.array(msvm_acc)[:,1])\n",
    "plt.xlabel('Tuning the C SVM Parameter')"
   ]
  },
  {
   "cell_type": "code",
   "execution_count": null,
   "metadata": {
    "collapsed": true
   },
   "outputs": [],
   "source": [
    "#ok so lets pick C = 60 since it seems like a stable peak."
   ]
  },
  {
   "cell_type": "markdown",
   "metadata": {},
   "source": [
    "# Plotting the ROC Curves"
   ]
  },
  {
   "cell_type": "code",
   "execution_count": 152,
   "metadata": {
    "collapsed": false
   },
   "outputs": [
    {
     "name": "stdout",
     "output_type": "stream",
     "text": [
      "1\n",
      "2\n",
      "3\n",
      "1\n",
      "2\n",
      "3\n",
      "1\n",
      "2\n",
      "3\n",
      "1\n",
      "2\n",
      "3\n",
      "1\n",
      "2\n",
      "3\n",
      "1\n",
      "2\n",
      "3\n"
     ]
    }
   ],
   "source": [
    "forest = random_forest(n_estimators = 1000, max_depth=50, min_samples_split = 26, n_jobs =-1)\n",
    "a,b,c,d = getROCandAccuracyOfCLF(forest, df_train.ix[:,best_column_features], y_train, ROC = True)"
   ]
  },
  {
   "cell_type": "code",
   "execution_count": 224,
   "metadata": {
    "collapsed": false
   },
   "outputs": [
    {
     "name": "stdout",
     "output_type": "stream",
     "text": [
      "0\n",
      "1\n",
      "2\n"
     ]
    }
   ],
   "source": [
    "fpr = dict()\n",
    "tpr = dict()\n",
    "roc_auc = dict()\n",
    "n_classes = [0,1,2]\n",
    "for i in range(3):\n",
    "    print n_classes[i]\n",
    "    fpr[i]= np.array(pd.DataFrame(pd.DataFrame(a)[i].tolist()).mean().tolist())\n",
    "    tpr[i]= np.array(pd.DataFrame(pd.DataFrame(b)[i].tolist()).mean().tolist())\n",
    "    roc_auc[i] = np.array(pd.DataFrame(pd.DataFrame(c)[i].tolist()).mean().tolist())"
   ]
  },
  {
   "cell_type": "code",
   "execution_count": 229,
   "metadata": {
    "collapsed": false
   },
   "outputs": [
    {
     "data": {
      "image/png": "[encoded data removed]",
      "text/plain": [
       "<matplotlib.figure.Figure at 0x1109d90d0>"
      ]
     },
     "metadata": {},
     "output_type": "display_data"
    },
    {
     "data": {
      "image/png": "[encoded data removed]",
      "text/plain": [
       "<matplotlib.figure.Figure at 0x110d25410>"
      ]
     },
     "metadata": {},
     "output_type": "display_data"
    }
   ],
   "source": [
    "# Plot of a ROC curve for a specific class\n",
    "plt.figure()\n",
    "plt.plot(fpr[2], tpr[2], label='ROC curve (area = %0.2f)' % roc_auc[2])\n",
    "plt.plot([0, 1], [0, 1], 'k--')\n",
    "plt.xlim([0.0, 1.0])\n",
    "plt.ylim([0.0, 1.05])\n",
    "plt.xlabel('False Positive Rate')\n",
    "plt.ylabel('True Positive Rate')\n",
    "plt.title('Receiver operating characteristic example')\n",
    "plt.legend(loc=\"lower right\")\n",
    "plt.show()\n",
    "\n",
    "# Plot ROC curve\n",
    "plt.figure()\n",
    "\n",
    "for i in range(len(n_classes)):\n",
    "    plt.plot(fpr[i], tpr[i], label='ROC curve of class {0} (area = {1:0.2f})'.format(i, float(roc_auc[i])))\n",
    "\n",
    "plt.plot([0, 1], [0, 1], 'k--')\n",
    "plt.xlim([0.0, 1.0])\n",
    "plt.ylim([0.0, 1.05])\n",
    "plt.xlabel('False Positive Rate')\n",
    "plt.ylabel('True Positive Rate')\n",
    "plt.title('Some extension of Receiver operating characteristic to multi-class')\n",
    "plt.legend(loc=\"lower right\")\n",
    "plt.show()"
   ]
  },
  {
   "cell_type": "markdown",
   "metadata": {},
   "source": [
    "## SVM ROC"
   ]
  },
  {
   "cell_type": "code",
   "execution_count": 22,
   "metadata": {
    "collapsed": false
   },
   "outputs": [
    {
     "name": "stdout",
     "output_type": "stream",
     "text": [
      "1\n",
      "2\n",
      "3\n",
      "1\n",
      "2\n",
      "3\n",
      "1\n",
      "2\n",
      "3\n",
      "1\n",
      "2\n",
      "3\n",
      "1\n",
      "2\n",
      "3\n",
      "1\n",
      "2\n",
      "3\n"
     ]
    }
   ],
   "source": [
    "from sklearn.preprocessing import StandardScaler\n",
    "svm_ = svm.SVC(C = 60)\n",
    "a,b,c,d = getROCandAccuracyOfCLFSVM(svm_,  df_train.ix[:,best_column_features], y_train, ROC = True)"
   ]
  },
  {
   "cell_type": "code",
   "execution_count": 24,
   "metadata": {
    "collapsed": false
   },
   "outputs": [
    {
     "name": "stdout",
     "output_type": "stream",
     "text": [
      "0\n",
      "1\n",
      "2\n"
     ]
    },
    {
     "data": {
      "image/png": "[encoded data removed]",
      "text/plain": [
       "<matplotlib.figure.Figure at 0x10e48f050>"
      ]
     },
     "metadata": {},
     "output_type": "display_data"
    },
    {
     "data": {
      "image/png": "[encoded data removed]",
      "text/plain": [
       "<matplotlib.figure.Figure at 0x114012a50>"
      ]
     },
     "metadata": {},
     "output_type": "display_data"
    }
   ],
   "source": [
    "fpr = dict()\n",
    "tpr = dict()\n",
    "roc_auc = dict()\n",
    "n_classes = [0,1,2]\n",
    "for i in range(3):\n",
    "    print n_classes[i]\n",
    "    fpr[i]= np.array(pd.DataFrame(pd.DataFrame(a)[i].tolist()).mean().tolist())\n",
    "    tpr[i]= np.array(pd.DataFrame(pd.DataFrame(b)[i].tolist()).mean().tolist())\n",
    "    roc_auc[i] = np.array(pd.DataFrame(pd.DataFrame(c)[i].tolist()).mean().tolist())\n",
    "    \n",
    "# Plot of a ROC curve for a specific class\n",
    "plt.figure()\n",
    "plt.plot(fpr[2], tpr[2], label='ROC curve (area = %0.2f)' % roc_auc[2])\n",
    "plt.plot([0, 1], [0, 1], 'k--')\n",
    "plt.xlim([0.0, 1.0])\n",
    "plt.ylim([0.0, 1.05])\n",
    "plt.xlabel('False Positive Rate')\n",
    "plt.ylabel('True Positive Rate')\n",
    "plt.title('Receiver operating characteristic example')\n",
    "plt.legend(loc=\"lower right\")\n",
    "plt.show()\n",
    "\n",
    "# Plot ROC curve\n",
    "plt.figure()\n",
    "\n",
    "for i in range(len(n_classes)):\n",
    "    plt.plot(fpr[i], tpr[i], label='ROC curve of class {0} (area = {1:0.2f})'.format(i, float(roc_auc[i])))\n",
    "\n",
    "plt.plot([0, 1], [0, 1], 'k--')\n",
    "plt.xlim([0.0, 1.0])\n",
    "plt.ylim([0.0, 1.05])\n",
    "plt.xlabel('False Positive Rate')\n",
    "plt.ylabel('True Positive Rate')\n",
    "plt.title('Some extension of Receiver operating characteristic to multi-class')\n",
    "plt.legend(loc=\"lower right\")\n",
    "plt.show()"
   ]
  },
  {
   "cell_type": "code",
   "execution_count": 29,
   "metadata": {
    "collapsed": false
   },
   "outputs": [
    {
     "name": "stdout",
     "output_type": "stream",
     "text": [
      "1\n",
      "2\n",
      "3\n",
      "1\n",
      "2\n",
      "3\n",
      "1\n",
      "2\n",
      "3\n",
      "1\n",
      "2\n",
      "3\n",
      "1\n",
      "2\n",
      "3\n",
      "1\n",
      "2\n",
      "3\n"
     ]
    }
   ],
   "source": [
    "from sklearn.neighbors import KNeighborsClassifier\n",
    "neigh = KNeighborsClassifier(n_neighbors=151)\n",
    "a,b,c,d = getROCandAccuracyOfCLF(neigh, df_train.ix[:,-3:], y_train, ROC = True)\n",
    " "
   ]
  },
  {
   "cell_type": "code",
   "execution_count": 30,
   "metadata": {
    "collapsed": false
   },
   "outputs": [
    {
     "name": "stdout",
     "output_type": "stream",
     "text": [
      "0\n",
      "1\n",
      "2\n"
     ]
    }
   ],
   "source": [
    "fpr = dict()\n",
    "tpr = dict()\n",
    "roc_auc = dict()\n",
    "n_classes = [0,1,2]\n",
    "for i in range(3):\n",
    "    print n_classes[i]\n",
    "    fpr[i]= np.array(pd.DataFrame(pd.DataFrame(a)[i].tolist()).mean().tolist())\n",
    "    tpr[i]= np.array(pd.DataFrame(pd.DataFrame(b)[i].tolist()).mean().tolist())\n",
    "    roc_auc[i] = np.array(pd.DataFrame(pd.DataFrame(c)[i].tolist()).mean().tolist())"
   ]
  },
  {
   "cell_type": "code",
   "execution_count": 31,
   "metadata": {
    "collapsed": false
   },
   "outputs": [
    {
     "data": {
      "image/png": "[encoded data removed]",
      "text/plain": [
       "<matplotlib.figure.Figure at 0x11498f8d0>"
      ]
     },
     "metadata": {},
     "output_type": "display_data"
    },
    {
     "data": {
      "image/png": "[encoded data removed]",
      "text/plain": [
       "<matplotlib.figure.Figure at 0x10bc9f890>"
      ]
     },
     "metadata": {},
     "output_type": "display_data"
    }
   ],
   "source": [
    "# Plot of a ROC curve for a specific class\n",
    "plt.figure()\n",
    "plt.plot(fpr[2], tpr[2], label='ROC curve (area = %0.2f)' % roc_auc[2])\n",
    "plt.plot([0, 1], [0, 1], 'k--')\n",
    "plt.xlim([0.0, 1.0])\n",
    "plt.ylim([0.0, 1.05])\n",
    "plt.xlabel('False Positive Rate')\n",
    "plt.ylabel('True Positive Rate')\n",
    "plt.title('Receiver operating characteristic example')\n",
    "plt.legend(loc=\"lower right\")\n",
    "plt.show()\n",
    "\n",
    "# Plot ROC curve\n",
    "plt.figure()\n",
    "\n",
    "for i in range(len(n_classes)):\n",
    "    plt.plot(fpr[i], tpr[i], label='ROC curve of class {0} (area = {1:0.2f})'.format(i, float(roc_auc[i])))\n",
    "\n",
    "plt.plot([0, 1], [0, 1], 'k--')\n",
    "plt.xlim([0.0, 1.0])\n",
    "plt.ylim([0.0, 1.05])\n",
    "plt.xlabel('False Positive Rate')\n",
    "plt.ylabel('True Positive Rate')\n",
    "plt.title('Some extension of Receiver operating characteristic to multi-class')\n",
    "plt.legend(loc=\"lower right\")\n",
    "plt.show()"
   ]
  },
  {
   "cell_type": "markdown",
   "metadata": {},
   "source": [
    "# Evaluating the performace of KNN"
   ]
  },
  {
   "cell_type": "code",
   "execution_count": 86,
   "metadata": {
    "collapsed": false
   },
   "outputs": [
    {
     "data": {
      "text/plain": [
       "KNeighborsClassifier(algorithm='auto', leaf_size=30, metric='minkowski',\n",
       "           metric_params=None, n_neighbors=151, p=2, weights='uniform')"
      ]
     },
     "execution_count": 86,
     "metadata": {},
     "output_type": "execute_result"
    }
   ],
   "source": [
    "neigh = KNeighborsClassifier(n_neighbors=151)\n",
    "neigh.fit(df_train.ix[:,-3:], y_train)"
   ]
  },
  {
   "cell_type": "code",
   "execution_count": 87,
   "metadata": {
    "collapsed": false
   },
   "outputs": [],
   "source": [
    "predictions = neigh.predict(df_test.ix[:,-3:])"
   ]
  },
  {
   "cell_type": "code",
   "execution_count": 88,
   "metadata": {
    "collapsed": false
   },
   "outputs": [
    {
     "data": {
      "text/plain": [
       "0.86610343061955963"
      ]
     },
     "execution_count": 88,
     "metadata": {},
     "output_type": "execute_result"
    }
   ],
   "source": [
    "sum(predictions==y_true)/float(len(y_true))"
   ]
  },
  {
   "cell_type": "code",
   "execution_count": 89,
   "metadata": {
    "collapsed": false
   },
   "outputs": [
    {
     "name": "stderr",
     "output_type": "stream",
     "text": [
      "/Users/fadikfoury/anaconda/lib/python2.7/site-packages/pandas/computation/expressions.py:190: UserWarning: evaluating in Python space because the '*' operator is not supported by numexpr for the bool dtype, use '&' instead\n",
      "  unsupported[op_str]))\n"
     ]
    },
    {
     "data": {
      "text/plain": [
       "0.77940503432494279"
      ]
     },
     "execution_count": 89,
     "metadata": {},
     "output_type": "execute_result"
    }
   ],
   "source": [
    "#Percentage Match at the boundaries\n",
    "sum(  (predictions==y_true)*(w_test_set<0.9) )/float(sum((w_test_set<0.9)))"
   ]
  },
  {
   "cell_type": "code",
   "execution_count": 91,
   "metadata": {
    "collapsed": false
   },
   "outputs": [
    {
     "data": {
      "text/plain": [
       "0.97617664148750727"
      ]
     },
     "execution_count": 91,
     "metadata": {},
     "output_type": "execute_result"
    }
   ],
   "source": [
    "#Percentage Match at the inner regions\n",
    "sum((predictions==y_true)*(w_test_set>0.9) )/float(sum((w_test_set>0.9)))"
   ]
  }
 ],
 "metadata": {
  "kernelspec": {
   "display_name": "Python 2",
   "language": "python",
   "name": "python2"
  },
  "language_info": {
   "codemirror_mode": {
    "name": "ipython",
    "version": 2
   },
   "file_extension": ".py",
   "mimetype": "text/x-python",
   "name": "python",
   "nbconvert_exporter": "python",
   "pygments_lexer": "ipython2",
   "version": "2.7.10"
  }
 },
 "nbformat": 4,
 "nbformat_minor": 0
}
